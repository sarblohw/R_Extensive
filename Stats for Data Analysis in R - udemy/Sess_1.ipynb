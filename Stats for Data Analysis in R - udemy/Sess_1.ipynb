{
 "cells": [
  {
   "cell_type": "code",
   "execution_count": 3,
   "id": "d8d856cc",
   "metadata": {},
   "outputs": [],
   "source": [
    "pacman::p_load('tidyverse')"
   ]
  },
  {
   "cell_type": "code",
   "execution_count": 6,
   "id": "e6fa8994",
   "metadata": {},
   "outputs": [
    {
     "data": {
      "text/html": [
       "<table class=\"dataframe\">\n",
       "<caption>A data.frame: 6 × 17</caption>\n",
       "<thead>\n",
       "\t<tr><th></th><th scope=col>id</th><th scope=col>sex</th><th scope=col>age</th><th scope=col>height</th><th scope=col>weight</th><th scope=col>headband</th><th scope=col>college</th><th scope=col>tattoos</th><th scope=col>tchests</th><th scope=col>parrots</th><th scope=col>favorite.pirate</th><th scope=col>sword.type</th><th scope=col>eyepatch</th><th scope=col>sword.time</th><th scope=col>beard.length</th><th scope=col>fav.pixar</th><th scope=col>grogg</th></tr>\n",
       "\t<tr><th></th><th scope=col>&lt;int&gt;</th><th scope=col>&lt;chr&gt;</th><th scope=col>&lt;dbl&gt;</th><th scope=col>&lt;dbl&gt;</th><th scope=col>&lt;dbl&gt;</th><th scope=col>&lt;chr&gt;</th><th scope=col>&lt;chr&gt;</th><th scope=col>&lt;dbl&gt;</th><th scope=col>&lt;dbl&gt;</th><th scope=col>&lt;dbl&gt;</th><th scope=col>&lt;chr&gt;</th><th scope=col>&lt;chr&gt;</th><th scope=col>&lt;dbl&gt;</th><th scope=col>&lt;dbl&gt;</th><th scope=col>&lt;dbl&gt;</th><th scope=col>&lt;chr&gt;</th><th scope=col>&lt;dbl&gt;</th></tr>\n",
       "</thead>\n",
       "<tbody>\n",
       "\t<tr><th scope=row>1</th><td>1</td><td>male  </td><td>28</td><td>173.11</td><td> 70.5</td><td>yes</td><td>JSSFP</td><td> 9</td><td> 0</td><td>0</td><td>Jack Sparrow</td><td>cutlass </td><td>1</td><td> 0.58</td><td>16</td><td>Monsters, Inc.     </td><td>11</td></tr>\n",
       "\t<tr><th scope=row>2</th><td>2</td><td>male  </td><td>31</td><td>209.25</td><td>105.6</td><td>yes</td><td>JSSFP</td><td> 9</td><td>11</td><td>0</td><td>Jack Sparrow</td><td>cutlass </td><td>0</td><td> 1.11</td><td>21</td><td>WALL-E             </td><td> 9</td></tr>\n",
       "\t<tr><th scope=row>3</th><td>3</td><td>male  </td><td>26</td><td>169.95</td><td> 77.1</td><td>yes</td><td>CCCC </td><td>10</td><td>10</td><td>1</td><td>Jack Sparrow</td><td>cutlass </td><td>1</td><td> 1.44</td><td>19</td><td>Inside Out         </td><td> 7</td></tr>\n",
       "\t<tr><th scope=row>4</th><td>4</td><td>female</td><td>31</td><td>144.29</td><td> 58.5</td><td>no </td><td>JSSFP</td><td> 2</td><td> 0</td><td>2</td><td>Jack Sparrow</td><td>scimitar</td><td>1</td><td>36.11</td><td> 2</td><td>Inside Out         </td><td> 9</td></tr>\n",
       "\t<tr><th scope=row>5</th><td>5</td><td>female</td><td>41</td><td>157.85</td><td> 58.4</td><td>yes</td><td>JSSFP</td><td> 9</td><td> 6</td><td>4</td><td>Hook        </td><td>cutlass </td><td>1</td><td> 0.11</td><td> 0</td><td>Inside Out         </td><td>14</td></tr>\n",
       "\t<tr><th scope=row>6</th><td>6</td><td>male  </td><td>26</td><td>190.20</td><td> 85.4</td><td>yes</td><td>CCCC </td><td> 7</td><td>19</td><td>0</td><td>Jack Sparrow</td><td>cutlass </td><td>1</td><td> 0.59</td><td>17</td><td>Monsters University</td><td> 7</td></tr>\n",
       "</tbody>\n",
       "</table>\n"
      ],
      "text/latex": [
       "A data.frame: 6 × 17\n",
       "\\begin{tabular}{r|lllllllllllllllll}\n",
       "  & id & sex & age & height & weight & headband & college & tattoos & tchests & parrots & favorite.pirate & sword.type & eyepatch & sword.time & beard.length & fav.pixar & grogg\\\\\n",
       "  & <int> & <chr> & <dbl> & <dbl> & <dbl> & <chr> & <chr> & <dbl> & <dbl> & <dbl> & <chr> & <chr> & <dbl> & <dbl> & <dbl> & <chr> & <dbl>\\\\\n",
       "\\hline\n",
       "\t1 & 1 & male   & 28 & 173.11 &  70.5 & yes & JSSFP &  9 &  0 & 0 & Jack Sparrow & cutlass  & 1 &  0.58 & 16 & Monsters, Inc.      & 11\\\\\n",
       "\t2 & 2 & male   & 31 & 209.25 & 105.6 & yes & JSSFP &  9 & 11 & 0 & Jack Sparrow & cutlass  & 0 &  1.11 & 21 & WALL-E              &  9\\\\\n",
       "\t3 & 3 & male   & 26 & 169.95 &  77.1 & yes & CCCC  & 10 & 10 & 1 & Jack Sparrow & cutlass  & 1 &  1.44 & 19 & Inside Out          &  7\\\\\n",
       "\t4 & 4 & female & 31 & 144.29 &  58.5 & no  & JSSFP &  2 &  0 & 2 & Jack Sparrow & scimitar & 1 & 36.11 &  2 & Inside Out          &  9\\\\\n",
       "\t5 & 5 & female & 41 & 157.85 &  58.4 & yes & JSSFP &  9 &  6 & 4 & Hook         & cutlass  & 1 &  0.11 &  0 & Inside Out          & 14\\\\\n",
       "\t6 & 6 & male   & 26 & 190.20 &  85.4 & yes & CCCC  &  7 & 19 & 0 & Jack Sparrow & cutlass  & 1 &  0.59 & 17 & Monsters University &  7\\\\\n",
       "\\end{tabular}\n"
      ],
      "text/markdown": [
       "\n",
       "A data.frame: 6 × 17\n",
       "\n",
       "| <!--/--> | id &lt;int&gt; | sex &lt;chr&gt; | age &lt;dbl&gt; | height &lt;dbl&gt; | weight &lt;dbl&gt; | headband &lt;chr&gt; | college &lt;chr&gt; | tattoos &lt;dbl&gt; | tchests &lt;dbl&gt; | parrots &lt;dbl&gt; | favorite.pirate &lt;chr&gt; | sword.type &lt;chr&gt; | eyepatch &lt;dbl&gt; | sword.time &lt;dbl&gt; | beard.length &lt;dbl&gt; | fav.pixar &lt;chr&gt; | grogg &lt;dbl&gt; |\n",
       "|---|---|---|---|---|---|---|---|---|---|---|---|---|---|---|---|---|---|\n",
       "| 1 | 1 | male   | 28 | 173.11 |  70.5 | yes | JSSFP |  9 |  0 | 0 | Jack Sparrow | cutlass  | 1 |  0.58 | 16 | Monsters, Inc.      | 11 |\n",
       "| 2 | 2 | male   | 31 | 209.25 | 105.6 | yes | JSSFP |  9 | 11 | 0 | Jack Sparrow | cutlass  | 0 |  1.11 | 21 | WALL-E              |  9 |\n",
       "| 3 | 3 | male   | 26 | 169.95 |  77.1 | yes | CCCC  | 10 | 10 | 1 | Jack Sparrow | cutlass  | 1 |  1.44 | 19 | Inside Out          |  7 |\n",
       "| 4 | 4 | female | 31 | 144.29 |  58.5 | no  | JSSFP |  2 |  0 | 2 | Jack Sparrow | scimitar | 1 | 36.11 |  2 | Inside Out          |  9 |\n",
       "| 5 | 5 | female | 41 | 157.85 |  58.4 | yes | JSSFP |  9 |  6 | 4 | Hook         | cutlass  | 1 |  0.11 |  0 | Inside Out          | 14 |\n",
       "| 6 | 6 | male   | 26 | 190.20 |  85.4 | yes | CCCC  |  7 | 19 | 0 | Jack Sparrow | cutlass  | 1 |  0.59 | 17 | Monsters University |  7 |\n",
       "\n"
      ],
      "text/plain": [
       "  id sex    age height weight headband college tattoos tchests parrots\n",
       "1 1  male   28  173.11  70.5  yes      JSSFP    9       0      0      \n",
       "2 2  male   31  209.25 105.6  yes      JSSFP    9      11      0      \n",
       "3 3  male   26  169.95  77.1  yes      CCCC    10      10      1      \n",
       "4 4  female 31  144.29  58.5  no       JSSFP    2       0      2      \n",
       "5 5  female 41  157.85  58.4  yes      JSSFP    9       6      4      \n",
       "6 6  male   26  190.20  85.4  yes      CCCC     7      19      0      \n",
       "  favorite.pirate sword.type eyepatch sword.time beard.length\n",
       "1 Jack Sparrow    cutlass    1         0.58      16          \n",
       "2 Jack Sparrow    cutlass    0         1.11      21          \n",
       "3 Jack Sparrow    cutlass    1         1.44      19          \n",
       "4 Jack Sparrow    scimitar   1        36.11       2          \n",
       "5 Hook            cutlass    1         0.11       0          \n",
       "6 Jack Sparrow    cutlass    1         0.59      17          \n",
       "  fav.pixar           grogg\n",
       "1 Monsters, Inc.      11   \n",
       "2 WALL-E               9   \n",
       "3 Inside Out           7   \n",
       "4 Inside Out           9   \n",
       "5 Inside Out          14   \n",
       "6 Monsters University  7   "
      ]
     },
     "metadata": {},
     "output_type": "display_data"
    }
   ],
   "source": [
    "head(pirates)"
   ]
  },
  {
   "cell_type": "code",
   "execution_count": 7,
   "id": "a515aa04",
   "metadata": {},
   "outputs": [
    {
     "name": "stdout",
     "output_type": "stream",
     "text": [
      "'data.frame':\t1000 obs. of  17 variables:\n",
      " $ id             : int  1 2 3 4 5 6 7 8 9 10 ...\n",
      " $ sex            : chr  \"male\" \"male\" \"male\" \"female\" ...\n",
      " $ age            : num  28 31 26 31 41 26 31 31 28 30 ...\n",
      " $ height         : num  173 209 170 144 158 ...\n",
      " $ weight         : num  70.5 105.6 77.1 58.5 58.4 ...\n",
      " $ headband       : chr  \"yes\" \"yes\" \"yes\" \"no\" ...\n",
      " $ college        : chr  \"JSSFP\" \"JSSFP\" \"CCCC\" \"JSSFP\" ...\n",
      " $ tattoos        : num  9 9 10 2 9 7 9 5 12 12 ...\n",
      " $ tchests        : num  0 11 10 0 6 19 1 13 37 69 ...\n",
      " $ parrots        : num  0 0 1 2 4 0 7 7 2 4 ...\n",
      " $ favorite.pirate: chr  \"Jack Sparrow\" \"Jack Sparrow\" \"Jack Sparrow\" \"Jack Sparrow\" ...\n",
      " $ sword.type     : chr  \"cutlass\" \"cutlass\" \"cutlass\" \"scimitar\" ...\n",
      " $ eyepatch       : num  1 0 1 1 1 1 0 1 0 1 ...\n",
      " $ sword.time     : num  0.58 1.11 1.44 36.11 0.11 ...\n",
      " $ beard.length   : num  16 21 19 2 0 17 1 1 1 25 ...\n",
      " $ fav.pixar      : chr  \"Monsters, Inc.\" \"WALL-E\" \"Inside Out\" \"Inside Out\" ...\n",
      " $ grogg          : num  11 9 7 9 14 7 9 12 16 9 ...\n"
     ]
    }
   ],
   "source": [
    "str(pirates)"
   ]
  },
  {
   "cell_type": "code",
   "execution_count": 9,
   "id": "83b21053",
   "metadata": {
    "scrolled": true
   },
   "outputs": [
    {
     "data": {
      "text/plain": [
       "       id             sex                 age            height     \n",
       " Min.   :   1.0   Length:1000        Min.   :11.00   Min.   :129.8  \n",
       " 1st Qu.: 250.8   Class :character   1st Qu.:24.00   1st Qu.:161.4  \n",
       " Median : 500.5   Mode  :character   Median :27.00   Median :169.9  \n",
       " Mean   : 500.5                      Mean   :27.36   Mean   :170.2  \n",
       " 3rd Qu.: 750.2                      3rd Qu.:31.00   3rd Qu.:178.5  \n",
       " Max.   :1000.0                      Max.   :46.00   Max.   :209.2  \n",
       "     weight         headband           college             tattoos      \n",
       " Min.   : 33.00   Length:1000        Length:1000        Min.   : 0.000  \n",
       " 1st Qu.: 62.08   Class :character   Class :character   1st Qu.: 7.000  \n",
       " Median : 69.55   Mode  :character   Mode  :character   Median :10.000  \n",
       " Mean   : 69.74                                         Mean   : 9.429  \n",
       " 3rd Qu.: 76.90                                         3rd Qu.:12.000  \n",
       " Max.   :105.60                                         Max.   :19.000  \n",
       "    tchests          parrots       favorite.pirate     sword.type       \n",
       " Min.   :  0.00   Min.   : 0.000   Length:1000        Length:1000       \n",
       " 1st Qu.:  6.00   1st Qu.: 1.000   Class :character   Class :character  \n",
       " Median : 15.00   Median : 2.000   Mode  :character   Mode  :character  \n",
       " Mean   : 22.69   Mean   : 2.819                                        \n",
       " 3rd Qu.: 30.00   3rd Qu.: 4.000                                        \n",
       " Max.   :147.00   Max.   :27.000                                        \n",
       "    eyepatch       sword.time        beard.length    fav.pixar        \n",
       " Min.   :0.000   Min.   :  0.0000   Min.   : 0.00   Length:1000       \n",
       " 1st Qu.:0.000   1st Qu.:  0.2175   1st Qu.: 0.00   Class :character  \n",
       " Median :1.000   Median :  0.5850   Median : 9.00   Mode  :character  \n",
       " Mean   :0.658   Mean   :  2.5427   Mean   :10.38                     \n",
       " 3rd Qu.:1.000   3rd Qu.:  1.3300   3rd Qu.:20.00                     \n",
       " Max.   :1.000   Max.   :169.8800   Max.   :40.00                     \n",
       "     grogg      \n",
       " Min.   : 0.00  \n",
       " 1st Qu.: 8.00  \n",
       " Median :10.00  \n",
       " Mean   :10.14  \n",
       " 3rd Qu.:12.00  \n",
       " Max.   :21.00  "
      ]
     },
     "metadata": {},
     "output_type": "display_data"
    }
   ],
   "source": [
    "summary(pirates)"
   ]
  },
  {
   "cell_type": "code",
   "execution_count": 10,
   "id": "9d77c588",
   "metadata": {},
   "outputs": [
    {
     "data": {
      "text/html": [
       "<style>\n",
       ".list-inline {list-style: none; margin:0; padding: 0}\n",
       ".list-inline>li {display: inline-block}\n",
       ".list-inline>li:not(:last-child)::after {content: \"\\00b7\"; padding: 0 .5ex}\n",
       "</style>\n",
       "<ol class=list-inline><li>'id'</li><li>'sex'</li><li>'age'</li><li>'height'</li><li>'weight'</li><li>'headband'</li><li>'college'</li><li>'tattoos'</li><li>'tchests'</li><li>'parrots'</li><li>'favorite.pirate'</li><li>'sword.type'</li><li>'eyepatch'</li><li>'sword.time'</li><li>'beard.length'</li><li>'fav.pixar'</li><li>'grogg'</li></ol>\n"
      ],
      "text/latex": [
       "\\begin{enumerate*}\n",
       "\\item 'id'\n",
       "\\item 'sex'\n",
       "\\item 'age'\n",
       "\\item 'height'\n",
       "\\item 'weight'\n",
       "\\item 'headband'\n",
       "\\item 'college'\n",
       "\\item 'tattoos'\n",
       "\\item 'tchests'\n",
       "\\item 'parrots'\n",
       "\\item 'favorite.pirate'\n",
       "\\item 'sword.type'\n",
       "\\item 'eyepatch'\n",
       "\\item 'sword.time'\n",
       "\\item 'beard.length'\n",
       "\\item 'fav.pixar'\n",
       "\\item 'grogg'\n",
       "\\end{enumerate*}\n"
      ],
      "text/markdown": [
       "1. 'id'\n",
       "2. 'sex'\n",
       "3. 'age'\n",
       "4. 'height'\n",
       "5. 'weight'\n",
       "6. 'headband'\n",
       "7. 'college'\n",
       "8. 'tattoos'\n",
       "9. 'tchests'\n",
       "10. 'parrots'\n",
       "11. 'favorite.pirate'\n",
       "12. 'sword.type'\n",
       "13. 'eyepatch'\n",
       "14. 'sword.time'\n",
       "15. 'beard.length'\n",
       "16. 'fav.pixar'\n",
       "17. 'grogg'\n",
       "\n",
       "\n"
      ],
      "text/plain": [
       " [1] \"id\"              \"sex\"             \"age\"             \"height\"         \n",
       " [5] \"weight\"          \"headband\"        \"college\"         \"tattoos\"        \n",
       " [9] \"tchests\"         \"parrots\"         \"favorite.pirate\" \"sword.type\"     \n",
       "[13] \"eyepatch\"        \"sword.time\"      \"beard.length\"    \"fav.pixar\"      \n",
       "[17] \"grogg\"          "
      ]
     },
     "metadata": {},
     "output_type": "display_data"
    }
   ],
   "source": [
    "names(pirates)"
   ]
  },
  {
   "cell_type": "code",
   "execution_count": 12,
   "id": "96d8410f",
   "metadata": {},
   "outputs": [
    {
     "data": {
      "text/plain": [
       "\n",
       "female   male  other \n",
       "   464    490     46 "
      ]
     },
     "metadata": {},
     "output_type": "display_data"
    }
   ],
   "source": [
    "table(pirates$sex)"
   ]
  },
  {
   "cell_type": "code",
   "execution_count": 37,
   "id": "63ec87a4",
   "metadata": {},
   "outputs": [],
   "source": [
    "x <- c(1,2,3,4,5,6,7,8,9,NA,10)"
   ]
  },
  {
   "cell_type": "code",
   "execution_count": 38,
   "id": "6de37dcc",
   "metadata": {},
   "outputs": [
    {
     "name": "stdout",
     "output_type": "stream",
     "text": [
      "[1] FALSE\n",
      "[1] FALSE\n",
      "[1] FALSE\n",
      "[1] FALSE\n",
      "[1] FALSE\n",
      "[1] FALSE\n",
      "[1] FALSE\n",
      "[1] FALSE\n",
      "[1] FALSE\n",
      "[1] TRUE\n",
      "[1] FALSE\n"
     ]
    }
   ],
   "source": [
    "for (i in x) {\n",
    "    print(is.na(i))\n",
    "}"
   ]
  },
  {
   "cell_type": "code",
   "execution_count": 39,
   "id": "30f1e366",
   "metadata": {},
   "outputs": [
    {
     "data": {
      "text/html": [
       "&lt;NA&gt;"
      ],
      "text/latex": [
       "<NA>"
      ],
      "text/markdown": [
       "&lt;NA&gt;"
      ],
      "text/plain": [
       "[1] NA"
      ]
     },
     "metadata": {},
     "output_type": "display_data"
    }
   ],
   "source": [
    "mean(x)"
   ]
  },
  {
   "cell_type": "code",
   "execution_count": 42,
   "id": "67c562e3",
   "metadata": {},
   "outputs": [
    {
     "name": "stdout",
     "output_type": "stream",
     "text": [
      "[1] 0\n",
      "[1] 1\n",
      "[1] 2\n",
      "[1] 3\n",
      "[1] 4\n",
      "[1] 5\n",
      "[1] 6\n",
      "[1] 7\n",
      "[1] 8\n",
      "[1] 9\n"
     ]
    }
   ],
   "source": [
    "i = 0\n",
    "\n",
    "while (i < 10) {\n",
    "    print(i)\n",
    "    i = i + 1\n",
    "} "
   ]
  },
  {
   "cell_type": "code",
   "execution_count": 44,
   "id": "a769c19f",
   "metadata": {},
   "outputs": [
    {
     "name": "stdout",
     "output_type": "stream",
     "text": [
      "[1] \"odd\"\n"
     ]
    }
   ],
   "source": [
    "x = 11\n",
    "\n",
    "if (x %% 2 == 1) {\n",
    "    print('odd')\n",
    "} else {\n",
    "    print('even')\n",
    "}"
   ]
  },
  {
   "cell_type": "code",
   "execution_count": 45,
   "id": "fb8a092b",
   "metadata": {},
   "outputs": [],
   "source": [
    "x <- c(1,2,3,4,5,6,7,8,9,NA,10)"
   ]
  },
  {
   "cell_type": "code",
   "execution_count": 46,
   "id": "a8047c83",
   "metadata": {},
   "outputs": [
    {
     "data": {
      "text/html": [
       "&lt;NA&gt;"
      ],
      "text/latex": [
       "<NA>"
      ],
      "text/markdown": [
       "&lt;NA&gt;"
      ],
      "text/plain": [
       "[1] NA"
      ]
     },
     "metadata": {},
     "output_type": "display_data"
    }
   ],
   "source": [
    "mean(x)"
   ]
  },
  {
   "cell_type": "code",
   "execution_count": 47,
   "id": "548eb5a4",
   "metadata": {},
   "outputs": [
    {
     "data": {
      "text/html": [
       "5.5"
      ],
      "text/latex": [
       "5.5"
      ],
      "text/markdown": [
       "5.5"
      ],
      "text/plain": [
       "[1] 5.5"
      ]
     },
     "metadata": {},
     "output_type": "display_data"
    }
   ],
   "source": [
    "mean(x, na.rm = T)"
   ]
  },
  {
   "cell_type": "code",
   "execution_count": 48,
   "id": "2f3a73f4",
   "metadata": {},
   "outputs": [],
   "source": [
    "x <- c(1,2,3,4,5,6,7,8,9,NA,10,1000)"
   ]
  },
  {
   "cell_type": "code",
   "execution_count": 49,
   "id": "8090676d",
   "metadata": {},
   "outputs": [
    {
     "data": {
      "text/html": [
       "95.9090909090909"
      ],
      "text/latex": [
       "95.9090909090909"
      ],
      "text/markdown": [
       "95.9090909090909"
      ],
      "text/plain": [
       "[1] 95.90909"
      ]
     },
     "metadata": {},
     "output_type": "display_data"
    }
   ],
   "source": [
    "mean(x, na.rm = T)"
   ]
  },
  {
   "cell_type": "code",
   "execution_count": 50,
   "id": "f7830484",
   "metadata": {},
   "outputs": [
    {
     "data": {
      "text/html": [
       "6"
      ],
      "text/latex": [
       "6"
      ],
      "text/markdown": [
       "6"
      ],
      "text/plain": [
       "[1] 6"
      ]
     },
     "metadata": {},
     "output_type": "display_data"
    }
   ],
   "source": [
    "mean(x, na.rm = T, trim = 0.1)"
   ]
  },
  {
   "cell_type": "code",
   "execution_count": 52,
   "id": "53f9bc9f",
   "metadata": {},
   "outputs": [
    {
     "data": {
      "text/html": [
       "6"
      ],
      "text/latex": [
       "6"
      ],
      "text/markdown": [
       "6"
      ],
      "text/plain": [
       "[1] 6"
      ]
     },
     "metadata": {},
     "output_type": "display_data"
    }
   ],
   "source": [
    "median(x, na.rm=TRUE)"
   ]
  },
  {
   "cell_type": "code",
   "execution_count": 53,
   "id": "a58e155e",
   "metadata": {},
   "outputs": [
    {
     "data": {
      "text/html": [
       "<style>\n",
       ".list-inline {list-style: none; margin:0; padding: 0}\n",
       ".list-inline>li {display: inline-block}\n",
       ".list-inline>li:not(:last-child)::after {content: \"\\00b7\"; padding: 0 .5ex}\n",
       "</style>\n",
       "<ol class=list-inline><li>1</li><li>2</li><li>3</li><li>4</li><li>5</li><li>6</li><li>7</li><li>8</li><li>9</li><li>10</li><li>1000</li></ol>\n"
      ],
      "text/latex": [
       "\\begin{enumerate*}\n",
       "\\item 1\n",
       "\\item 2\n",
       "\\item 3\n",
       "\\item 4\n",
       "\\item 5\n",
       "\\item 6\n",
       "\\item 7\n",
       "\\item 8\n",
       "\\item 9\n",
       "\\item 10\n",
       "\\item 1000\n",
       "\\end{enumerate*}\n"
      ],
      "text/markdown": [
       "1. 1\n",
       "2. 2\n",
       "3. 3\n",
       "4. 4\n",
       "5. 5\n",
       "6. 6\n",
       "7. 7\n",
       "8. 8\n",
       "9. 9\n",
       "10. 10\n",
       "11. 1000\n",
       "\n",
       "\n"
      ],
      "text/plain": [
       " [1]    1    2    3    4    5    6    7    8    9   10 1000"
      ]
     },
     "metadata": {},
     "output_type": "display_data"
    }
   ],
   "source": [
    "sort(x)"
   ]
  },
  {
   "cell_type": "code",
   "execution_count": 54,
   "id": "ffba49b9",
   "metadata": {},
   "outputs": [
    {
     "data": {
      "text/plain": [
       "x\n",
       "   1    2    3    4    5    6    7    8    9   10 1000 \n",
       "   1    1    1    1    1    1    1    1    1    1    1 "
      ]
     },
     "metadata": {},
     "output_type": "display_data"
    }
   ],
   "source": [
    "table(x)"
   ]
  },
  {
   "cell_type": "code",
   "execution_count": 61,
   "id": "e9568c3a",
   "metadata": {},
   "outputs": [],
   "source": [
    "x <- c(1,2,3,4,5,5,5,5,6,7,8,9,NA,10,1000)"
   ]
  },
  {
   "cell_type": "code",
   "execution_count": 62,
   "id": "f3b808c1",
   "metadata": {},
   "outputs": [
    {
     "data": {
      "text/html": [
       "<style>\n",
       ".list-inline {list-style: none; margin:0; padding: 0}\n",
       ".list-inline>li {display: inline-block}\n",
       ".list-inline>li:not(:last-child)::after {content: \"\\00b7\"; padding: 0 .5ex}\n",
       "</style>\n",
       "<ol class=list-inline><li>1</li><li>2</li><li>3</li><li>4</li><li>5</li><li>5</li><li>5</li><li>5</li><li>6</li><li>7</li><li>8</li><li>9</li><li>&lt;NA&gt;</li><li>10</li><li>1000</li></ol>\n"
      ],
      "text/latex": [
       "\\begin{enumerate*}\n",
       "\\item 1\n",
       "\\item 2\n",
       "\\item 3\n",
       "\\item 4\n",
       "\\item 5\n",
       "\\item 5\n",
       "\\item 5\n",
       "\\item 5\n",
       "\\item 6\n",
       "\\item 7\n",
       "\\item 8\n",
       "\\item 9\n",
       "\\item <NA>\n",
       "\\item 10\n",
       "\\item 1000\n",
       "\\end{enumerate*}\n"
      ],
      "text/markdown": [
       "1. 1\n",
       "2. 2\n",
       "3. 3\n",
       "4. 4\n",
       "5. 5\n",
       "6. 5\n",
       "7. 5\n",
       "8. 5\n",
       "9. 6\n",
       "10. 7\n",
       "11. 8\n",
       "12. 9\n",
       "13. &lt;NA&gt;\n",
       "14. 10\n",
       "15. 1000\n",
       "\n",
       "\n"
      ],
      "text/plain": [
       " [1]    1    2    3    4    5    5    5    5    6    7    8    9   NA   10 1000"
      ]
     },
     "metadata": {},
     "output_type": "display_data"
    }
   ],
   "source": [
    "x"
   ]
  },
  {
   "cell_type": "code",
   "execution_count": 63,
   "id": "9f12eebb",
   "metadata": {},
   "outputs": [
    {
     "data": {
      "text/html": [
       "'5'"
      ],
      "text/latex": [
       "'5'"
      ],
      "text/markdown": [
       "'5'"
      ],
      "text/plain": [
       "[1] \"5\""
      ]
     },
     "metadata": {},
     "output_type": "display_data"
    }
   ],
   "source": [
    "names(sort(table(x), decreasing = TRUE)[1])"
   ]
  },
  {
   "cell_type": "code",
   "execution_count": 64,
   "id": "38f42df7",
   "metadata": {},
   "outputs": [
    {
     "data": {
      "text/html": [
       "<strong>5:</strong> 4"
      ],
      "text/latex": [
       "\\textbf{5:} 4"
      ],
      "text/markdown": [
       "**5:** 4"
      ],
      "text/plain": [
       "5 \n",
       "4 "
      ]
     },
     "metadata": {},
     "output_type": "display_data"
    }
   ],
   "source": [
    "sort(table(x), decreasing = TRUE)[1]"
   ]
  },
  {
   "cell_type": "code",
   "execution_count": 66,
   "id": "479c8b23",
   "metadata": {},
   "outputs": [
    {
     "data": {
      "text/html": [
       "<style>\n",
       ".list-inline {list-style: none; margin:0; padding: 0}\n",
       ".list-inline>li {display: inline-block}\n",
       ".list-inline>li:not(:last-child)::after {content: \"\\00b7\"; padding: 0 .5ex}\n",
       "</style>\n",
       "<ol class=list-inline><li>1</li><li>1000</li></ol>\n"
      ],
      "text/latex": [
       "\\begin{enumerate*}\n",
       "\\item 1\n",
       "\\item 1000\n",
       "\\end{enumerate*}\n"
      ],
      "text/markdown": [
       "1. 1\n",
       "2. 1000\n",
       "\n",
       "\n"
      ],
      "text/plain": [
       "[1]    1 1000"
      ]
     },
     "metadata": {},
     "output_type": "display_data"
    }
   ],
   "source": [
    "range(x, na.rm=T)"
   ]
  },
  {
   "cell_type": "code",
   "execution_count": 67,
   "id": "82a3127b",
   "metadata": {},
   "outputs": [
    {
     "data": {
      "text/html": [
       "<style>\n",
       ".dl-inline {width: auto; margin:0; padding: 0}\n",
       ".dl-inline>dt, .dl-inline>dd {float: none; width: auto; display: inline-block}\n",
       ".dl-inline>dt::after {content: \":\\0020\"; padding-right: .5ex}\n",
       ".dl-inline>dt:not(:first-of-type) {padding-left: .5ex}\n",
       "</style><dl class=dl-inline><dt>0%</dt><dd>1</dd><dt>25%</dt><dd>4.25</dd><dt>50%</dt><dd>5</dd><dt>75%</dt><dd>7.75</dd><dt>100%</dt><dd>1000</dd></dl>\n"
      ],
      "text/latex": [
       "\\begin{description*}\n",
       "\\item[0\\textbackslash{}\\%] 1\n",
       "\\item[25\\textbackslash{}\\%] 4.25\n",
       "\\item[50\\textbackslash{}\\%] 5\n",
       "\\item[75\\textbackslash{}\\%] 7.75\n",
       "\\item[100\\textbackslash{}\\%] 1000\n",
       "\\end{description*}\n"
      ],
      "text/markdown": [
       "0%\n",
       ":   125%\n",
       ":   4.2550%\n",
       ":   575%\n",
       ":   7.75100%\n",
       ":   1000\n",
       "\n"
      ],
      "text/plain": [
       "     0%     25%     50%     75%    100% \n",
       "   1.00    4.25    5.00    7.75 1000.00 "
      ]
     },
     "metadata": {},
     "output_type": "display_data"
    }
   ],
   "source": [
    "quantile(x, na.rm=T)"
   ]
  },
  {
   "cell_type": "code",
   "execution_count": 69,
   "id": "07a2587e",
   "metadata": {},
   "outputs": [
    {
     "data": {
      "text/html": [
       "3.5"
      ],
      "text/latex": [
       "3.5"
      ],
      "text/markdown": [
       "3.5"
      ],
      "text/plain": [
       "[1] 3.5"
      ]
     },
     "metadata": {},
     "output_type": "display_data"
    }
   ],
   "source": [
    "IQR(x, na.rm = TRUE)"
   ]
  },
  {
   "cell_type": "code",
   "execution_count": 70,
   "id": "14334498",
   "metadata": {},
   "outputs": [
    {
     "data": {
      "text/html": [
       "265.834162962179"
      ],
      "text/latex": [
       "265.834162962179"
      ],
      "text/markdown": [
       "265.834162962179"
      ],
      "text/plain": [
       "[1] 265.8342"
      ]
     },
     "metadata": {},
     "output_type": "display_data"
    }
   ],
   "source": [
    "sd(x, na.rm = T)"
   ]
  },
  {
   "cell_type": "code",
   "execution_count": 71,
   "id": "d46031fa",
   "metadata": {},
   "outputs": [
    {
     "data": {
      "text/html": [
       "15"
      ],
      "text/latex": [
       "15"
      ],
      "text/markdown": [
       "15"
      ],
      "text/plain": [
       "[1] 15"
      ]
     },
     "metadata": {},
     "output_type": "display_data"
    }
   ],
   "source": [
    "length(x)"
   ]
  },
  {
   "cell_type": "code",
   "execution_count": null,
   "id": "9297e4fc",
   "metadata": {},
   "outputs": [],
   "source": []
  }
 ],
 "metadata": {
  "kernelspec": {
   "display_name": "R",
   "language": "R",
   "name": "ir"
  },
  "language_info": {
   "codemirror_mode": "r",
   "file_extension": ".r",
   "mimetype": "text/x-r-source",
   "name": "R",
   "pygments_lexer": "r",
   "version": "4.2.2"
  }
 },
 "nbformat": 4,
 "nbformat_minor": 5
}
