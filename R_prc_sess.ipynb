{
 "cells": [
  {
   "cell_type": "markdown",
   "id": "2ea5738d",
   "metadata": {},
   "source": [
    "# R_Extensive"
   ]
  },
  {
   "cell_type": "code",
   "execution_count": 1,
   "id": "767c2a72",
   "metadata": {},
   "outputs": [
    {
     "data": {
      "text/html": [
       "'Hello World'"
      ],
      "text/latex": [
       "'Hello World'"
      ],
      "text/markdown": [
       "'Hello World'"
      ],
      "text/plain": [
       "[1] \"Hello World\""
      ]
     },
     "metadata": {},
     "output_type": "display_data"
    },
    {
     "data": {
      "text/html": [
       "25"
      ],
      "text/latex": [
       "25"
      ],
      "text/markdown": [
       "25"
      ],
      "text/plain": [
       "[1] 25"
      ]
     },
     "metadata": {},
     "output_type": "display_data"
    },
    {
     "data": {
      "text/html": [
       "15"
      ],
      "text/latex": [
       "15"
      ],
      "text/markdown": [
       "15"
      ],
      "text/plain": [
       "[1] 15"
      ]
     },
     "metadata": {},
     "output_type": "display_data"
    }
   ],
   "source": [
    "\"Hello World\"\n",
    "5*5\n",
    "7+8"
   ]
  },
  {
   "cell_type": "code",
   "execution_count": 2,
   "id": "521f180f",
   "metadata": {},
   "outputs": [
    {
     "data": {
      "text/html": [
       "<style>\n",
       ".list-inline {list-style: none; margin:0; padding: 0}\n",
       ".list-inline>li {display: inline-block}\n",
       ".list-inline>li:not(:last-child)::after {content: \"\\00b7\"; padding: 0 .5ex}\n",
       "</style>\n",
       "<ol class=list-inline><li>1</li><li>2</li><li>3</li><li>4</li><li>5</li><li>6</li><li>7</li><li>8</li><li>9</li><li>10</li></ol>\n"
      ],
      "text/latex": [
       "\\begin{enumerate*}\n",
       "\\item 1\n",
       "\\item 2\n",
       "\\item 3\n",
       "\\item 4\n",
       "\\item 5\n",
       "\\item 6\n",
       "\\item 7\n",
       "\\item 8\n",
       "\\item 9\n",
       "\\item 10\n",
       "\\end{enumerate*}\n"
      ],
      "text/markdown": [
       "1. 1\n",
       "2. 2\n",
       "3. 3\n",
       "4. 4\n",
       "5. 5\n",
       "6. 6\n",
       "7. 7\n",
       "8. 8\n",
       "9. 9\n",
       "10. 10\n",
       "\n",
       "\n"
      ],
      "text/plain": [
       " [1]  1  2  3  4  5  6  7  8  9 10"
      ]
     },
     "metadata": {},
     "output_type": "display_data"
    }
   ],
   "source": [
    "1:10"
   ]
  },
  {
   "cell_type": "code",
   "execution_count": 3,
   "id": "e07ccc2e",
   "metadata": {},
   "outputs": [
    {
     "data": {
      "image/png": "[encoded data removed]",
      "text/plain": [
       "plot without title"
      ]
     },
     "metadata": {
      "image/png": {
       "height": 420,
       "width": 420
      }
     },
     "output_type": "display_data"
    }
   ],
   "source": [
    "plot(1:10)"
   ]
  },
  {
   "cell_type": "code",
   "execution_count": 4,
   "id": "75243335",
   "metadata": {},
   "outputs": [
    {
     "data": {
      "text/html": [
       "'Hello World'"
      ],
      "text/latex": [
       "'Hello World'"
      ],
      "text/markdown": [
       "'Hello World'"
      ],
      "text/plain": [
       "[1] \"Hello World\""
      ]
     },
     "metadata": {},
     "output_type": "display_data"
    }
   ],
   "source": [
    "\"Hello World\""
   ]
  },
  {
   "cell_type": "code",
   "execution_count": 5,
   "id": "a3ca5948",
   "metadata": {},
   "outputs": [
    {
     "name": "stdout",
     "output_type": "stream",
     "text": [
      "[1] 1\n",
      "[1] 2\n",
      "[1] 3\n",
      "[1] 4\n",
      "[1] 5\n",
      "[1] 6\n",
      "[1] 7\n",
      "[1] 8\n",
      "[1] 9\n",
      "[1] 10\n"
     ]
    }
   ],
   "source": [
    "for (x in 1:10) {\n",
    "    print(x)\n",
    "}"
   ]
  },
  {
   "cell_type": "code",
   "execution_count": 6,
   "id": "2a736a56",
   "metadata": {},
   "outputs": [],
   "source": [
    "#comment\n",
    "\n",
    "#multi\n",
    "#line\n",
    "#comments"
   ]
  },
  {
   "cell_type": "code",
   "execution_count": 7,
   "id": "dccfedd5",
   "metadata": {},
   "outputs": [
    {
     "data": {
      "text/html": [
       "'sam'"
      ],
      "text/latex": [
       "'sam'"
      ],
      "text/markdown": [
       "'sam'"
      ],
      "text/plain": [
       "[1] \"sam\""
      ]
     },
     "metadata": {},
     "output_type": "display_data"
    }
   ],
   "source": [
    "x <- 'sam'\n",
    "x"
   ]
  },
  {
   "cell_type": "code",
   "execution_count": 8,
   "id": "a4a2c2a9",
   "metadata": {},
   "outputs": [],
   "source": [
    "x = 6"
   ]
  },
  {
   "cell_type": "code",
   "execution_count": 9,
   "id": "820a7bb6",
   "metadata": {},
   "outputs": [
    {
     "data": {
      "text/html": [
       "6"
      ],
      "text/latex": [
       "6"
      ],
      "text/markdown": [
       "6"
      ],
      "text/plain": [
       "[1] 6"
      ]
     },
     "metadata": {},
     "output_type": "display_data"
    }
   ],
   "source": [
    "x"
   ]
  },
  {
   "cell_type": "markdown",
   "id": "e95595f3",
   "metadata": {},
   "source": [
    "##### Basic data types in R can be divided into the following types:\n",
    "\n",
    "- numeric - (10.5, 55, 787)\n",
    "- integer - (1L, 55L, 100L, where the letter \"L\" declares this as an integer)\n",
    "- complex - (9 + 3i, where \"i\" is the imaginary part)\n",
    "- character (a.k.a. string) - (\"k\", \"R is exciting\", \"FALSE\", \"11.5\")\n",
    "- logical (a.k.a. boolean) - (TRUE or FALSE)\n",
    "\n",
    "*We can use the class() function to check the data type of a variable*"
   ]
  },
  {
   "cell_type": "code",
   "execution_count": 10,
   "id": "8f4a2bc7",
   "metadata": {},
   "outputs": [
    {
     "data": {
      "text/html": [
       "'numeric'"
      ],
      "text/latex": [
       "'numeric'"
      ],
      "text/markdown": [
       "'numeric'"
      ],
      "text/plain": [
       "[1] \"numeric\""
      ]
     },
     "metadata": {},
     "output_type": "display_data"
    }
   ],
   "source": [
    "class(5)"
   ]
  },
  {
   "cell_type": "code",
   "execution_count": 11,
   "id": "ed9a05a0",
   "metadata": {},
   "outputs": [
    {
     "data": {
      "text/html": [
       "15"
      ],
      "text/latex": [
       "15"
      ],
      "text/markdown": [
       "15"
      ],
      "text/plain": [
       "[1] 15"
      ]
     },
     "metadata": {},
     "output_type": "display_data"
    }
   ],
   "source": [
    "max(5, 10, 15)"
   ]
  },
  {
   "cell_type": "code",
   "execution_count": 12,
   "id": "00164db8",
   "metadata": {},
   "outputs": [
    {
     "data": {
      "text/html": [
       "5"
      ],
      "text/latex": [
       "5"
      ],
      "text/markdown": [
       "5"
      ],
      "text/plain": [
       "[1] 5"
      ]
     },
     "metadata": {},
     "output_type": "display_data"
    }
   ],
   "source": [
    "min(5, 10, 15)"
   ]
  },
  {
   "cell_type": "code",
   "execution_count": 13,
   "id": "43fdbaca",
   "metadata": {},
   "outputs": [
    {
     "data": {
      "text/html": [
       "4"
      ],
      "text/latex": [
       "4"
      ],
      "text/markdown": [
       "4"
      ],
      "text/plain": [
       "[1] 4"
      ]
     },
     "metadata": {},
     "output_type": "display_data"
    }
   ],
   "source": [
    "sqrt(16)"
   ]
  },
  {
   "cell_type": "code",
   "execution_count": 14,
   "id": "ccd0fd9f",
   "metadata": {},
   "outputs": [
    {
     "data": {
      "text/html": [
       "4.7"
      ],
      "text/latex": [
       "4.7"
      ],
      "text/markdown": [
       "4.7"
      ],
      "text/plain": [
       "[1] 4.7"
      ]
     },
     "metadata": {},
     "output_type": "display_data"
    }
   ],
   "source": [
    "abs(-4.7)"
   ]
  },
  {
   "cell_type": "code",
   "execution_count": 15,
   "id": "a6158100",
   "metadata": {},
   "outputs": [
    {
     "data": {
      "text/html": [
       "2"
      ],
      "text/latex": [
       "2"
      ],
      "text/markdown": [
       "2"
      ],
      "text/plain": [
       "[1] 2"
      ]
     },
     "metadata": {},
     "output_type": "display_data"
    },
    {
     "data": {
      "text/html": [
       "1"
      ],
      "text/latex": [
       "1"
      ],
      "text/markdown": [
       "1"
      ],
      "text/plain": [
       "[1] 1"
      ]
     },
     "metadata": {},
     "output_type": "display_data"
    }
   ],
   "source": [
    "ceiling(1.4)\n",
    "floor(1.4)"
   ]
  },
  {
   "cell_type": "code",
   "execution_count": 16,
   "id": "174be2f0",
   "metadata": {},
   "outputs": [
    {
     "data": {
      "text/html": [
       "'hello'"
      ],
      "text/latex": [
       "'hello'"
      ],
      "text/markdown": [
       "'hello'"
      ],
      "text/plain": [
       "[1] \"hello\""
      ]
     },
     "metadata": {},
     "output_type": "display_data"
    },
    {
     "data": {
      "text/html": [
       "'hello'"
      ],
      "text/latex": [
       "'hello'"
      ],
      "text/markdown": [
       "'hello'"
      ],
      "text/plain": [
       "[1] \"hello\""
      ]
     },
     "metadata": {},
     "output_type": "display_data"
    }
   ],
   "source": [
    "\"hello\"\n",
    "'hello'"
   ]
  },
  {
   "cell_type": "code",
   "execution_count": 17,
   "id": "ab61c440",
   "metadata": {},
   "outputs": [
    {
     "data": {
      "text/html": [
       "'Lorem ipsum dolor sit amet,\\nconsectetur adipiscing elit,\\nsed do eiusmod tempor incididunt\\nut labore et dolore magna aliqua.'"
      ],
      "text/latex": [
       "'Lorem ipsum dolor sit amet,\\textbackslash{}nconsectetur adipiscing elit,\\textbackslash{}nsed do eiusmod tempor incididunt\\textbackslash{}nut labore et dolore magna aliqua.'"
      ],
      "text/markdown": [
       "'Lorem ipsum dolor sit amet,\\nconsectetur adipiscing elit,\\nsed do eiusmod tempor incididunt\\nut labore et dolore magna aliqua.'"
      ],
      "text/plain": [
       "[1] \"Lorem ipsum dolor sit amet,\\nconsectetur adipiscing elit,\\nsed do eiusmod tempor incididunt\\nut labore et dolore magna aliqua.\""
      ]
     },
     "metadata": {},
     "output_type": "display_data"
    }
   ],
   "source": [
    "str <- \"Lorem ipsum dolor sit amet,\n",
    "consectetur adipiscing elit,\n",
    "sed do eiusmod tempor incididunt\n",
    "ut labore et dolore magna aliqua.\"\n",
    "str"
   ]
  },
  {
   "cell_type": "code",
   "execution_count": 18,
   "id": "437c1dc7",
   "metadata": {},
   "outputs": [
    {
     "name": "stdout",
     "output_type": "stream",
     "text": [
      "Lorem ipsum dolor sit amet,\n",
      "consectetur adipiscing elit,\n",
      "sed do eiusmod tempor incididunt\n",
      "ut labore et dolore magna aliqua."
     ]
    }
   ],
   "source": [
    "str <- \"Lorem ipsum dolor sit amet,\n",
    "consectetur adipiscing elit,\n",
    "sed do eiusmod tempor incididunt\n",
    "ut labore et dolore magna aliqua.\"\n",
    "\n",
    "cat(str)"
   ]
  },
  {
   "cell_type": "code",
   "execution_count": 19,
   "id": "6d498f55",
   "metadata": {},
   "outputs": [
    {
     "data": {
      "text/html": [
       "123"
      ],
      "text/latex": [
       "123"
      ],
      "text/markdown": [
       "123"
      ],
      "text/plain": [
       "[1] 123"
      ]
     },
     "metadata": {},
     "output_type": "display_data"
    }
   ],
   "source": [
    "nchar(str)"
   ]
  },
  {
   "cell_type": "code",
   "execution_count": 20,
   "id": "6a82b9a9",
   "metadata": {},
   "outputs": [
    {
     "data": {
      "text/html": [
       "TRUE"
      ],
      "text/latex": [
       "TRUE"
      ],
      "text/markdown": [
       "TRUE"
      ],
      "text/plain": [
       "[1] TRUE"
      ]
     },
     "metadata": {},
     "output_type": "display_data"
    },
    {
     "data": {
      "text/html": [
       "TRUE"
      ],
      "text/latex": [
       "TRUE"
      ],
      "text/markdown": [
       "TRUE"
      ],
      "text/plain": [
       "[1] TRUE"
      ]
     },
     "metadata": {},
     "output_type": "display_data"
    },
    {
     "data": {
      "text/html": [
       "FALSE"
      ],
      "text/latex": [
       "FALSE"
      ],
      "text/markdown": [
       "FALSE"
      ],
      "text/plain": [
       "[1] FALSE"
      ]
     },
     "metadata": {},
     "output_type": "display_data"
    }
   ],
   "source": [
    "str <- \"Hello World!\"\n",
    "\n",
    "grepl(\"H\", str)\n",
    "grepl(\"Hello\", str)\n",
    "grepl(\"X\", str)"
   ]
  },
  {
   "cell_type": "code",
   "execution_count": 21,
   "id": "648c7b88",
   "metadata": {},
   "outputs": [
    {
     "data": {
      "text/html": [
       "'Hello World'"
      ],
      "text/latex": [
       "'Hello World'"
      ],
      "text/markdown": [
       "'Hello World'"
      ],
      "text/plain": [
       "[1] \"Hello World\""
      ]
     },
     "metadata": {},
     "output_type": "display_data"
    }
   ],
   "source": [
    "str1 <- \"Hello\"\n",
    "str2 <- \"World\"\n",
    "\n",
    "paste(str1, str2)"
   ]
  },
  {
   "cell_type": "code",
   "execution_count": 22,
   "id": "dafc111d",
   "metadata": {},
   "outputs": [
    {
     "data": {
      "text/html": [
       "'We are the so-called \"Vikings\", from the north.'"
      ],
      "text/latex": [
       "'We are the so-called \"Vikings\", from the north.'"
      ],
      "text/markdown": [
       "'We are the so-called \"Vikings\", from the north.'"
      ],
      "text/plain": [
       "[1] \"We are the so-called \\\"Vikings\\\", from the north.\""
      ]
     },
     "metadata": {},
     "output_type": "display_data"
    },
    {
     "name": "stdout",
     "output_type": "stream",
     "text": [
      "We are the so-called \"Vikings\", from the north."
     ]
    }
   ],
   "source": [
    "str <- \"We are the so-called \\\"Vikings\\\", from the north.\"\n",
    "\n",
    "str\n",
    "cat(str)"
   ]
  },
  {
   "cell_type": "markdown",
   "id": "0a515ed6",
   "metadata": {},
   "source": [
    "- \\\\\tBackslash\n",
    "- \\n\tNew Line\n",
    "- \\r\tCarriage Return\n",
    "- \\t\tTab\n",
    "- \\b\tBackspace"
   ]
  },
  {
   "cell_type": "code",
   "execution_count": 23,
   "id": "c0269b51",
   "metadata": {},
   "outputs": [
    {
     "data": {
      "text/html": [
       "TRUE"
      ],
      "text/latex": [
       "TRUE"
      ],
      "text/markdown": [
       "TRUE"
      ],
      "text/plain": [
       "[1] TRUE"
      ]
     },
     "metadata": {},
     "output_type": "display_data"
    },
    {
     "data": {
      "text/html": [
       "FALSE"
      ],
      "text/latex": [
       "FALSE"
      ],
      "text/markdown": [
       "FALSE"
      ],
      "text/plain": [
       "[1] FALSE"
      ]
     },
     "metadata": {},
     "output_type": "display_data"
    },
    {
     "data": {
      "text/html": [
       "FALSE"
      ],
      "text/latex": [
       "FALSE"
      ],
      "text/markdown": [
       "FALSE"
      ],
      "text/plain": [
       "[1] FALSE"
      ]
     },
     "metadata": {},
     "output_type": "display_data"
    }
   ],
   "source": [
    "10 > 9\n",
    "10 == 9\n",
    "10 < 9"
   ]
  },
  {
   "cell_type": "code",
   "execution_count": 24,
   "id": "0c4026da",
   "metadata": {},
   "outputs": [
    {
     "name": "stdout",
     "output_type": "stream",
     "text": [
      "[1] \"A is greater than B\"\n"
     ]
    }
   ],
   "source": [
    "a <- 10\n",
    "b <- 9\n",
    "\n",
    "if (a > b) {\n",
    "    print('A is greater than B')\n",
    "} else if (a == b) {\n",
    "    print('Both are equal')\n",
    "} else {\n",
    "    print('B is greater than A')\n",
    "}"
   ]
  },
  {
   "cell_type": "code",
   "execution_count": 25,
   "id": "5b717ec1",
   "metadata": {},
   "outputs": [
    {
     "data": {
      "text/html": [
       "2"
      ],
      "text/latex": [
       "2"
      ],
      "text/markdown": [
       "2"
      ],
      "text/plain": [
       "[1] 2"
      ]
     },
     "metadata": {},
     "output_type": "display_data"
    }
   ],
   "source": [
    "7 %/% 3"
   ]
  },
  {
   "cell_type": "markdown",
   "id": "51cafd83",
   "metadata": {},
   "source": [
    "- +\tAddition\tx + y\t\n",
    "- -\tSubtraction\tx - y\t\n",
    "- *\tMultiplication\tx * y\t\n",
    "- /\tDivision\tx / y\t\n",
    "- ^\tExponent\tx ^ y\t\n",
    "- %%\tModulus (Remainder from division)\tx %% y\t\n",
    "- %/%\tInteger Division\tx%/%y"
   ]
  },
  {
   "cell_type": "code",
   "execution_count": 26,
   "id": "1ee66c66",
   "metadata": {},
   "outputs": [
    {
     "data": {
      "text/html": [
       "3"
      ],
      "text/latex": [
       "3"
      ],
      "text/markdown": [
       "3"
      ],
      "text/plain": [
       "[1] 3"
      ]
     },
     "metadata": {},
     "output_type": "display_data"
    }
   ],
   "source": [
    "my_var <- 3\n",
    "\n",
    "my_var <<- 3\n",
    "\n",
    "3 -> my_var\n",
    "\n",
    "3 ->> my_var\n",
    "\n",
    "my_var"
   ]
  },
  {
   "cell_type": "markdown",
   "id": "2c0dd192",
   "metadata": {},
   "source": [
    "- ==\tEqual\tx == y\t\n",
    "- !=\tNot equal\tx != y\t\n",
    "- >\tGreater than\tx > y\t\n",
    "- <\tLess than\tx < y\t\n",
    "- >=\tGreater than or equal to\tx >= y\t\n",
    "- <=\tLess than or equal to\tx <= y"
   ]
  },
  {
   "cell_type": "markdown",
   "id": "44c452d2",
   "metadata": {},
   "source": [
    "- &\tElement-wise Logical AND operator. It returns TRUE if both elements are TRUE\n",
    "- &&\tLogical AND operator - Returns TRUE if both statements are TRUE\n",
    "- |\tElementwise- Logical OR operator. It returns TRUE if one of the statement is TRUE\n",
    "- ||\tLogical OR operator. It returns TRUE if one of the statement is TRUE.\n",
    "- !\tLogical NOT - returns FALSE if statement is TRUE"
   ]
  },
  {
   "cell_type": "markdown",
   "id": "2c360d2d",
   "metadata": {},
   "source": [
    "- :\tCreates a series of numbers in a sequence\tx <- 1:10\n",
    "- %in%\tFind out if an element belongs to a vector\tx %in% y\n",
    "- %*%\tMatrix Multiplication\tx <- Matrix1 %*% Matrix"
   ]
  },
  {
   "cell_type": "markdown",
   "id": "c2a4aa72",
   "metadata": {},
   "source": [
    "In R language readline() method takes input in string format. If one inputs an integer then it is inputted as a string, lets say, one wants to input 255, then it will input as “255”, like a string. So one needs to convert that inputted value to the format that he needs. In this case, string “255” is converted to integer 255. To convert the inputted value to the desired data type, there are some functions in R, \n",
    " \n",
    "\n",
    "- as.integer(n); —> convert to integer\n",
    "- as.numeric(n); —> convert to numeric type (float, double etc)\n",
    "- as.complex(n); —> convert to complex number (i.e 3+2i)\n",
    "- as.Date(n) —> convert to date …, etc\n",
    "\n",
    "'x = scan()'\n",
    "\n",
    "- scan() method is taking input continuously, to terminate the input process, need to press Enter key 2 times on the console."
   ]
  },
  {
   "cell_type": "code",
   "execution_count": 27,
   "id": "bb8c6fb2",
   "metadata": {},
   "outputs": [
    {
     "name": "stdout",
     "output_type": "stream",
     "text": [
      "Enter a number.\n",
      "2\n"
     ]
    }
   ],
   "source": [
    "x <- readline(prompt='Enter a number.\\n')"
   ]
  },
  {
   "cell_type": "code",
   "execution_count": 28,
   "id": "e55e9b10",
   "metadata": {},
   "outputs": [
    {
     "data": {
      "text/html": [
       "'2'"
      ],
      "text/latex": [
       "'2'"
      ],
      "text/markdown": [
       "'2'"
      ],
      "text/plain": [
       "[1] \"2\""
      ]
     },
     "metadata": {},
     "output_type": "display_data"
    }
   ],
   "source": [
    "x"
   ]
  },
  {
   "cell_type": "code",
   "execution_count": 29,
   "id": "d4de27d8",
   "metadata": {},
   "outputs": [
    {
     "name": "stdout",
     "output_type": "stream",
     "text": [
      "Enter a number.\n",
      "10\n",
      "[1] \"number is even\"\n"
     ]
    }
   ],
   "source": [
    "num <- as.numeric(readline('Enter a number.\\n'))\n",
    "\n",
    "if (num %% 2 == 0) {\n",
    "    print('number is even')\n",
    "} else {\n",
    "    print('odd')\n",
    "}"
   ]
  },
  {
   "cell_type": "code",
   "execution_count": 30,
   "id": "0407e428",
   "metadata": {},
   "outputs": [
    {
     "name": "stdout",
     "output_type": "stream",
     "text": [
      "[1] \"over 40\"\n",
      "[1] \"not above 50\"\n"
     ]
    }
   ],
   "source": [
    "x <- 45\n",
    "\n",
    "if (x > 40) {\n",
    "    print('over 40')\n",
    "        if (x > 50) {\n",
    "            print('greater than 50 too')\n",
    "        } else {\n",
    "            print('not above 50')\n",
    "        }\n",
    "} else {\n",
    "    print('less than 40 too')\n",
    "}"
   ]
  },
  {
   "cell_type": "code",
   "execution_count": 31,
   "id": "b9fdc857",
   "metadata": {},
   "outputs": [
    {
     "name": "stdout",
     "output_type": "stream",
     "text": [
      "[1] \"b is the lowest number here\"\n"
     ]
    }
   ],
   "source": [
    "a <- 200\n",
    "b <- 33\n",
    "c <- 500\n",
    "\n",
    "if (a > b & c > b) {\n",
    "    print('b is the lowest number here')\n",
    "}"
   ]
  },
  {
   "cell_type": "code",
   "execution_count": 32,
   "id": "ea02e409",
   "metadata": {},
   "outputs": [
    {
     "name": "stdout",
     "output_type": "stream",
     "text": [
      "[1] \"At least one of the conditions is true\"\n"
     ]
    }
   ],
   "source": [
    "a <- 200\n",
    "b <- 33\n",
    "c <- 500\n",
    "\n",
    "if (a > b | a > c) {\n",
    "  print(\"At least one of the conditions is true\")\n",
    "}"
   ]
  },
  {
   "cell_type": "code",
   "execution_count": 33,
   "id": "defdf028",
   "metadata": {},
   "outputs": [
    {
     "name": "stdout",
     "output_type": "stream",
     "text": [
      "[1] 10\n",
      "[1] 11\n",
      "[1] 12\n",
      "[1] 13\n",
      "[1] 14\n"
     ]
    }
   ],
   "source": [
    "i <- 10\n",
    "\n",
    "while (i < 15) {\n",
    "    print(i)\n",
    "    i <- i + 1\n",
    "}"
   ]
  },
  {
   "cell_type": "code",
   "execution_count": 34,
   "id": "141db6b5",
   "metadata": {},
   "outputs": [
    {
     "name": "stdout",
     "output_type": "stream",
     "text": [
      "[1] 10\n",
      "[1] 11\n",
      "[1] 12\n"
     ]
    }
   ],
   "source": [
    "i <- 10\n",
    "\n",
    "while (i < 15) {\n",
    "    print(i)\n",
    "    i <- i + 1\n",
    "        if (i == 13) {\n",
    "            break\n",
    "        }\n",
    "}"
   ]
  },
  {
   "cell_type": "code",
   "execution_count": 36,
   "id": "5db14c8d",
   "metadata": {},
   "outputs": [
    {
     "name": "stdout",
     "output_type": "stream",
     "text": [
      "[1] 1\n",
      "[1] 2\n",
      "[1] 3\n",
      "[1] 4\n",
      "[1] 5\n"
     ]
    }
   ],
   "source": [
    "for (x in 1:5) {\n",
    "    print(x)\n",
    "}"
   ]
  },
  {
   "cell_type": "code",
   "execution_count": 37,
   "id": "3db64b8b",
   "metadata": {},
   "outputs": [
    {
     "name": "stdout",
     "output_type": "stream",
     "text": [
      "[1] \"Python\"\n",
      "[1] \"Julia\"\n",
      "[1] \"SQL\"\n",
      "[1] \"R\"\n"
     ]
    }
   ],
   "source": [
    "languages <- list('Python', 'Julia', 'SQL', 'R')\n",
    "\n",
    "for (lang in languages) {\n",
    "    print(lang)\n",
    "}"
   ]
  },
  {
   "cell_type": "code",
   "execution_count": 38,
   "id": "6dd43616",
   "metadata": {},
   "outputs": [
    {
     "name": "stdout",
     "output_type": "stream",
     "text": [
      "[1] 1\n",
      "[1] 2\n",
      "[1] 3\n",
      "[1] 4\n",
      "[1] 5\n",
      "[1] 6\n"
     ]
    }
   ],
   "source": [
    "dice <- c(1, 2, 3, 4, 5, 6)\n",
    "\n",
    "for (x in dice) {\n",
    "  print(x)\n",
    "}"
   ]
  },
  {
   "cell_type": "code",
   "execution_count": 41,
   "id": "72e01f15",
   "metadata": {},
   "outputs": [
    {
     "name": "stdout",
     "output_type": "stream",
     "text": [
      "[1] \"apple\"\n",
      "[1] \"banana\"\n",
      "[1] \"watermelon\"\n"
     ]
    }
   ],
   "source": [
    "fruits <- list(\"apple\", \"banana\", \"watermelon\", \"cherry\", \"peach\")\n",
    "\n",
    "for (fruit in fruits) {\n",
    "    if (fruit == \"cherry\") {\n",
    "        break\n",
    "    }\n",
    "    print(fruit)\n",
    "}"
   ]
  },
  {
   "cell_type": "code",
   "execution_count": 42,
   "id": "14e94de0",
   "metadata": {},
   "outputs": [
    {
     "name": "stdout",
     "output_type": "stream",
     "text": [
      "[1] \"red apple\"\n",
      "[1] \"red banana\"\n",
      "[1] \"red cherry\"\n",
      "[1] \"big apple\"\n",
      "[1] \"big banana\"\n",
      "[1] \"big cherry\"\n",
      "[1] \"tasty apple\"\n",
      "[1] \"tasty banana\"\n",
      "[1] \"tasty cherry\"\n"
     ]
    }
   ],
   "source": [
    "adj <- list(\"red\", \"big\", \"tasty\")\n",
    "fruits <- list(\"apple\", \"banana\", \"cherry\")\n",
    "\n",
    "for (i in adj) {\n",
    "    for (x in fruits) {\n",
    "        print(paste(i, x))\n",
    "    }\n",
    "}"
   ]
  },
  {
   "cell_type": "code",
   "execution_count": 43,
   "id": "b599d1c1",
   "metadata": {},
   "outputs": [
    {
     "name": "stdout",
     "output_type": "stream",
     "text": [
      "[1] \"red cherry\"\n",
      "[1] \"big cherry\"\n",
      "[1] \"tasty cherry\"\n"
     ]
    }
   ],
   "source": [
    "adj <- list(\"red\", \"big\", \"tasty\")\n",
    "fruits <- list(\"apple\", \"banana\", \"cherry\")\n",
    "\n",
    "for (i in adj) {\n",
    "    for (x in fruits) {\n",
    "    }\n",
    "    print(paste(i, x))\n",
    "}"
   ]
  },
  {
   "cell_type": "code",
   "execution_count": 44,
   "id": "d7f3a882",
   "metadata": {},
   "outputs": [],
   "source": [
    "my_func <- function(x, y) {\n",
    "    print(x * y)\n",
    "}"
   ]
  },
  {
   "cell_type": "code",
   "execution_count": 45,
   "id": "0c3848e2",
   "metadata": {},
   "outputs": [
    {
     "name": "stdout",
     "output_type": "stream",
     "text": [
      "[1] 250\n"
     ]
    }
   ],
   "source": [
    "my_func(10, 25)"
   ]
  },
  {
   "cell_type": "code",
   "execution_count": 49,
   "id": "6ce613a1",
   "metadata": {},
   "outputs": [],
   "source": [
    "my_func <- function(name, country = 'India') {\n",
    "    print(paste(name, country))\n",
    "}"
   ]
  },
  {
   "cell_type": "code",
   "execution_count": 50,
   "id": "7af28f09",
   "metadata": {},
   "outputs": [
    {
     "name": "stdout",
     "output_type": "stream",
     "text": [
      "[1] \"suminder India\"\n"
     ]
    }
   ],
   "source": [
    "my_func('suminder')"
   ]
  },
  {
   "cell_type": "code",
   "execution_count": 51,
   "id": "19c3bce6",
   "metadata": {},
   "outputs": [
    {
     "name": "stdout",
     "output_type": "stream",
     "text": [
      "[1] \"noor canada\"\n"
     ]
    }
   ],
   "source": [
    "my_func('noor', 'canada')"
   ]
  },
  {
   "cell_type": "code",
   "execution_count": 58,
   "id": "b6e6c9fa",
   "metadata": {},
   "outputs": [
    {
     "data": {
      "text/html": [
       "10"
      ],
      "text/latex": [
       "10"
      ],
      "text/markdown": [
       "10"
      ],
      "text/plain": [
       "[1] 10"
      ]
     },
     "metadata": {},
     "output_type": "display_data"
    }
   ],
   "source": [
    "#Call a function within another function.\n",
    "\n",
    "Nested_function <- function(x, y) {\n",
    "  a <- x + y\n",
    "  return(a)\n",
    "}\n",
    "\n",
    "Nested_function(Nested_function(2,2), Nested_function(3,3))"
   ]
  },
  {
   "cell_type": "code",
   "execution_count": 59,
   "id": "698410fa",
   "metadata": {},
   "outputs": [],
   "source": [
    "#write a function inside a function\n",
    "\n",
    "Outer_func <- function(x) {\n",
    "  Inner_func <- function(y) {\n",
    "    a <- x + y\n",
    "    return(a)\n",
    "  }\n",
    "  return (Inner_func)\n",
    "}"
   ]
  },
  {
   "cell_type": "code",
   "execution_count": 54,
   "id": "cf310a3a",
   "metadata": {},
   "outputs": [
    {
     "data": {
      "text/html": [
       "<pre class=language-r><code>function (y) \n",
       "{\n",
       "<span style=white-space:pre-wrap>    a &lt;- x + y</span>\n",
       "<span style=white-space:pre-wrap>    return(a)</span>\n",
       "}</code></pre>"
      ],
      "text/latex": [
       "\\begin{minted}{r}\n",
       "function (y) \n",
       "\\{\n",
       "    a <- x + y\n",
       "    return(a)\n",
       "\\}\n",
       "\\end{minted}"
      ],
      "text/markdown": [
       "```r\n",
       "function (y) \n",
       "{\n",
       "    a <- x + y\n",
       "    return(a)\n",
       "}\n",
       "```"
      ],
      "text/plain": [
       "function(y) {\n",
       "    a <- x + y\n",
       "    return(a)\n",
       "  }\n",
       "<environment: 0x5bed4f044120>"
      ]
     },
     "metadata": {},
     "output_type": "display_data"
    }
   ],
   "source": [
    "Outer_func(3)"
   ]
  },
  {
   "cell_type": "code",
   "execution_count": 56,
   "id": "947eb71c",
   "metadata": {},
   "outputs": [],
   "source": [
    "a <- Outer_func(10)"
   ]
  },
  {
   "cell_type": "code",
   "execution_count": 57,
   "id": "c6b1af73",
   "metadata": {},
   "outputs": [
    {
     "data": {
      "text/html": [
       "33"
      ],
      "text/latex": [
       "33"
      ],
      "text/markdown": [
       "33"
      ],
      "text/plain": [
       "[1] 33"
      ]
     },
     "metadata": {},
     "output_type": "display_data"
    }
   ],
   "source": [
    "a(23)"
   ]
  },
  {
   "cell_type": "markdown",
   "id": "f10a171b",
   "metadata": {},
   "source": [
    "Recursion\n",
    "R also accepts function recursion, which means a defined function can call itself.\n",
    "\n",
    "Recursion is a common mathematical and programming concept. It means that a function calls itself. This has the benefit of meaning that you can loop through data to reach a result.\n",
    "\n",
    "The developer should be very careful with recursion as it can be quite easy to slip into writing a function which never terminates, or one that uses excess amounts of memory or processor power. However, when written correctly, recursion can be a very efficient and mathematically-elegant approach to programming.\n",
    "\n",
    "In this example, tri_recursion() is a function that we have defined to call itself (\"recurse\"). We use the k variable as the data, which decrements (-1) every time we recurse. The recursion ends when the condition is not greater than 0 (i.e. when it is 0)."
   ]
  },
  {
   "cell_type": "code",
   "execution_count": 61,
   "id": "b3dc6132",
   "metadata": {},
   "outputs": [
    {
     "name": "stdout",
     "output_type": "stream",
     "text": [
      "[1] 1\n",
      "[1] 3\n",
      "[1] 6\n",
      "[1] 10\n",
      "[1] 15\n",
      "[1] 21\n"
     ]
    }
   ],
   "source": [
    "tri_recursion <- function(k) {\n",
    "  if (k > 0) {\n",
    "    result <- k + tri_recursion(k - 1)\n",
    "    print(result)\n",
    "  } else {\n",
    "    result = 0\n",
    "    return(result)\n",
    "  }\n",
    "}\n",
    "\n",
    "tri_recursion(6)"
   ]
  },
  {
   "cell_type": "code",
   "execution_count": null,
   "id": "fa224bed",
   "metadata": {},
   "outputs": [],
   "source": []
  }
 ],
 "metadata": {
  "kernelspec": {
   "display_name": "R",
   "language": "R",
   "name": "ir"
  },
  "language_info": {
   "codemirror_mode": "r",
   "file_extension": ".r",
   "mimetype": "text/x-r-source",
   "name": "R",
   "pygments_lexer": "r",
   "version": "4.0.4"
  }
 },
 "nbformat": 4,
 "nbformat_minor": 5
}
