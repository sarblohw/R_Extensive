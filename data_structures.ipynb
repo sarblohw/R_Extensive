{
 "cells": [
  {
   "cell_type": "code",
   "execution_count": 30,
   "id": "89e3ac7f",
   "metadata": {},
   "outputs": [],
   "source": [
    "#Vectors - 1D, same dtype"
   ]
  },
  {
   "cell_type": "code",
   "execution_count": 1,
   "id": "0451d944",
   "metadata": {},
   "outputs": [],
   "source": [
    "pacman::p_load('tidyverse')"
   ]
  },
  {
   "cell_type": "code",
   "execution_count": 2,
   "id": "ce757c5e",
   "metadata": {},
   "outputs": [],
   "source": [
    "fruits <- c(\"banana\", \"apple\", \"orange\")\n",
    "numbers <- c(1, 2, 3)\n",
    "num <- 1:10"
   ]
  },
  {
   "cell_type": "code",
   "execution_count": 3,
   "id": "1b74a227",
   "metadata": {},
   "outputs": [
    {
     "data": {
      "text/html": [
       "<style>\n",
       ".list-inline {list-style: none; margin:0; padding: 0}\n",
       ".list-inline>li {display: inline-block}\n",
       ".list-inline>li:not(:last-child)::after {content: \"\\00b7\"; padding: 0 .5ex}\n",
       "</style>\n",
       "<ol class=list-inline><li>'banana'</li><li>'apple'</li><li>'orange'</li></ol>\n"
      ],
      "text/latex": [
       "\\begin{enumerate*}\n",
       "\\item 'banana'\n",
       "\\item 'apple'\n",
       "\\item 'orange'\n",
       "\\end{enumerate*}\n"
      ],
      "text/markdown": [
       "1. 'banana'\n",
       "2. 'apple'\n",
       "3. 'orange'\n",
       "\n",
       "\n"
      ],
      "text/plain": [
       "[1] \"banana\" \"apple\"  \"orange\""
      ]
     },
     "metadata": {},
     "output_type": "display_data"
    }
   ],
   "source": [
    "fruits"
   ]
  },
  {
   "cell_type": "code",
   "execution_count": 4,
   "id": "71760d4d",
   "metadata": {},
   "outputs": [
    {
     "data": {
      "text/html": [
       "<style>\n",
       ".list-inline {list-style: none; margin:0; padding: 0}\n",
       ".list-inline>li {display: inline-block}\n",
       ".list-inline>li:not(:last-child)::after {content: \"\\00b7\"; padding: 0 .5ex}\n",
       "</style>\n",
       "<ol class=list-inline><li>1</li><li>2</li><li>3</li></ol>\n"
      ],
      "text/latex": [
       "\\begin{enumerate*}\n",
       "\\item 1\n",
       "\\item 2\n",
       "\\item 3\n",
       "\\end{enumerate*}\n"
      ],
      "text/markdown": [
       "1. 1\n",
       "2. 2\n",
       "3. 3\n",
       "\n",
       "\n"
      ],
      "text/plain": [
       "[1] 1 2 3"
      ]
     },
     "metadata": {},
     "output_type": "display_data"
    }
   ],
   "source": [
    "numbers"
   ]
  },
  {
   "cell_type": "code",
   "execution_count": 5,
   "id": "d5d3a316",
   "metadata": {},
   "outputs": [
    {
     "data": {
      "text/html": [
       "<style>\n",
       ".list-inline {list-style: none; margin:0; padding: 0}\n",
       ".list-inline>li {display: inline-block}\n",
       ".list-inline>li:not(:last-child)::after {content: \"\\00b7\"; padding: 0 .5ex}\n",
       "</style>\n",
       "<ol class=list-inline><li>1</li><li>2</li><li>3</li><li>4</li><li>5</li><li>6</li><li>7</li><li>8</li><li>9</li><li>10</li></ol>\n"
      ],
      "text/latex": [
       "\\begin{enumerate*}\n",
       "\\item 1\n",
       "\\item 2\n",
       "\\item 3\n",
       "\\item 4\n",
       "\\item 5\n",
       "\\item 6\n",
       "\\item 7\n",
       "\\item 8\n",
       "\\item 9\n",
       "\\item 10\n",
       "\\end{enumerate*}\n"
      ],
      "text/markdown": [
       "1. 1\n",
       "2. 2\n",
       "3. 3\n",
       "4. 4\n",
       "5. 5\n",
       "6. 6\n",
       "7. 7\n",
       "8. 8\n",
       "9. 9\n",
       "10. 10\n",
       "\n",
       "\n"
      ],
      "text/plain": [
       " [1]  1  2  3  4  5  6  7  8  9 10"
      ]
     },
     "metadata": {},
     "output_type": "display_data"
    }
   ],
   "source": [
    "num"
   ]
  },
  {
   "cell_type": "code",
   "execution_count": 9,
   "id": "562f2318",
   "metadata": {},
   "outputs": [
    {
     "data": {
      "text/html": [
       "<style>\n",
       ".list-inline {list-style: none; margin:0; padding: 0}\n",
       ".list-inline>li {display: inline-block}\n",
       ".list-inline>li:not(:last-child)::after {content: \"\\00b7\"; padding: 0 .5ex}\n",
       "</style>\n",
       "<ol class=list-inline><li>1.5</li><li>2.5</li><li>3.5</li><li>4.5</li><li>5.5</li><li>6.5</li></ol>\n"
      ],
      "text/latex": [
       "\\begin{enumerate*}\n",
       "\\item 1.5\n",
       "\\item 2.5\n",
       "\\item 3.5\n",
       "\\item 4.5\n",
       "\\item 5.5\n",
       "\\item 6.5\n",
       "\\end{enumerate*}\n"
      ],
      "text/markdown": [
       "1. 1.5\n",
       "2. 2.5\n",
       "3. 3.5\n",
       "4. 4.5\n",
       "5. 5.5\n",
       "6. 6.5\n",
       "\n",
       "\n"
      ],
      "text/plain": [
       "[1] 1.5 2.5 3.5 4.5 5.5 6.5"
      ]
     },
     "metadata": {},
     "output_type": "display_data"
    }
   ],
   "source": [
    "numbers1 <- 1.5:6.5\n",
    "numbers1"
   ]
  },
  {
   "cell_type": "code",
   "execution_count": 10,
   "id": "74dd9822",
   "metadata": {},
   "outputs": [
    {
     "data": {
      "text/html": [
       "<style>\n",
       ".list-inline {list-style: none; margin:0; padding: 0}\n",
       ".list-inline>li {display: inline-block}\n",
       ".list-inline>li:not(:last-child)::after {content: \"\\00b7\"; padding: 0 .5ex}\n",
       "</style>\n",
       "<ol class=list-inline><li>1.5</li><li>2.5</li><li>3.5</li><li>4.5</li><li>5.5</li></ol>\n"
      ],
      "text/latex": [
       "\\begin{enumerate*}\n",
       "\\item 1.5\n",
       "\\item 2.5\n",
       "\\item 3.5\n",
       "\\item 4.5\n",
       "\\item 5.5\n",
       "\\end{enumerate*}\n"
      ],
      "text/markdown": [
       "1. 1.5\n",
       "2. 2.5\n",
       "3. 3.5\n",
       "4. 4.5\n",
       "5. 5.5\n",
       "\n",
       "\n"
      ],
      "text/plain": [
       "[1] 1.5 2.5 3.5 4.5 5.5"
      ]
     },
     "metadata": {},
     "output_type": "display_data"
    }
   ],
   "source": [
    "numbers2 <- 1.5:6.3\n",
    "numbers2"
   ]
  },
  {
   "cell_type": "code",
   "execution_count": 11,
   "id": "3bbe3624",
   "metadata": {},
   "outputs": [
    {
     "data": {
      "text/html": [
       "<style>\n",
       ".list-inline {list-style: none; margin:0; padding: 0}\n",
       ".list-inline>li {display: inline-block}\n",
       ".list-inline>li:not(:last-child)::after {content: \"\\00b7\"; padding: 0 .5ex}\n",
       "</style>\n",
       "<ol class=list-inline><li>TRUE</li><li>FALSE</li><li>TRUE</li><li>FALSE</li></ol>\n"
      ],
      "text/latex": [
       "\\begin{enumerate*}\n",
       "\\item TRUE\n",
       "\\item FALSE\n",
       "\\item TRUE\n",
       "\\item FALSE\n",
       "\\end{enumerate*}\n"
      ],
      "text/markdown": [
       "1. TRUE\n",
       "2. FALSE\n",
       "3. TRUE\n",
       "4. FALSE\n",
       "\n",
       "\n"
      ],
      "text/plain": [
       "[1]  TRUE FALSE  TRUE FALSE"
      ]
     },
     "metadata": {},
     "output_type": "display_data"
    }
   ],
   "source": [
    "log_values <- c(TRUE, FALSE, TRUE, FALSE)\n",
    "\n",
    "log_values"
   ]
  },
  {
   "cell_type": "code",
   "execution_count": 12,
   "id": "cae02931",
   "metadata": {},
   "outputs": [
    {
     "data": {
      "text/html": [
       "3"
      ],
      "text/latex": [
       "3"
      ],
      "text/markdown": [
       "3"
      ],
      "text/plain": [
       "[1] 3"
      ]
     },
     "metadata": {},
     "output_type": "display_data"
    }
   ],
   "source": [
    "fruits <- c(\"banana\", \"apple\", \"orange\")\n",
    "\n",
    "length(fruits)"
   ]
  },
  {
   "cell_type": "code",
   "execution_count": 13,
   "id": "b414dbe6",
   "metadata": {},
   "outputs": [
    {
     "data": {
      "text/html": [
       "<style>\n",
       ".list-inline {list-style: none; margin:0; padding: 0}\n",
       ".list-inline>li {display: inline-block}\n",
       ".list-inline>li:not(:last-child)::after {content: \"\\00b7\"; padding: 0 .5ex}\n",
       "</style>\n",
       "<ol class=list-inline><li>'apple'</li><li>'banana'</li><li>'lemon'</li><li>'mango'</li><li>'orange'</li></ol>\n"
      ],
      "text/latex": [
       "\\begin{enumerate*}\n",
       "\\item 'apple'\n",
       "\\item 'banana'\n",
       "\\item 'lemon'\n",
       "\\item 'mango'\n",
       "\\item 'orange'\n",
       "\\end{enumerate*}\n"
      ],
      "text/markdown": [
       "1. 'apple'\n",
       "2. 'banana'\n",
       "3. 'lemon'\n",
       "4. 'mango'\n",
       "5. 'orange'\n",
       "\n",
       "\n"
      ],
      "text/plain": [
       "[1] \"apple\"  \"banana\" \"lemon\"  \"mango\"  \"orange\""
      ]
     },
     "metadata": {},
     "output_type": "display_data"
    },
    {
     "data": {
      "text/html": [
       "<style>\n",
       ".list-inline {list-style: none; margin:0; padding: 0}\n",
       ".list-inline>li {display: inline-block}\n",
       ".list-inline>li:not(:last-child)::after {content: \"\\00b7\"; padding: 0 .5ex}\n",
       "</style>\n",
       "<ol class=list-inline><li>2</li><li>3</li><li>5</li><li>7</li><li>13</li><li>20</li></ol>\n"
      ],
      "text/latex": [
       "\\begin{enumerate*}\n",
       "\\item 2\n",
       "\\item 3\n",
       "\\item 5\n",
       "\\item 7\n",
       "\\item 13\n",
       "\\item 20\n",
       "\\end{enumerate*}\n"
      ],
      "text/markdown": [
       "1. 2\n",
       "2. 3\n",
       "3. 5\n",
       "4. 7\n",
       "5. 13\n",
       "6. 20\n",
       "\n",
       "\n"
      ],
      "text/plain": [
       "[1]  2  3  5  7 13 20"
      ]
     },
     "metadata": {},
     "output_type": "display_data"
    }
   ],
   "source": [
    "fruits <- c(\"banana\", \"apple\", \"orange\", \"mango\", \"lemon\")\n",
    "numbers <- c(13, 3, 5, 7, 20, 2)\n",
    "\n",
    "sort(fruits)\n",
    "sort(numbers)"
   ]
  },
  {
   "cell_type": "code",
   "execution_count": 14,
   "id": "56680167",
   "metadata": {},
   "outputs": [
    {
     "data": {
      "text/html": [
       "'banana'"
      ],
      "text/latex": [
       "'banana'"
      ],
      "text/markdown": [
       "'banana'"
      ],
      "text/plain": [
       "[1] \"banana\""
      ]
     },
     "metadata": {},
     "output_type": "display_data"
    }
   ],
   "source": [
    "fruits[1]"
   ]
  },
  {
   "cell_type": "code",
   "execution_count": 15,
   "id": "02ce32f4",
   "metadata": {},
   "outputs": [
    {
     "data": {
      "text/html": [
       "<style>\n",
       ".list-inline {list-style: none; margin:0; padding: 0}\n",
       ".list-inline>li {display: inline-block}\n",
       ".list-inline>li:not(:last-child)::after {content: \"\\00b7\"; padding: 0 .5ex}\n",
       "</style>\n",
       "<ol class=list-inline><li>'banana'</li><li>'orange'</li></ol>\n"
      ],
      "text/latex": [
       "\\begin{enumerate*}\n",
       "\\item 'banana'\n",
       "\\item 'orange'\n",
       "\\end{enumerate*}\n"
      ],
      "text/markdown": [
       "1. 'banana'\n",
       "2. 'orange'\n",
       "\n",
       "\n"
      ],
      "text/plain": [
       "[1] \"banana\" \"orange\""
      ]
     },
     "metadata": {},
     "output_type": "display_data"
    }
   ],
   "source": [
    "fruits[c(1, 3)]"
   ]
  },
  {
   "cell_type": "code",
   "execution_count": 16,
   "id": "936df740",
   "metadata": {},
   "outputs": [
    {
     "data": {
      "text/html": [
       "<style>\n",
       ".list-inline {list-style: none; margin:0; padding: 0}\n",
       ".list-inline>li {display: inline-block}\n",
       ".list-inline>li:not(:last-child)::after {content: \"\\00b7\"; padding: 0 .5ex}\n",
       "</style>\n",
       "<ol class=list-inline><li>'apple'</li><li>'orange'</li><li>'mango'</li><li>'lemon'</li></ol>\n"
      ],
      "text/latex": [
       "\\begin{enumerate*}\n",
       "\\item 'apple'\n",
       "\\item 'orange'\n",
       "\\item 'mango'\n",
       "\\item 'lemon'\n",
       "\\end{enumerate*}\n"
      ],
      "text/markdown": [
       "1. 'apple'\n",
       "2. 'orange'\n",
       "3. 'mango'\n",
       "4. 'lemon'\n",
       "\n",
       "\n"
      ],
      "text/plain": [
       "[1] \"apple\"  \"orange\" \"mango\"  \"lemon\" "
      ]
     },
     "metadata": {},
     "output_type": "display_data"
    }
   ],
   "source": [
    "fruits[c(-1)]"
   ]
  },
  {
   "cell_type": "code",
   "execution_count": 17,
   "id": "d671ff07",
   "metadata": {},
   "outputs": [
    {
     "data": {
      "text/html": [
       "<style>\n",
       ".list-inline {list-style: none; margin:0; padding: 0}\n",
       ".list-inline>li {display: inline-block}\n",
       ".list-inline>li:not(:last-child)::after {content: \"\\00b7\"; padding: 0 .5ex}\n",
       "</style>\n",
       "<ol class=list-inline><li>'pear'</li><li>'apple'</li><li>'orange'</li><li>'mango'</li><li>'lemon'</li></ol>\n"
      ],
      "text/latex": [
       "\\begin{enumerate*}\n",
       "\\item 'pear'\n",
       "\\item 'apple'\n",
       "\\item 'orange'\n",
       "\\item 'mango'\n",
       "\\item 'lemon'\n",
       "\\end{enumerate*}\n"
      ],
      "text/markdown": [
       "1. 'pear'\n",
       "2. 'apple'\n",
       "3. 'orange'\n",
       "4. 'mango'\n",
       "5. 'lemon'\n",
       "\n",
       "\n"
      ],
      "text/plain": [
       "[1] \"pear\"   \"apple\"  \"orange\" \"mango\"  \"lemon\" "
      ]
     },
     "metadata": {},
     "output_type": "display_data"
    }
   ],
   "source": [
    "fruits <- c(\"banana\", \"apple\", \"orange\", \"mango\", \"lemon\")\n",
    "fruits[1] <- \"pear\"\n",
    "fruits"
   ]
  },
  {
   "cell_type": "code",
   "execution_count": 18,
   "id": "396d35a3",
   "metadata": {},
   "outputs": [
    {
     "data": {
      "text/html": [
       "<style>\n",
       ".list-inline {list-style: none; margin:0; padding: 0}\n",
       ".list-inline>li {display: inline-block}\n",
       ".list-inline>li:not(:last-child)::after {content: \"\\00b7\"; padding: 0 .5ex}\n",
       "</style>\n",
       "<ol class=list-inline><li>'pear'</li><li>'apple'</li><li>'orange'</li><li>'mango'</li></ol>\n"
      ],
      "text/latex": [
       "\\begin{enumerate*}\n",
       "\\item 'pear'\n",
       "\\item 'apple'\n",
       "\\item 'orange'\n",
       "\\item 'mango'\n",
       "\\end{enumerate*}\n"
      ],
      "text/markdown": [
       "1. 'pear'\n",
       "2. 'apple'\n",
       "3. 'orange'\n",
       "4. 'mango'\n",
       "\n",
       "\n"
      ],
      "text/plain": [
       "[1] \"pear\"   \"apple\"  \"orange\" \"mango\" "
      ]
     },
     "metadata": {},
     "output_type": "display_data"
    }
   ],
   "source": [
    "fruits[1:4]"
   ]
  },
  {
   "cell_type": "code",
   "execution_count": 19,
   "id": "a03ac537",
   "metadata": {},
   "outputs": [
    {
     "data": {
      "text/html": [
       "<style>\n",
       ".list-inline {list-style: none; margin:0; padding: 0}\n",
       ".list-inline>li {display: inline-block}\n",
       ".list-inline>li:not(:last-child)::after {content: \"\\00b7\"; padding: 0 .5ex}\n",
       "</style>\n",
       "<ol class=list-inline><li>1</li><li>2</li><li>3</li><li>1</li><li>2</li><li>3</li><li>1</li><li>2</li><li>3</li></ol>\n"
      ],
      "text/latex": [
       "\\begin{enumerate*}\n",
       "\\item 1\n",
       "\\item 2\n",
       "\\item 3\n",
       "\\item 1\n",
       "\\item 2\n",
       "\\item 3\n",
       "\\item 1\n",
       "\\item 2\n",
       "\\item 3\n",
       "\\end{enumerate*}\n"
      ],
      "text/markdown": [
       "1. 1\n",
       "2. 2\n",
       "3. 3\n",
       "4. 1\n",
       "5. 2\n",
       "6. 3\n",
       "7. 1\n",
       "8. 2\n",
       "9. 3\n",
       "\n",
       "\n"
      ],
      "text/plain": [
       "[1] 1 2 3 1 2 3 1 2 3"
      ]
     },
     "metadata": {},
     "output_type": "display_data"
    }
   ],
   "source": [
    "repeat_times <- rep(c(1,2,3), times = 3)\n",
    "\n",
    "repeat_times"
   ]
  },
  {
   "cell_type": "code",
   "execution_count": 20,
   "id": "be2fd15c",
   "metadata": {},
   "outputs": [
    {
     "data": {
      "text/html": [
       "<style>\n",
       ".list-inline {list-style: none; margin:0; padding: 0}\n",
       ".list-inline>li {display: inline-block}\n",
       ".list-inline>li:not(:last-child)::after {content: \"\\00b7\"; padding: 0 .5ex}\n",
       "</style>\n",
       "<ol class=list-inline><li>1</li><li>1</li><li>1</li><li>1</li><li>1</li><li>2</li><li>2</li><li>3</li></ol>\n"
      ],
      "text/latex": [
       "\\begin{enumerate*}\n",
       "\\item 1\n",
       "\\item 1\n",
       "\\item 1\n",
       "\\item 1\n",
       "\\item 1\n",
       "\\item 2\n",
       "\\item 2\n",
       "\\item 3\n",
       "\\end{enumerate*}\n"
      ],
      "text/markdown": [
       "1. 1\n",
       "2. 1\n",
       "3. 1\n",
       "4. 1\n",
       "5. 1\n",
       "6. 2\n",
       "7. 2\n",
       "8. 3\n",
       "\n",
       "\n"
      ],
      "text/plain": [
       "[1] 1 1 1 1 1 2 2 3"
      ]
     },
     "metadata": {},
     "output_type": "display_data"
    }
   ],
   "source": [
    "repeat_indepent <- rep(c(1,2,3), times = c(5,2,1))\n",
    "\n",
    "repeat_indepent"
   ]
  },
  {
   "cell_type": "code",
   "execution_count": 21,
   "id": "128f3e66",
   "metadata": {},
   "outputs": [
    {
     "data": {
      "text/html": [
       "<style>\n",
       ".list-inline {list-style: none; margin:0; padding: 0}\n",
       ".list-inline>li {display: inline-block}\n",
       ".list-inline>li:not(:last-child)::after {content: \"\\00b7\"; padding: 0 .5ex}\n",
       "</style>\n",
       "<ol class=list-inline><li>0</li><li>20</li><li>40</li><li>60</li><li>80</li><li>100</li></ol>\n"
      ],
      "text/latex": [
       "\\begin{enumerate*}\n",
       "\\item 0\n",
       "\\item 20\n",
       "\\item 40\n",
       "\\item 60\n",
       "\\item 80\n",
       "\\item 100\n",
       "\\end{enumerate*}\n"
      ],
      "text/markdown": [
       "1. 0\n",
       "2. 20\n",
       "3. 40\n",
       "4. 60\n",
       "5. 80\n",
       "6. 100\n",
       "\n",
       "\n"
      ],
      "text/plain": [
       "[1]   0  20  40  60  80 100"
      ]
     },
     "metadata": {},
     "output_type": "display_data"
    }
   ],
   "source": [
    "numbers <- seq(from = 0, to = 100, by = 20)\n",
    "\n",
    "numbers"
   ]
  },
  {
   "cell_type": "code",
   "execution_count": 22,
   "id": "9e38445c",
   "metadata": {},
   "outputs": [
    {
     "data": {
      "text/html": [
       "<style>\n",
       ".list-inline {list-style: none; margin:0; padding: 0}\n",
       ".list-inline>li {display: inline-block}\n",
       ".list-inline>li:not(:last-child)::after {content: \"\\00b7\"; padding: 0 .5ex}\n",
       "</style>\n",
       "<ol class=list-inline><li>1</li><li>2</li><li>3</li><li>4</li><li>5</li></ol>\n"
      ],
      "text/latex": [
       "\\begin{enumerate*}\n",
       "\\item 1\n",
       "\\item 2\n",
       "\\item 3\n",
       "\\item 4\n",
       "\\item 5\n",
       "\\end{enumerate*}\n"
      ],
      "text/markdown": [
       "1. 1\n",
       "2. 2\n",
       "3. 3\n",
       "4. 4\n",
       "5. 5\n",
       "\n",
       "\n"
      ],
      "text/plain": [
       "[1] 1 2 3 4 5"
      ]
     },
     "metadata": {},
     "output_type": "display_data"
    }
   ],
   "source": [
    "1:5"
   ]
  },
  {
   "cell_type": "code",
   "execution_count": 27,
   "id": "89b0b9b5",
   "metadata": {},
   "outputs": [
    {
     "data": {
      "text/html": [
       "<style>\n",
       ".list-inline {list-style: none; margin:0; padding: 0}\n",
       ".list-inline>li {display: inline-block}\n",
       ".list-inline>li:not(:last-child)::after {content: \"\\00b7\"; padding: 0 .5ex}\n",
       "</style>\n",
       "<ol class=list-inline><li>1</li><li>3</li><li>5</li><li>7</li><li>9</li><li>11</li><li>13</li><li>15</li><li>17</li><li>19</li><li>21</li><li>23</li><li>25</li><li>27</li><li>29</li><li>31</li><li>33</li><li>35</li><li>37</li><li>39</li><li>41</li><li>43</li><li>45</li><li>47</li><li>49</li><li>51</li><li>53</li><li>55</li><li>57</li><li>59</li><li>61</li><li>63</li><li>65</li><li>67</li><li>69</li><li>71</li><li>73</li><li>75</li><li>77</li><li>79</li><li>81</li><li>83</li><li>85</li><li>87</li><li>89</li><li>91</li><li>93</li><li>95</li><li>97</li><li>99</li></ol>\n"
      ],
      "text/latex": [
       "\\begin{enumerate*}\n",
       "\\item 1\n",
       "\\item 3\n",
       "\\item 5\n",
       "\\item 7\n",
       "\\item 9\n",
       "\\item 11\n",
       "\\item 13\n",
       "\\item 15\n",
       "\\item 17\n",
       "\\item 19\n",
       "\\item 21\n",
       "\\item 23\n",
       "\\item 25\n",
       "\\item 27\n",
       "\\item 29\n",
       "\\item 31\n",
       "\\item 33\n",
       "\\item 35\n",
       "\\item 37\n",
       "\\item 39\n",
       "\\item 41\n",
       "\\item 43\n",
       "\\item 45\n",
       "\\item 47\n",
       "\\item 49\n",
       "\\item 51\n",
       "\\item 53\n",
       "\\item 55\n",
       "\\item 57\n",
       "\\item 59\n",
       "\\item 61\n",
       "\\item 63\n",
       "\\item 65\n",
       "\\item 67\n",
       "\\item 69\n",
       "\\item 71\n",
       "\\item 73\n",
       "\\item 75\n",
       "\\item 77\n",
       "\\item 79\n",
       "\\item 81\n",
       "\\item 83\n",
       "\\item 85\n",
       "\\item 87\n",
       "\\item 89\n",
       "\\item 91\n",
       "\\item 93\n",
       "\\item 95\n",
       "\\item 97\n",
       "\\item 99\n",
       "\\end{enumerate*}\n"
      ],
      "text/markdown": [
       "1. 1\n",
       "2. 3\n",
       "3. 5\n",
       "4. 7\n",
       "5. 9\n",
       "6. 11\n",
       "7. 13\n",
       "8. 15\n",
       "9. 17\n",
       "10. 19\n",
       "11. 21\n",
       "12. 23\n",
       "13. 25\n",
       "14. 27\n",
       "15. 29\n",
       "16. 31\n",
       "17. 33\n",
       "18. 35\n",
       "19. 37\n",
       "20. 39\n",
       "21. 41\n",
       "22. 43\n",
       "23. 45\n",
       "24. 47\n",
       "25. 49\n",
       "26. 51\n",
       "27. 53\n",
       "28. 55\n",
       "29. 57\n",
       "30. 59\n",
       "31. 61\n",
       "32. 63\n",
       "33. 65\n",
       "34. 67\n",
       "35. 69\n",
       "36. 71\n",
       "37. 73\n",
       "38. 75\n",
       "39. 77\n",
       "40. 79\n",
       "41. 81\n",
       "42. 83\n",
       "43. 85\n",
       "44. 87\n",
       "45. 89\n",
       "46. 91\n",
       "47. 93\n",
       "48. 95\n",
       "49. 97\n",
       "50. 99\n",
       "\n",
       "\n"
      ],
      "text/plain": [
       " [1]  1  3  5  7  9 11 13 15 17 19 21 23 25 27 29 31 33 35 37 39 41 43 45 47 49\n",
       "[26] 51 53 55 57 59 61 63 65 67 69 71 73 75 77 79 81 83 85 87 89 91 93 95 97 99"
      ]
     },
     "metadata": {},
     "output_type": "display_data"
    }
   ],
   "source": [
    "seq(from = 1, to = 100, by = 2)"
   ]
  },
  {
   "cell_type": "code",
   "execution_count": 29,
   "id": "fbbdff85",
   "metadata": {},
   "outputs": [],
   "source": [
    "#Lists - can be nested, mutable, multiple data types"
   ]
  },
  {
   "cell_type": "code",
   "execution_count": 32,
   "id": "a5183dc0",
   "metadata": {},
   "outputs": [
    {
     "data": {
      "text/html": [
       "<ol>\n",
       "\t<li>'apple'</li>\n",
       "</ol>\n"
      ],
      "text/latex": [
       "\\begin{enumerate}\n",
       "\\item 'apple'\n",
       "\\end{enumerate}\n"
      ],
      "text/markdown": [
       "1. 'apple'\n",
       "\n",
       "\n"
      ],
      "text/plain": [
       "[[1]]\n",
       "[1] \"apple\"\n"
      ]
     },
     "metadata": {},
     "output_type": "display_data"
    }
   ],
   "source": [
    "thislist <- list(\"apple\", \"banana\", \"cherry\")\n",
    "\n",
    "thislist[1]"
   ]
  },
  {
   "cell_type": "code",
   "execution_count": 33,
   "id": "aa380393",
   "metadata": {},
   "outputs": [
    {
     "data": {
      "text/html": [
       "<ol>\n",
       "\t<li>'blackcurrant'</li>\n",
       "\t<li>'banana'</li>\n",
       "\t<li>'cherry'</li>\n",
       "</ol>\n"
      ],
      "text/latex": [
       "\\begin{enumerate}\n",
       "\\item 'blackcurrant'\n",
       "\\item 'banana'\n",
       "\\item 'cherry'\n",
       "\\end{enumerate}\n"
      ],
      "text/markdown": [
       "1. 'blackcurrant'\n",
       "2. 'banana'\n",
       "3. 'cherry'\n",
       "\n",
       "\n"
      ],
      "text/plain": [
       "[[1]]\n",
       "[1] \"blackcurrant\"\n",
       "\n",
       "[[2]]\n",
       "[1] \"banana\"\n",
       "\n",
       "[[3]]\n",
       "[1] \"cherry\"\n"
      ]
     },
     "metadata": {},
     "output_type": "display_data"
    }
   ],
   "source": [
    "thislist <- list(\"apple\", \"banana\", \"cherry\")\n",
    "thislist[1] <- \"blackcurrant\"\n",
    "thislist"
   ]
  },
  {
   "cell_type": "code",
   "execution_count": 34,
   "id": "d76fdc0f",
   "metadata": {},
   "outputs": [
    {
     "data": {
      "text/html": [
       "3"
      ],
      "text/latex": [
       "3"
      ],
      "text/markdown": [
       "3"
      ],
      "text/plain": [
       "[1] 3"
      ]
     },
     "metadata": {},
     "output_type": "display_data"
    }
   ],
   "source": [
    "thislist <- list(\"apple\", \"banana\", \"cherry\")\n",
    "\n",
    "length(thislist)"
   ]
  },
  {
   "cell_type": "code",
   "execution_count": 35,
   "id": "f43edccb",
   "metadata": {},
   "outputs": [
    {
     "data": {
      "text/html": [
       "TRUE"
      ],
      "text/latex": [
       "TRUE"
      ],
      "text/markdown": [
       "TRUE"
      ],
      "text/plain": [
       "[1] TRUE"
      ]
     },
     "metadata": {},
     "output_type": "display_data"
    }
   ],
   "source": [
    "thislist <- list(\"apple\", \"banana\", \"cherry\")\n",
    "\n",
    "\"apple\" %in% thislist"
   ]
  },
  {
   "cell_type": "code",
   "execution_count": 36,
   "id": "ca4cfc16",
   "metadata": {},
   "outputs": [
    {
     "data": {
      "text/html": [
       "<ol>\n",
       "\t<li>'apple'</li>\n",
       "\t<li>'banana'</li>\n",
       "\t<li>'cherry'</li>\n",
       "\t<li>'orange'</li>\n",
       "</ol>\n"
      ],
      "text/latex": [
       "\\begin{enumerate}\n",
       "\\item 'apple'\n",
       "\\item 'banana'\n",
       "\\item 'cherry'\n",
       "\\item 'orange'\n",
       "\\end{enumerate}\n"
      ],
      "text/markdown": [
       "1. 'apple'\n",
       "2. 'banana'\n",
       "3. 'cherry'\n",
       "4. 'orange'\n",
       "\n",
       "\n"
      ],
      "text/plain": [
       "[[1]]\n",
       "[1] \"apple\"\n",
       "\n",
       "[[2]]\n",
       "[1] \"banana\"\n",
       "\n",
       "[[3]]\n",
       "[1] \"cherry\"\n",
       "\n",
       "[[4]]\n",
       "[1] \"orange\"\n"
      ]
     },
     "metadata": {},
     "output_type": "display_data"
    }
   ],
   "source": [
    "thislist <- list(\"apple\", \"banana\", \"cherry\")\n",
    "\n",
    "append(thislist, \"orange\")"
   ]
  },
  {
   "cell_type": "code",
   "execution_count": 37,
   "id": "82bdcef6",
   "metadata": {},
   "outputs": [
    {
     "data": {
      "text/html": [
       "<ol>\n",
       "\t<li>'apple'</li>\n",
       "\t<li>'banana'</li>\n",
       "\t<li>'orange'</li>\n",
       "\t<li>'cherry'</li>\n",
       "</ol>\n"
      ],
      "text/latex": [
       "\\begin{enumerate}\n",
       "\\item 'apple'\n",
       "\\item 'banana'\n",
       "\\item 'orange'\n",
       "\\item 'cherry'\n",
       "\\end{enumerate}\n"
      ],
      "text/markdown": [
       "1. 'apple'\n",
       "2. 'banana'\n",
       "3. 'orange'\n",
       "4. 'cherry'\n",
       "\n",
       "\n"
      ],
      "text/plain": [
       "[[1]]\n",
       "[1] \"apple\"\n",
       "\n",
       "[[2]]\n",
       "[1] \"banana\"\n",
       "\n",
       "[[3]]\n",
       "[1] \"orange\"\n",
       "\n",
       "[[4]]\n",
       "[1] \"cherry\"\n"
      ]
     },
     "metadata": {},
     "output_type": "display_data"
    }
   ],
   "source": [
    "thislist <- list(\"apple\", \"banana\", \"cherry\")\n",
    "\n",
    "append(thislist, \"orange\", after = 2)"
   ]
  },
  {
   "cell_type": "code",
   "execution_count": 38,
   "id": "36410648",
   "metadata": {},
   "outputs": [
    {
     "data": {
      "text/html": [
       "<ol>\n",
       "\t<li>'banana'</li>\n",
       "\t<li>'cherry'</li>\n",
       "</ol>\n"
      ],
      "text/latex": [
       "\\begin{enumerate}\n",
       "\\item 'banana'\n",
       "\\item 'cherry'\n",
       "\\end{enumerate}\n"
      ],
      "text/markdown": [
       "1. 'banana'\n",
       "2. 'cherry'\n",
       "\n",
       "\n"
      ],
      "text/plain": [
       "[[1]]\n",
       "[1] \"banana\"\n",
       "\n",
       "[[2]]\n",
       "[1] \"cherry\"\n"
      ]
     },
     "metadata": {},
     "output_type": "display_data"
    }
   ],
   "source": [
    "hislist <- list(\"apple\", \"banana\", \"cherry\")\n",
    "newlist <- thislist[-1]\n",
    "newlist"
   ]
  },
  {
   "cell_type": "code",
   "execution_count": 40,
   "id": "8ea38aad",
   "metadata": {},
   "outputs": [
    {
     "data": {
      "text/html": [
       "<ol>\n",
       "\t<li>'banana'</li>\n",
       "\t<li>'cherry'</li>\n",
       "\t<li>'orange'</li>\n",
       "\t<li>'kiwi'</li>\n",
       "</ol>\n"
      ],
      "text/latex": [
       "\\begin{enumerate}\n",
       "\\item 'banana'\n",
       "\\item 'cherry'\n",
       "\\item 'orange'\n",
       "\\item 'kiwi'\n",
       "\\end{enumerate}\n"
      ],
      "text/markdown": [
       "1. 'banana'\n",
       "2. 'cherry'\n",
       "3. 'orange'\n",
       "4. 'kiwi'\n",
       "\n",
       "\n"
      ],
      "text/plain": [
       "[[1]]\n",
       "[1] \"banana\"\n",
       "\n",
       "[[2]]\n",
       "[1] \"cherry\"\n",
       "\n",
       "[[3]]\n",
       "[1] \"orange\"\n",
       "\n",
       "[[4]]\n",
       "[1] \"kiwi\"\n"
      ]
     },
     "metadata": {},
     "output_type": "display_data"
    }
   ],
   "source": [
    "thislist <- list(\"apple\", \"banana\", \"cherry\", \"orange\", \"kiwi\", \"melon\", \"mango\")\n",
    "thislist[2:5]"
   ]
  },
  {
   "cell_type": "code",
   "execution_count": 41,
   "id": "6ca72a17",
   "metadata": {},
   "outputs": [
    {
     "name": "stdout",
     "output_type": "stream",
     "text": [
      "[1] \"apple\"\n",
      "[1] \"banana\"\n",
      "[1] \"cherry\"\n"
     ]
    }
   ],
   "source": [
    "thislist <- list(\"apple\", \"banana\", \"cherry\")\n",
    "\n",
    "for (x in thislist) {\n",
    "  print(x)\n",
    "}"
   ]
  },
  {
   "cell_type": "code",
   "execution_count": 42,
   "id": "f755f4c4",
   "metadata": {},
   "outputs": [
    {
     "data": {
      "text/html": [
       "<ol>\n",
       "\t<li>'a'</li>\n",
       "\t<li>'b'</li>\n",
       "\t<li>'c'</li>\n",
       "\t<li>1</li>\n",
       "\t<li>2</li>\n",
       "\t<li>3</li>\n",
       "</ol>\n"
      ],
      "text/latex": [
       "\\begin{enumerate}\n",
       "\\item 'a'\n",
       "\\item 'b'\n",
       "\\item 'c'\n",
       "\\item 1\n",
       "\\item 2\n",
       "\\item 3\n",
       "\\end{enumerate}\n"
      ],
      "text/markdown": [
       "1. 'a'\n",
       "2. 'b'\n",
       "3. 'c'\n",
       "4. 1\n",
       "5. 2\n",
       "6. 3\n",
       "\n",
       "\n"
      ],
      "text/plain": [
       "[[1]]\n",
       "[1] \"a\"\n",
       "\n",
       "[[2]]\n",
       "[1] \"b\"\n",
       "\n",
       "[[3]]\n",
       "[1] \"c\"\n",
       "\n",
       "[[4]]\n",
       "[1] 1\n",
       "\n",
       "[[5]]\n",
       "[1] 2\n",
       "\n",
       "[[6]]\n",
       "[1] 3\n"
      ]
     },
     "metadata": {},
     "output_type": "display_data"
    }
   ],
   "source": [
    "list1 <- list(\"a\", \"b\", \"c\")\n",
    "list2 <- list(1,2,3)\n",
    "list3 <- c(list1,list2)\n",
    "\n",
    "list3"
   ]
  },
  {
   "cell_type": "code",
   "execution_count": 43,
   "id": "17c0ea52",
   "metadata": {},
   "outputs": [],
   "source": [
    "list3 <- list(list1, list2)"
   ]
  },
  {
   "cell_type": "code",
   "execution_count": 44,
   "id": "4c0fce73",
   "metadata": {},
   "outputs": [
    {
     "data": {
      "text/html": [
       "<ol>\n",
       "\t<li><ol>\n",
       "\t<li>'a'</li>\n",
       "\t<li>'b'</li>\n",
       "\t<li>'c'</li>\n",
       "</ol>\n",
       "</li>\n",
       "\t<li><ol>\n",
       "\t<li>1</li>\n",
       "\t<li>2</li>\n",
       "\t<li>3</li>\n",
       "</ol>\n",
       "</li>\n",
       "</ol>\n"
      ],
      "text/latex": [
       "\\begin{enumerate}\n",
       "\\item \\begin{enumerate}\n",
       "\\item 'a'\n",
       "\\item 'b'\n",
       "\\item 'c'\n",
       "\\end{enumerate}\n",
       "\n",
       "\\item \\begin{enumerate}\n",
       "\\item 1\n",
       "\\item 2\n",
       "\\item 3\n",
       "\\end{enumerate}\n",
       "\n",
       "\\end{enumerate}\n"
      ],
      "text/markdown": [
       "1. 1. 'a'\n",
       "2. 'b'\n",
       "3. 'c'\n",
       "\n",
       "\n",
       "\n",
       "2. 1. 1\n",
       "2. 2\n",
       "3. 3\n",
       "\n",
       "\n",
       "\n",
       "\n",
       "\n"
      ],
      "text/plain": [
       "[[1]]\n",
       "[[1]][[1]]\n",
       "[1] \"a\"\n",
       "\n",
       "[[1]][[2]]\n",
       "[1] \"b\"\n",
       "\n",
       "[[1]][[3]]\n",
       "[1] \"c\"\n",
       "\n",
       "\n",
       "[[2]]\n",
       "[[2]][[1]]\n",
       "[1] 1\n",
       "\n",
       "[[2]][[2]]\n",
       "[1] 2\n",
       "\n",
       "[[2]][[3]]\n",
       "[1] 3\n",
       "\n"
      ]
     },
     "metadata": {},
     "output_type": "display_data"
    }
   ],
   "source": [
    "list3"
   ]
  },
  {
   "cell_type": "code",
   "execution_count": 45,
   "id": "20d10468",
   "metadata": {},
   "outputs": [],
   "source": [
    "#Matrices 2D, same dtype"
   ]
  },
  {
   "cell_type": "code",
   "execution_count": 46,
   "id": "14ed3e00",
   "metadata": {},
   "outputs": [],
   "source": [
    "thismatrix <- matrix(c(1,2,3,4,5,6), nrow = 3, ncol = 2)"
   ]
  },
  {
   "cell_type": "code",
   "execution_count": 47,
   "id": "c1e7017c",
   "metadata": {},
   "outputs": [
    {
     "data": {
      "text/html": [
       "<table class=\"dataframe\">\n",
       "<caption>A matrix: 3 × 2 of type dbl</caption>\n",
       "<tbody>\n",
       "\t<tr><td>1</td><td>4</td></tr>\n",
       "\t<tr><td>2</td><td>5</td></tr>\n",
       "\t<tr><td>3</td><td>6</td></tr>\n",
       "</tbody>\n",
       "</table>\n"
      ],
      "text/latex": [
       "A matrix: 3 × 2 of type dbl\n",
       "\\begin{tabular}{ll}\n",
       "\t 1 & 4\\\\\n",
       "\t 2 & 5\\\\\n",
       "\t 3 & 6\\\\\n",
       "\\end{tabular}\n"
      ],
      "text/markdown": [
       "\n",
       "A matrix: 3 × 2 of type dbl\n",
       "\n",
       "| 1 | 4 |\n",
       "| 2 | 5 |\n",
       "| 3 | 6 |\n",
       "\n"
      ],
      "text/plain": [
       "     [,1] [,2]\n",
       "[1,] 1    4   \n",
       "[2,] 2    5   \n",
       "[3,] 3    6   "
      ]
     },
     "metadata": {},
     "output_type": "display_data"
    }
   ],
   "source": [
    "thismatrix"
   ]
  },
  {
   "cell_type": "code",
   "execution_count": 48,
   "id": "32ce687c",
   "metadata": {},
   "outputs": [
    {
     "data": {
      "text/html": [
       "<table class=\"dataframe\">\n",
       "<caption>A matrix: 2 × 2 of type chr</caption>\n",
       "<tbody>\n",
       "\t<tr><td>apple </td><td>cherry</td></tr>\n",
       "\t<tr><td>banana</td><td>orange</td></tr>\n",
       "</tbody>\n",
       "</table>\n"
      ],
      "text/latex": [
       "A matrix: 2 × 2 of type chr\n",
       "\\begin{tabular}{ll}\n",
       "\t apple  & cherry\\\\\n",
       "\t banana & orange\\\\\n",
       "\\end{tabular}\n"
      ],
      "text/markdown": [
       "\n",
       "A matrix: 2 × 2 of type chr\n",
       "\n",
       "| apple  | cherry |\n",
       "| banana | orange |\n",
       "\n"
      ],
      "text/plain": [
       "     [,1]   [,2]  \n",
       "[1,] apple  cherry\n",
       "[2,] banana orange"
      ]
     },
     "metadata": {},
     "output_type": "display_data"
    }
   ],
   "source": [
    "thismatrix <- matrix(c(\"apple\", \"banana\", \"cherry\", \"orange\"), nrow = 2, ncol = 2)\n",
    "thismatrix"
   ]
  },
  {
   "cell_type": "code",
   "execution_count": 49,
   "id": "416264f3",
   "metadata": {},
   "outputs": [
    {
     "data": {
      "text/html": [
       "'cherry'"
      ],
      "text/latex": [
       "'cherry'"
      ],
      "text/markdown": [
       "'cherry'"
      ],
      "text/plain": [
       "[1] \"cherry\""
      ]
     },
     "metadata": {},
     "output_type": "display_data"
    }
   ],
   "source": [
    "thismatrix[1, 2]"
   ]
  },
  {
   "cell_type": "code",
   "execution_count": 50,
   "id": "2fc22f7e",
   "metadata": {},
   "outputs": [
    {
     "data": {
      "text/html": [
       "<style>\n",
       ".list-inline {list-style: none; margin:0; padding: 0}\n",
       ".list-inline>li {display: inline-block}\n",
       ".list-inline>li:not(:last-child)::after {content: \"\\00b7\"; padding: 0 .5ex}\n",
       "</style>\n",
       "<ol class=list-inline><li>'banana'</li><li>'orange'</li></ol>\n"
      ],
      "text/latex": [
       "\\begin{enumerate*}\n",
       "\\item 'banana'\n",
       "\\item 'orange'\n",
       "\\end{enumerate*}\n"
      ],
      "text/markdown": [
       "1. 'banana'\n",
       "2. 'orange'\n",
       "\n",
       "\n"
      ],
      "text/plain": [
       "[1] \"banana\" \"orange\""
      ]
     },
     "metadata": {},
     "output_type": "display_data"
    }
   ],
   "source": [
    "thismatrix <- matrix(c(\"apple\", \"banana\", \"cherry\", \"orange\"), nrow = 2, ncol = 2)\n",
    "thismatrix[2,]"
   ]
  },
  {
   "cell_type": "code",
   "execution_count": 51,
   "id": "73e097a3",
   "metadata": {},
   "outputs": [
    {
     "data": {
      "text/html": [
       "<table class=\"dataframe\">\n",
       "<caption>A matrix: 2 × 3 of type chr</caption>\n",
       "<tbody>\n",
       "\t<tr><td>apple </td><td>orange</td><td>pear </td></tr>\n",
       "\t<tr><td>banana</td><td>grape </td><td>melon</td></tr>\n",
       "</tbody>\n",
       "</table>\n"
      ],
      "text/latex": [
       "A matrix: 2 × 3 of type chr\n",
       "\\begin{tabular}{lll}\n",
       "\t apple  & orange & pear \\\\\n",
       "\t banana & grape  & melon\\\\\n",
       "\\end{tabular}\n"
      ],
      "text/markdown": [
       "\n",
       "A matrix: 2 × 3 of type chr\n",
       "\n",
       "| apple  | orange | pear  |\n",
       "| banana | grape  | melon |\n",
       "\n"
      ],
      "text/plain": [
       "     [,1]   [,2]   [,3] \n",
       "[1,] apple  orange pear \n",
       "[2,] banana grape  melon"
      ]
     },
     "metadata": {},
     "output_type": "display_data"
    }
   ],
   "source": [
    "thismatrix <- matrix(c(\"apple\", \"banana\", \"cherry\", \"orange\",\"grape\", \"pineapple\", \"pear\", \"melon\", \"fig\"), \n",
    "                     nrow = 3, ncol = 3)\n",
    "\n",
    "thismatrix[c(1,2),]"
   ]
  },
  {
   "cell_type": "code",
   "execution_count": 52,
   "id": "2d73a0f3",
   "metadata": {},
   "outputs": [
    {
     "data": {
      "text/html": [
       "<table class=\"dataframe\">\n",
       "<caption>A matrix: 3 × 3 of type chr</caption>\n",
       "<tbody>\n",
       "\t<tr><td>apple </td><td>orange   </td><td>pear </td></tr>\n",
       "\t<tr><td>banana</td><td>grape    </td><td>melon</td></tr>\n",
       "\t<tr><td>cherry</td><td>pineapple</td><td>fig  </td></tr>\n",
       "</tbody>\n",
       "</table>\n"
      ],
      "text/latex": [
       "A matrix: 3 × 3 of type chr\n",
       "\\begin{tabular}{lll}\n",
       "\t apple  & orange    & pear \\\\\n",
       "\t banana & grape     & melon\\\\\n",
       "\t cherry & pineapple & fig  \\\\\n",
       "\\end{tabular}\n"
      ],
      "text/markdown": [
       "\n",
       "A matrix: 3 × 3 of type chr\n",
       "\n",
       "| apple  | orange    | pear  |\n",
       "| banana | grape     | melon |\n",
       "| cherry | pineapple | fig   |\n",
       "\n"
      ],
      "text/plain": [
       "     [,1]   [,2]      [,3] \n",
       "[1,] apple  orange    pear \n",
       "[2,] banana grape     melon\n",
       "[3,] cherry pineapple fig  "
      ]
     },
     "metadata": {},
     "output_type": "display_data"
    }
   ],
   "source": [
    "thismatrix"
   ]
  },
  {
   "cell_type": "code",
   "execution_count": 53,
   "id": "44f001e7",
   "metadata": {},
   "outputs": [
    {
     "data": {
      "text/html": [
       "<table class=\"dataframe\">\n",
       "<caption>A matrix: 3 × 4 of type chr</caption>\n",
       "<tbody>\n",
       "\t<tr><td>apple </td><td>orange   </td><td>pear </td><td>strawberry</td></tr>\n",
       "\t<tr><td>banana</td><td>grape    </td><td>melon</td><td>blueberry </td></tr>\n",
       "\t<tr><td>cherry</td><td>pineapple</td><td>fig  </td><td>raspberry </td></tr>\n",
       "</tbody>\n",
       "</table>\n"
      ],
      "text/latex": [
       "A matrix: 3 × 4 of type chr\n",
       "\\begin{tabular}{llll}\n",
       "\t apple  & orange    & pear  & strawberry\\\\\n",
       "\t banana & grape     & melon & blueberry \\\\\n",
       "\t cherry & pineapple & fig   & raspberry \\\\\n",
       "\\end{tabular}\n"
      ],
      "text/markdown": [
       "\n",
       "A matrix: 3 × 4 of type chr\n",
       "\n",
       "| apple  | orange    | pear  | strawberry |\n",
       "| banana | grape     | melon | blueberry  |\n",
       "| cherry | pineapple | fig   | raspberry  |\n",
       "\n"
      ],
      "text/plain": [
       "     [,1]   [,2]      [,3]  [,4]      \n",
       "[1,] apple  orange    pear  strawberry\n",
       "[2,] banana grape     melon blueberry \n",
       "[3,] cherry pineapple fig   raspberry "
      ]
     },
     "metadata": {},
     "output_type": "display_data"
    }
   ],
   "source": [
    "newmatrix <- cbind(thismatrix, c(\"strawberry\", \"blueberry\", \"raspberry\"))\n",
    "newmatrix"
   ]
  },
  {
   "cell_type": "code",
   "execution_count": 54,
   "id": "c79532dd",
   "metadata": {},
   "outputs": [
    {
     "data": {
      "text/html": [
       "<table class=\"dataframe\">\n",
       "<caption>A matrix: 4 × 3 of type chr</caption>\n",
       "<tbody>\n",
       "\t<tr><td>apple     </td><td>orange   </td><td>pear     </td></tr>\n",
       "\t<tr><td>banana    </td><td>grape    </td><td>melon    </td></tr>\n",
       "\t<tr><td>cherry    </td><td>pineapple</td><td>fig      </td></tr>\n",
       "\t<tr><td>strawberry</td><td>blueberry</td><td>raspberry</td></tr>\n",
       "</tbody>\n",
       "</table>\n"
      ],
      "text/latex": [
       "A matrix: 4 × 3 of type chr\n",
       "\\begin{tabular}{lll}\n",
       "\t apple      & orange    & pear     \\\\\n",
       "\t banana     & grape     & melon    \\\\\n",
       "\t cherry     & pineapple & fig      \\\\\n",
       "\t strawberry & blueberry & raspberry\\\\\n",
       "\\end{tabular}\n"
      ],
      "text/markdown": [
       "\n",
       "A matrix: 4 × 3 of type chr\n",
       "\n",
       "| apple      | orange    | pear      |\n",
       "| banana     | grape     | melon     |\n",
       "| cherry     | pineapple | fig       |\n",
       "| strawberry | blueberry | raspberry |\n",
       "\n"
      ],
      "text/plain": [
       "     [,1]       [,2]      [,3]     \n",
       "[1,] apple      orange    pear     \n",
       "[2,] banana     grape     melon    \n",
       "[3,] cherry     pineapple fig      \n",
       "[4,] strawberry blueberry raspberry"
      ]
     },
     "metadata": {},
     "output_type": "display_data"
    }
   ],
   "source": [
    "thismatrix <- matrix(c(\"apple\", \"banana\", \"cherry\", \"orange\",\"grape\", \"pineapple\", \"pear\", \"melon\", \"fig\"), \n",
    "                     nrow = 3, ncol = 3)\n",
    "newmatrix <- rbind(thismatrix, c(\"strawberry\", \"blueberry\", \"raspberry\"))\n",
    "newmatrix"
   ]
  },
  {
   "cell_type": "code",
   "execution_count": 55,
   "id": "09742072",
   "metadata": {},
   "outputs": [],
   "source": [
    "thismatrix <- thismatrix[-c(1), -c(1)]"
   ]
  },
  {
   "cell_type": "code",
   "execution_count": 56,
   "id": "612f5ef1",
   "metadata": {},
   "outputs": [
    {
     "data": {
      "text/html": [
       "<table class=\"dataframe\">\n",
       "<caption>A matrix: 2 × 2 of type chr</caption>\n",
       "<tbody>\n",
       "\t<tr><td>grape    </td><td>melon</td></tr>\n",
       "\t<tr><td>pineapple</td><td>fig  </td></tr>\n",
       "</tbody>\n",
       "</table>\n"
      ],
      "text/latex": [
       "A matrix: 2 × 2 of type chr\n",
       "\\begin{tabular}{ll}\n",
       "\t grape     & melon\\\\\n",
       "\t pineapple & fig  \\\\\n",
       "\\end{tabular}\n"
      ],
      "text/markdown": [
       "\n",
       "A matrix: 2 × 2 of type chr\n",
       "\n",
       "| grape     | melon |\n",
       "| pineapple | fig   |\n",
       "\n"
      ],
      "text/plain": [
       "     [,1]      [,2] \n",
       "[1,] grape     melon\n",
       "[2,] pineapple fig  "
      ]
     },
     "metadata": {},
     "output_type": "display_data"
    }
   ],
   "source": [
    "thismatrix"
   ]
  },
  {
   "cell_type": "code",
   "execution_count": 57,
   "id": "954a055b",
   "metadata": {},
   "outputs": [
    {
     "data": {
      "text/html": [
       "TRUE"
      ],
      "text/latex": [
       "TRUE"
      ],
      "text/markdown": [
       "TRUE"
      ],
      "text/plain": [
       "[1] TRUE"
      ]
     },
     "metadata": {},
     "output_type": "display_data"
    }
   ],
   "source": [
    "thismatrix <- matrix(c(\"apple\", \"banana\", \"cherry\", \"orange\"), nrow = 2, ncol = 2)\n",
    "\n",
    "\"apple\" %in% thismatrix"
   ]
  },
  {
   "cell_type": "code",
   "execution_count": 58,
   "id": "0594da38",
   "metadata": {},
   "outputs": [
    {
     "data": {
      "text/html": [
       "<style>\n",
       ".list-inline {list-style: none; margin:0; padding: 0}\n",
       ".list-inline>li {display: inline-block}\n",
       ".list-inline>li:not(:last-child)::after {content: \"\\00b7\"; padding: 0 .5ex}\n",
       "</style>\n",
       "<ol class=list-inline><li>2</li><li>2</li></ol>\n"
      ],
      "text/latex": [
       "\\begin{enumerate*}\n",
       "\\item 2\n",
       "\\item 2\n",
       "\\end{enumerate*}\n"
      ],
      "text/markdown": [
       "1. 2\n",
       "2. 2\n",
       "\n",
       "\n"
      ],
      "text/plain": [
       "[1] 2 2"
      ]
     },
     "metadata": {},
     "output_type": "display_data"
    }
   ],
   "source": [
    "thismatrix <- matrix(c(\"apple\", \"banana\", \"cherry\", \"orange\"), nrow = 2, ncol = 2)\n",
    "\n",
    "dim(thismatrix)"
   ]
  },
  {
   "cell_type": "code",
   "execution_count": 59,
   "id": "c24f31ee",
   "metadata": {},
   "outputs": [
    {
     "data": {
      "text/html": [
       "4"
      ],
      "text/latex": [
       "4"
      ],
      "text/markdown": [
       "4"
      ],
      "text/plain": [
       "[1] 4"
      ]
     },
     "metadata": {},
     "output_type": "display_data"
    }
   ],
   "source": [
    "thismatrix <- matrix(c(\"apple\", \"banana\", \"cherry\", \"orange\"), nrow = 2, ncol = 2)\n",
    "\n",
    "length(thismatrix)"
   ]
  },
  {
   "cell_type": "code",
   "execution_count": 60,
   "id": "7f6656a2",
   "metadata": {},
   "outputs": [
    {
     "name": "stdout",
     "output_type": "stream",
     "text": [
      "[1] \"apple\"\n",
      "[1] \"cherry\"\n",
      "[1] \"banana\"\n",
      "[1] \"orange\"\n"
     ]
    }
   ],
   "source": [
    "thismatrix <- matrix(c(\"apple\", \"banana\", \"cherry\", \"orange\"), nrow = 2, ncol = 2)\n",
    "\n",
    "for (rows in 1:nrow(thismatrix)) {\n",
    "  for (columns in 1:ncol(thismatrix)) {\n",
    "    print(thismatrix[rows, columns])\n",
    "  }\n",
    "}"
   ]
  },
  {
   "cell_type": "code",
   "execution_count": 61,
   "id": "17ecc698",
   "metadata": {},
   "outputs": [
    {
     "name": "stdout",
     "output_type": "stream",
     "text": [
      "[1] \"apple\"\n",
      "[1] \"banana\"\n",
      "[1] \"cherry\"\n",
      "[1] \"orange\"\n"
     ]
    }
   ],
   "source": [
    "for (x in thismatrix) {\n",
    "    print(x)\n",
    "}"
   ]
  },
  {
   "cell_type": "code",
   "execution_count": 62,
   "id": "93540e2b",
   "metadata": {},
   "outputs": [
    {
     "data": {
      "text/html": [
       "<table class=\"dataframe\">\n",
       "<caption>A matrix: 2 × 2 of type chr</caption>\n",
       "<tbody>\n",
       "\t<tr><td>apple </td><td>cherry</td></tr>\n",
       "\t<tr><td>banana</td><td>orange</td></tr>\n",
       "</tbody>\n",
       "</table>\n"
      ],
      "text/latex": [
       "A matrix: 2 × 2 of type chr\n",
       "\\begin{tabular}{ll}\n",
       "\t apple  & cherry\\\\\n",
       "\t banana & orange\\\\\n",
       "\\end{tabular}\n"
      ],
      "text/markdown": [
       "\n",
       "A matrix: 2 × 2 of type chr\n",
       "\n",
       "| apple  | cherry |\n",
       "| banana | orange |\n",
       "\n"
      ],
      "text/plain": [
       "     [,1]   [,2]  \n",
       "[1,] apple  cherry\n",
       "[2,] banana orange"
      ]
     },
     "metadata": {},
     "output_type": "display_data"
    }
   ],
   "source": [
    "thismatrix"
   ]
  },
  {
   "cell_type": "code",
   "execution_count": 63,
   "id": "32fc17ef",
   "metadata": {},
   "outputs": [
    {
     "data": {
      "text/html": [
       "2"
      ],
      "text/latex": [
       "2"
      ],
      "text/markdown": [
       "2"
      ],
      "text/plain": [
       "[1] 2"
      ]
     },
     "metadata": {},
     "output_type": "display_data"
    }
   ],
   "source": [
    "nrow(thismatrix)"
   ]
  },
  {
   "cell_type": "code",
   "execution_count": 64,
   "id": "7b2898b3",
   "metadata": {},
   "outputs": [
    {
     "data": {
      "text/html": [
       "2"
      ],
      "text/latex": [
       "2"
      ],
      "text/markdown": [
       "2"
      ],
      "text/plain": [
       "[1] 2"
      ]
     },
     "metadata": {},
     "output_type": "display_data"
    }
   ],
   "source": [
    "ncol(thismatrix)"
   ]
  },
  {
   "cell_type": "code",
   "execution_count": 65,
   "id": "7834e3a3",
   "metadata": {},
   "outputs": [
    {
     "data": {
      "text/html": [
       "<table class=\"dataframe\">\n",
       "<caption>A matrix: 4 × 2 of type chr</caption>\n",
       "<tbody>\n",
       "\t<tr><td>apple </td><td>cherry    </td></tr>\n",
       "\t<tr><td>banana</td><td>grape     </td></tr>\n",
       "\t<tr><td>orange</td><td>pineapple </td></tr>\n",
       "\t<tr><td>mango </td><td>watermelon</td></tr>\n",
       "</tbody>\n",
       "</table>\n"
      ],
      "text/latex": [
       "A matrix: 4 × 2 of type chr\n",
       "\\begin{tabular}{ll}\n",
       "\t apple  & cherry    \\\\\n",
       "\t banana & grape     \\\\\n",
       "\t orange & pineapple \\\\\n",
       "\t mango  & watermelon\\\\\n",
       "\\end{tabular}\n"
      ],
      "text/markdown": [
       "\n",
       "A matrix: 4 × 2 of type chr\n",
       "\n",
       "| apple  | cherry     |\n",
       "| banana | grape      |\n",
       "| orange | pineapple  |\n",
       "| mango  | watermelon |\n",
       "\n"
      ],
      "text/plain": [
       "     [,1]   [,2]      \n",
       "[1,] apple  cherry    \n",
       "[2,] banana grape     \n",
       "[3,] orange pineapple \n",
       "[4,] mango  watermelon"
      ]
     },
     "metadata": {},
     "output_type": "display_data"
    },
    {
     "data": {
      "text/html": [
       "<table class=\"dataframe\">\n",
       "<caption>A matrix: 2 × 4 of type chr</caption>\n",
       "<tbody>\n",
       "\t<tr><td>apple </td><td>cherry</td><td>orange</td><td>pineapple </td></tr>\n",
       "\t<tr><td>banana</td><td>grape </td><td>mango </td><td>watermelon</td></tr>\n",
       "</tbody>\n",
       "</table>\n"
      ],
      "text/latex": [
       "A matrix: 2 × 4 of type chr\n",
       "\\begin{tabular}{llll}\n",
       "\t apple  & cherry & orange & pineapple \\\\\n",
       "\t banana & grape  & mango  & watermelon\\\\\n",
       "\\end{tabular}\n"
      ],
      "text/markdown": [
       "\n",
       "A matrix: 2 × 4 of type chr\n",
       "\n",
       "| apple  | cherry | orange | pineapple  |\n",
       "| banana | grape  | mango  | watermelon |\n",
       "\n"
      ],
      "text/plain": [
       "     [,1]   [,2]   [,3]   [,4]      \n",
       "[1,] apple  cherry orange pineapple \n",
       "[2,] banana grape  mango  watermelon"
      ]
     },
     "metadata": {},
     "output_type": "display_data"
    }
   ],
   "source": [
    "# Combine matrices\n",
    "Matrix1 <- matrix(c(\"apple\", \"banana\", \"cherry\", \"grape\"), nrow = 2, ncol = 2)\n",
    "Matrix2 <- matrix(c(\"orange\", \"mango\", \"pineapple\", \"watermelon\"), nrow = 2, ncol = 2)\n",
    "\n",
    "# Adding it as a rows\n",
    "Matrix_Combined <- rbind(Matrix1, Matrix2)\n",
    "Matrix_Combined\n",
    "\n",
    "# Adding it as a columns\n",
    "Matrix_Combined <- cbind(Matrix1, Matrix2)\n",
    "Matrix_Combined"
   ]
  },
  {
   "cell_type": "code",
   "execution_count": 67,
   "id": "8eb50e89",
   "metadata": {},
   "outputs": [],
   "source": [
    "#Arrays can bemore than , single dtype"
   ]
  },
  {
   "cell_type": "code",
   "execution_count": 68,
   "id": "941cb813",
   "metadata": {},
   "outputs": [
    {
     "data": {
      "text/html": [
       "<style>\n",
       ".list-inline {list-style: none; margin:0; padding: 0}\n",
       ".list-inline>li {display: inline-block}\n",
       ".list-inline>li:not(:last-child)::after {content: \"\\00b7\"; padding: 0 .5ex}\n",
       "</style>\n",
       "<ol class=list-inline><li>1</li><li>2</li><li>3</li><li>4</li><li>5</li><li>6</li><li>7</li><li>8</li><li>9</li><li>10</li><li>11</li><li>12</li><li>13</li><li>14</li><li>15</li><li>16</li><li>17</li><li>18</li><li>19</li><li>20</li><li>21</li><li>22</li><li>23</li><li>24</li></ol>\n"
      ],
      "text/latex": [
       "\\begin{enumerate*}\n",
       "\\item 1\n",
       "\\item 2\n",
       "\\item 3\n",
       "\\item 4\n",
       "\\item 5\n",
       "\\item 6\n",
       "\\item 7\n",
       "\\item 8\n",
       "\\item 9\n",
       "\\item 10\n",
       "\\item 11\n",
       "\\item 12\n",
       "\\item 13\n",
       "\\item 14\n",
       "\\item 15\n",
       "\\item 16\n",
       "\\item 17\n",
       "\\item 18\n",
       "\\item 19\n",
       "\\item 20\n",
       "\\item 21\n",
       "\\item 22\n",
       "\\item 23\n",
       "\\item 24\n",
       "\\end{enumerate*}\n"
      ],
      "text/markdown": [
       "1. 1\n",
       "2. 2\n",
       "3. 3\n",
       "4. 4\n",
       "5. 5\n",
       "6. 6\n",
       "7. 7\n",
       "8. 8\n",
       "9. 9\n",
       "10. 10\n",
       "11. 11\n",
       "12. 12\n",
       "13. 13\n",
       "14. 14\n",
       "15. 15\n",
       "16. 16\n",
       "17. 17\n",
       "18. 18\n",
       "19. 19\n",
       "20. 20\n",
       "21. 21\n",
       "22. 22\n",
       "23. 23\n",
       "24. 24\n",
       "\n",
       "\n"
      ],
      "text/plain": [
       " [1]  1  2  3  4  5  6  7  8  9 10 11 12 13 14 15 16 17 18 19 20 21 22 23 24"
      ]
     },
     "metadata": {},
     "output_type": "display_data"
    },
    {
     "data": {
      "text/html": [
       "<style>\n",
       ".list-inline {list-style: none; margin:0; padding: 0}\n",
       ".list-inline>li {display: inline-block}\n",
       ".list-inline>li:not(:last-child)::after {content: \"\\00b7\"; padding: 0 .5ex}\n",
       "</style>\n",
       "<ol class=list-inline><li>1</li><li>2</li><li>3</li><li>4</li><li>5</li><li>6</li><li>7</li><li>8</li><li>9</li><li>10</li><li>11</li><li>12</li><li>13</li><li>14</li><li>15</li><li>16</li><li>17</li><li>18</li><li>19</li><li>20</li><li>21</li><li>22</li><li>23</li><li>24</li></ol>\n"
      ],
      "text/latex": [
       "\\begin{enumerate*}\n",
       "\\item 1\n",
       "\\item 2\n",
       "\\item 3\n",
       "\\item 4\n",
       "\\item 5\n",
       "\\item 6\n",
       "\\item 7\n",
       "\\item 8\n",
       "\\item 9\n",
       "\\item 10\n",
       "\\item 11\n",
       "\\item 12\n",
       "\\item 13\n",
       "\\item 14\n",
       "\\item 15\n",
       "\\item 16\n",
       "\\item 17\n",
       "\\item 18\n",
       "\\item 19\n",
       "\\item 20\n",
       "\\item 21\n",
       "\\item 22\n",
       "\\item 23\n",
       "\\item 24\n",
       "\\end{enumerate*}\n"
      ],
      "text/markdown": [
       "1. 1\n",
       "2. 2\n",
       "3. 3\n",
       "4. 4\n",
       "5. 5\n",
       "6. 6\n",
       "7. 7\n",
       "8. 8\n",
       "9. 9\n",
       "10. 10\n",
       "11. 11\n",
       "12. 12\n",
       "13. 13\n",
       "14. 14\n",
       "15. 15\n",
       "16. 16\n",
       "17. 17\n",
       "18. 18\n",
       "19. 19\n",
       "20. 20\n",
       "21. 21\n",
       "22. 22\n",
       "23. 23\n",
       "24. 24\n",
       "\n",
       "\n"
      ],
      "text/plain": [
       ", , 1\n",
       "\n",
       "     [,1] [,2] [,3]\n",
       "[1,]    1    5    9\n",
       "[2,]    2    6   10\n",
       "[3,]    3    7   11\n",
       "[4,]    4    8   12\n",
       "\n",
       ", , 2\n",
       "\n",
       "     [,1] [,2] [,3]\n",
       "[1,]   13   17   21\n",
       "[2,]   14   18   22\n",
       "[3,]   15   19   23\n",
       "[4,]   16   20   24\n"
      ]
     },
     "metadata": {},
     "output_type": "display_data"
    }
   ],
   "source": [
    "# An array with one dimension with values ranging from 1 to 24\n",
    "thisarray <- c(1:24)\n",
    "thisarray\n",
    "\n",
    "# An array with more than one dimension\n",
    "multiarray <- array(thisarray, dim = c(4, 3, 2))\n",
    "multiarray"
   ]
  },
  {
   "cell_type": "code",
   "execution_count": 71,
   "id": "3e9b0f16",
   "metadata": {},
   "outputs": [
    {
     "data": {
      "text/html": [
       "<style>\n",
       ".list-inline {list-style: none; margin:0; padding: 0}\n",
       ".list-inline>li {display: inline-block}\n",
       ".list-inline>li:not(:last-child)::after {content: \"\\00b7\"; padding: 0 .5ex}\n",
       "</style>\n",
       "<ol class=list-inline><li>4</li><li>3</li><li>2</li></ol>\n"
      ],
      "text/latex": [
       "\\begin{enumerate*}\n",
       "\\item 4\n",
       "\\item 3\n",
       "\\item 2\n",
       "\\end{enumerate*}\n"
      ],
      "text/markdown": [
       "1. 4\n",
       "2. 3\n",
       "3. 2\n",
       "\n",
       "\n"
      ],
      "text/plain": [
       "[1] 4 3 2"
      ]
     },
     "metadata": {},
     "output_type": "display_data"
    }
   ],
   "source": [
    "dim(multiarray)"
   ]
  },
  {
   "cell_type": "code",
   "execution_count": 72,
   "id": "43908c60",
   "metadata": {},
   "outputs": [
    {
     "data": {
      "text/html": [
       "<style>\n",
       ".list-inline {list-style: none; margin:0; padding: 0}\n",
       ".list-inline>li {display: inline-block}\n",
       ".list-inline>li:not(:last-child)::after {content: \"\\00b7\"; padding: 0 .5ex}\n",
       "</style>\n",
       "<ol class=list-inline><li>1</li><li>5</li><li>9</li></ol>\n"
      ],
      "text/latex": [
       "\\begin{enumerate*}\n",
       "\\item 1\n",
       "\\item 5\n",
       "\\item 9\n",
       "\\end{enumerate*}\n"
      ],
      "text/markdown": [
       "1. 1\n",
       "2. 5\n",
       "3. 9\n",
       "\n",
       "\n"
      ],
      "text/plain": [
       "[1] 1 5 9"
      ]
     },
     "metadata": {},
     "output_type": "display_data"
    },
    {
     "data": {
      "text/html": [
       "<style>\n",
       ".list-inline {list-style: none; margin:0; padding: 0}\n",
       ".list-inline>li {display: inline-block}\n",
       ".list-inline>li:not(:last-child)::after {content: \"\\00b7\"; padding: 0 .5ex}\n",
       "</style>\n",
       "<ol class=list-inline><li>1</li><li>2</li><li>3</li><li>4</li></ol>\n"
      ],
      "text/latex": [
       "\\begin{enumerate*}\n",
       "\\item 1\n",
       "\\item 2\n",
       "\\item 3\n",
       "\\item 4\n",
       "\\end{enumerate*}\n"
      ],
      "text/markdown": [
       "1. 1\n",
       "2. 2\n",
       "3. 3\n",
       "4. 4\n",
       "\n",
       "\n"
      ],
      "text/plain": [
       "[1] 1 2 3 4"
      ]
     },
     "metadata": {},
     "output_type": "display_data"
    }
   ],
   "source": [
    "thisarray <- c(1:24)\n",
    "\n",
    "# Access all the items from the first row from matrix one\n",
    "multiarray <- array(thisarray, dim = c(4, 3, 2))\n",
    "multiarray[c(1),,1]\n",
    "\n",
    "# Access all the items from the first column from matrix one\n",
    "multiarray <- array(thisarray, dim = c(4, 3, 2))\n",
    "multiarray[,c(1),1]"
   ]
  },
  {
   "cell_type": "code",
   "execution_count": 73,
   "id": "9725c5c3",
   "metadata": {},
   "outputs": [
    {
     "data": {
      "text/html": [
       "TRUE"
      ],
      "text/latex": [
       "TRUE"
      ],
      "text/markdown": [
       "TRUE"
      ],
      "text/plain": [
       "[1] TRUE"
      ]
     },
     "metadata": {},
     "output_type": "display_data"
    }
   ],
   "source": [
    "thisarray <- c(1:24)\n",
    "multiarray <- array(thisarray, dim = c(4, 3, 2))\n",
    "\n",
    "2 %in% multiarray"
   ]
  },
  {
   "cell_type": "code",
   "execution_count": 74,
   "id": "ac5ab78c",
   "metadata": {},
   "outputs": [
    {
     "data": {
      "text/html": [
       "24"
      ],
      "text/latex": [
       "24"
      ],
      "text/markdown": [
       "24"
      ],
      "text/plain": [
       "[1] 24"
      ]
     },
     "metadata": {},
     "output_type": "display_data"
    }
   ],
   "source": [
    "thisarray <- c(1:24)\n",
    "multiarray <- array(thisarray, dim = c(4, 3, 2))\n",
    "\n",
    "length(multiarray)"
   ]
  },
  {
   "cell_type": "code",
   "execution_count": 75,
   "id": "03b57c7c",
   "metadata": {
    "scrolled": true
   },
   "outputs": [
    {
     "name": "stdout",
     "output_type": "stream",
     "text": [
      "[1] 1\n",
      "[1] 2\n",
      "[1] 3\n",
      "[1] 4\n",
      "[1] 5\n",
      "[1] 6\n",
      "[1] 7\n",
      "[1] 8\n",
      "[1] 9\n",
      "[1] 10\n",
      "[1] 11\n",
      "[1] 12\n",
      "[1] 13\n",
      "[1] 14\n",
      "[1] 15\n",
      "[1] 16\n",
      "[1] 17\n",
      "[1] 18\n",
      "[1] 19\n",
      "[1] 20\n",
      "[1] 21\n",
      "[1] 22\n",
      "[1] 23\n",
      "[1] 24\n"
     ]
    }
   ],
   "source": [
    "thisarray <- c(1:24)\n",
    "multiarray <- array(thisarray, dim = c(4, 3, 2))\n",
    "\n",
    "for(x in multiarray){\n",
    "  print(x)\n",
    "}"
   ]
  },
  {
   "cell_type": "code",
   "execution_count": 76,
   "id": "f498b056",
   "metadata": {},
   "outputs": [],
   "source": [
    "#Dataframe "
   ]
  },
  {
   "cell_type": "code",
   "execution_count": 77,
   "id": "8dbef237",
   "metadata": {},
   "outputs": [
    {
     "data": {
      "text/html": [
       "<table class=\"dataframe\">\n",
       "<caption>A data.frame: 3 × 3</caption>\n",
       "<thead>\n",
       "\t<tr><th scope=col>Training</th><th scope=col>Pulse</th><th scope=col>Duration</th></tr>\n",
       "\t<tr><th scope=col>&lt;chr&gt;</th><th scope=col>&lt;dbl&gt;</th><th scope=col>&lt;dbl&gt;</th></tr>\n",
       "</thead>\n",
       "<tbody>\n",
       "\t<tr><td>Strength</td><td>100</td><td>60</td></tr>\n",
       "\t<tr><td>Stamina </td><td>150</td><td>30</td></tr>\n",
       "\t<tr><td>Other   </td><td>120</td><td>45</td></tr>\n",
       "</tbody>\n",
       "</table>\n"
      ],
      "text/latex": [
       "A data.frame: 3 × 3\n",
       "\\begin{tabular}{lll}\n",
       " Training & Pulse & Duration\\\\\n",
       " <chr> & <dbl> & <dbl>\\\\\n",
       "\\hline\n",
       "\t Strength & 100 & 60\\\\\n",
       "\t Stamina  & 150 & 30\\\\\n",
       "\t Other    & 120 & 45\\\\\n",
       "\\end{tabular}\n"
      ],
      "text/markdown": [
       "\n",
       "A data.frame: 3 × 3\n",
       "\n",
       "| Training &lt;chr&gt; | Pulse &lt;dbl&gt; | Duration &lt;dbl&gt; |\n",
       "|---|---|---|\n",
       "| Strength | 100 | 60 |\n",
       "| Stamina  | 150 | 30 |\n",
       "| Other    | 120 | 45 |\n",
       "\n"
      ],
      "text/plain": [
       "  Training Pulse Duration\n",
       "1 Strength 100   60      \n",
       "2 Stamina  150   30      \n",
       "3 Other    120   45      "
      ]
     },
     "metadata": {},
     "output_type": "display_data"
    }
   ],
   "source": [
    "# Create a data frame\n",
    "Data_Frame <- data.frame (\n",
    "  Training = c(\"Strength\", \"Stamina\", \"Other\"),\n",
    "  Pulse = c(100, 150, 120),\n",
    "  Duration = c(60, 30, 45)\n",
    ")\n",
    "\n",
    "# Print the data frame\n",
    "Data_Frame"
   ]
  },
  {
   "cell_type": "code",
   "execution_count": 78,
   "id": "e350a815",
   "metadata": {},
   "outputs": [
    {
     "data": {
      "text/html": [
       "<table class=\"dataframe\">\n",
       "<caption>A data.frame: 3 × 3</caption>\n",
       "<thead>\n",
       "\t<tr><th scope=col>Training</th><th scope=col>Pulse</th><th scope=col>Duration</th></tr>\n",
       "\t<tr><th scope=col>&lt;chr&gt;</th><th scope=col>&lt;dbl&gt;</th><th scope=col>&lt;dbl&gt;</th></tr>\n",
       "</thead>\n",
       "<tbody>\n",
       "\t<tr><td>Strength</td><td>100</td><td>60</td></tr>\n",
       "\t<tr><td>Stamina </td><td>150</td><td>30</td></tr>\n",
       "\t<tr><td>Other   </td><td>120</td><td>45</td></tr>\n",
       "</tbody>\n",
       "</table>\n"
      ],
      "text/latex": [
       "A data.frame: 3 × 3\n",
       "\\begin{tabular}{lll}\n",
       " Training & Pulse & Duration\\\\\n",
       " <chr> & <dbl> & <dbl>\\\\\n",
       "\\hline\n",
       "\t Strength & 100 & 60\\\\\n",
       "\t Stamina  & 150 & 30\\\\\n",
       "\t Other    & 120 & 45\\\\\n",
       "\\end{tabular}\n"
      ],
      "text/markdown": [
       "\n",
       "A data.frame: 3 × 3\n",
       "\n",
       "| Training &lt;chr&gt; | Pulse &lt;dbl&gt; | Duration &lt;dbl&gt; |\n",
       "|---|---|---|\n",
       "| Strength | 100 | 60 |\n",
       "| Stamina  | 150 | 30 |\n",
       "| Other    | 120 | 45 |\n",
       "\n"
      ],
      "text/plain": [
       "  Training Pulse Duration\n",
       "1 Strength 100   60      \n",
       "2 Stamina  150   30      \n",
       "3 Other    120   45      "
      ]
     },
     "metadata": {},
     "output_type": "display_data"
    },
    {
     "data": {
      "text/plain": [
       "   Training             Pulse          Duration   \n",
       " Length:3           Min.   :100.0   Min.   :30.0  \n",
       " Class :character   1st Qu.:110.0   1st Qu.:37.5  \n",
       " Mode  :character   Median :120.0   Median :45.0  \n",
       "                    Mean   :123.3   Mean   :45.0  \n",
       "                    3rd Qu.:135.0   3rd Qu.:52.5  \n",
       "                    Max.   :150.0   Max.   :60.0  "
      ]
     },
     "metadata": {},
     "output_type": "display_data"
    }
   ],
   "source": [
    "Data_Frame <- data.frame (\n",
    "  Training = c(\"Strength\", \"Stamina\", \"Other\"),\n",
    "  Pulse = c(100, 150, 120),\n",
    "  Duration = c(60, 30, 45)\n",
    ")\n",
    "\n",
    "Data_Frame\n",
    "\n",
    "summary(Data_Frame)"
   ]
  },
  {
   "cell_type": "code",
   "execution_count": 79,
   "id": "8df6d14a",
   "metadata": {},
   "outputs": [
    {
     "data": {
      "text/html": [
       "<table class=\"dataframe\">\n",
       "<caption>A data.frame: 3 × 1</caption>\n",
       "<thead>\n",
       "\t<tr><th scope=col>Training</th></tr>\n",
       "\t<tr><th scope=col>&lt;chr&gt;</th></tr>\n",
       "</thead>\n",
       "<tbody>\n",
       "\t<tr><td>Strength</td></tr>\n",
       "\t<tr><td>Stamina </td></tr>\n",
       "\t<tr><td>Other   </td></tr>\n",
       "</tbody>\n",
       "</table>\n"
      ],
      "text/latex": [
       "A data.frame: 3 × 1\n",
       "\\begin{tabular}{l}\n",
       " Training\\\\\n",
       " <chr>\\\\\n",
       "\\hline\n",
       "\t Strength\\\\\n",
       "\t Stamina \\\\\n",
       "\t Other   \\\\\n",
       "\\end{tabular}\n"
      ],
      "text/markdown": [
       "\n",
       "A data.frame: 3 × 1\n",
       "\n",
       "| Training &lt;chr&gt; |\n",
       "|---|\n",
       "| Strength |\n",
       "| Stamina  |\n",
       "| Other    |\n",
       "\n"
      ],
      "text/plain": [
       "  Training\n",
       "1 Strength\n",
       "2 Stamina \n",
       "3 Other   "
      ]
     },
     "metadata": {},
     "output_type": "display_data"
    },
    {
     "data": {
      "text/html": [
       "<style>\n",
       ".list-inline {list-style: none; margin:0; padding: 0}\n",
       ".list-inline>li {display: inline-block}\n",
       ".list-inline>li:not(:last-child)::after {content: \"\\00b7\"; padding: 0 .5ex}\n",
       "</style>\n",
       "<ol class=list-inline><li>'Strength'</li><li>'Stamina'</li><li>'Other'</li></ol>\n"
      ],
      "text/latex": [
       "\\begin{enumerate*}\n",
       "\\item 'Strength'\n",
       "\\item 'Stamina'\n",
       "\\item 'Other'\n",
       "\\end{enumerate*}\n"
      ],
      "text/markdown": [
       "1. 'Strength'\n",
       "2. 'Stamina'\n",
       "3. 'Other'\n",
       "\n",
       "\n"
      ],
      "text/plain": [
       "[1] \"Strength\" \"Stamina\"  \"Other\"   "
      ]
     },
     "metadata": {},
     "output_type": "display_data"
    },
    {
     "data": {
      "text/html": [
       "<style>\n",
       ".list-inline {list-style: none; margin:0; padding: 0}\n",
       ".list-inline>li {display: inline-block}\n",
       ".list-inline>li:not(:last-child)::after {content: \"\\00b7\"; padding: 0 .5ex}\n",
       "</style>\n",
       "<ol class=list-inline><li>'Strength'</li><li>'Stamina'</li><li>'Other'</li></ol>\n"
      ],
      "text/latex": [
       "\\begin{enumerate*}\n",
       "\\item 'Strength'\n",
       "\\item 'Stamina'\n",
       "\\item 'Other'\n",
       "\\end{enumerate*}\n"
      ],
      "text/markdown": [
       "1. 'Strength'\n",
       "2. 'Stamina'\n",
       "3. 'Other'\n",
       "\n",
       "\n"
      ],
      "text/plain": [
       "[1] \"Strength\" \"Stamina\"  \"Other\"   "
      ]
     },
     "metadata": {},
     "output_type": "display_data"
    }
   ],
   "source": [
    "Data_Frame <- data.frame (\n",
    "  Training = c(\"Strength\", \"Stamina\", \"Other\"),\n",
    "  Pulse = c(100, 150, 120),\n",
    "  Duration = c(60, 30, 45)\n",
    ")\n",
    "\n",
    "Data_Frame[1]\n",
    "\n",
    "Data_Frame[[\"Training\"]]\n",
    "\n",
    "Data_Frame$Training"
   ]
  },
  {
   "cell_type": "code",
   "execution_count": 83,
   "id": "78f1c6bc",
   "metadata": {},
   "outputs": [
    {
     "data": {
      "text/html": [
       "<table class=\"dataframe\">\n",
       "<caption>A data.frame: 3 × 2</caption>\n",
       "<thead>\n",
       "\t<tr><th scope=col>Training</th><th scope=col>Duration</th></tr>\n",
       "\t<tr><th scope=col>&lt;chr&gt;</th><th scope=col>&lt;dbl&gt;</th></tr>\n",
       "</thead>\n",
       "<tbody>\n",
       "\t<tr><td>Strength</td><td>60</td></tr>\n",
       "\t<tr><td>Stamina </td><td>30</td></tr>\n",
       "\t<tr><td>Other   </td><td>45</td></tr>\n",
       "</tbody>\n",
       "</table>\n"
      ],
      "text/latex": [
       "A data.frame: 3 × 2\n",
       "\\begin{tabular}{ll}\n",
       " Training & Duration\\\\\n",
       " <chr> & <dbl>\\\\\n",
       "\\hline\n",
       "\t Strength & 60\\\\\n",
       "\t Stamina  & 30\\\\\n",
       "\t Other    & 45\\\\\n",
       "\\end{tabular}\n"
      ],
      "text/markdown": [
       "\n",
       "A data.frame: 3 × 2\n",
       "\n",
       "| Training &lt;chr&gt; | Duration &lt;dbl&gt; |\n",
       "|---|---|\n",
       "| Strength | 60 |\n",
       "| Stamina  | 30 |\n",
       "| Other    | 45 |\n",
       "\n"
      ],
      "text/plain": [
       "  Training Duration\n",
       "1 Strength 60      \n",
       "2 Stamina  30      \n",
       "3 Other    45      "
      ]
     },
     "metadata": {},
     "output_type": "display_data"
    }
   ],
   "source": [
    "Data_Frame[c('Training','Duration')]"
   ]
  },
  {
   "cell_type": "code",
   "execution_count": 86,
   "id": "6be7baf2",
   "metadata": {},
   "outputs": [
    {
     "data": {
      "text/html": [
       "<style>\n",
       ".list-inline {list-style: none; margin:0; padding: 0}\n",
       ".list-inline>li {display: inline-block}\n",
       ".list-inline>li:not(:last-child)::after {content: \"\\00b7\"; padding: 0 .5ex}\n",
       "</style>\n",
       "<ol class=list-inline><li>'Strength'</li><li>'Stamina'</li><li>'Other'</li></ol>\n"
      ],
      "text/latex": [
       "\\begin{enumerate*}\n",
       "\\item 'Strength'\n",
       "\\item 'Stamina'\n",
       "\\item 'Other'\n",
       "\\end{enumerate*}\n"
      ],
      "text/markdown": [
       "1. 'Strength'\n",
       "2. 'Stamina'\n",
       "3. 'Other'\n",
       "\n",
       "\n"
      ],
      "text/plain": [
       "[1] \"Strength\" \"Stamina\"  \"Other\"   "
      ]
     },
     "metadata": {},
     "output_type": "display_data"
    }
   ],
   "source": [
    "Data_Frame[['Training']]"
   ]
  },
  {
   "cell_type": "code",
   "execution_count": 87,
   "id": "90f2feec",
   "metadata": {},
   "outputs": [
    {
     "data": {
      "text/html": [
       "<table class=\"dataframe\">\n",
       "<caption>A data.frame: 4 × 3</caption>\n",
       "<thead>\n",
       "\t<tr><th scope=col>Training</th><th scope=col>Pulse</th><th scope=col>Duration</th></tr>\n",
       "\t<tr><th scope=col>&lt;chr&gt;</th><th scope=col>&lt;chr&gt;</th><th scope=col>&lt;chr&gt;</th></tr>\n",
       "</thead>\n",
       "<tbody>\n",
       "\t<tr><td>Strength</td><td>100</td><td>60 </td></tr>\n",
       "\t<tr><td>Stamina </td><td>150</td><td>30 </td></tr>\n",
       "\t<tr><td>Other   </td><td>120</td><td>45 </td></tr>\n",
       "\t<tr><td>Strength</td><td>110</td><td>110</td></tr>\n",
       "</tbody>\n",
       "</table>\n"
      ],
      "text/latex": [
       "A data.frame: 4 × 3\n",
       "\\begin{tabular}{lll}\n",
       " Training & Pulse & Duration\\\\\n",
       " <chr> & <chr> & <chr>\\\\\n",
       "\\hline\n",
       "\t Strength & 100 & 60 \\\\\n",
       "\t Stamina  & 150 & 30 \\\\\n",
       "\t Other    & 120 & 45 \\\\\n",
       "\t Strength & 110 & 110\\\\\n",
       "\\end{tabular}\n"
      ],
      "text/markdown": [
       "\n",
       "A data.frame: 4 × 3\n",
       "\n",
       "| Training &lt;chr&gt; | Pulse &lt;chr&gt; | Duration &lt;chr&gt; |\n",
       "|---|---|---|\n",
       "| Strength | 100 | 60  |\n",
       "| Stamina  | 150 | 30  |\n",
       "| Other    | 120 | 45  |\n",
       "| Strength | 110 | 110 |\n",
       "\n"
      ],
      "text/plain": [
       "  Training Pulse Duration\n",
       "1 Strength 100   60      \n",
       "2 Stamina  150   30      \n",
       "3 Other    120   45      \n",
       "4 Strength 110   110     "
      ]
     },
     "metadata": {},
     "output_type": "display_data"
    }
   ],
   "source": [
    "Data_Frame <- data.frame (\n",
    "  Training = c(\"Strength\", \"Stamina\", \"Other\"),\n",
    "  Pulse = c(100, 150, 120),\n",
    "  Duration = c(60, 30, 45)\n",
    ")\n",
    "\n",
    "# Add a new row\n",
    "New_row_DF <- rbind(Data_Frame, c(\"Strength\", 110, 110))\n",
    "\n",
    "# Print the new row\n",
    "New_row_DF"
   ]
  },
  {
   "cell_type": "code",
   "execution_count": 88,
   "id": "3f92cf31",
   "metadata": {},
   "outputs": [
    {
     "data": {
      "text/html": [
       "<table class=\"dataframe\">\n",
       "<caption>A data.frame: 3 × 4</caption>\n",
       "<thead>\n",
       "\t<tr><th scope=col>Training</th><th scope=col>Pulse</th><th scope=col>Duration</th><th scope=col>Steps</th></tr>\n",
       "\t<tr><th scope=col>&lt;chr&gt;</th><th scope=col>&lt;dbl&gt;</th><th scope=col>&lt;dbl&gt;</th><th scope=col>&lt;dbl&gt;</th></tr>\n",
       "</thead>\n",
       "<tbody>\n",
       "\t<tr><td>Strength</td><td>100</td><td>60</td><td>1000</td></tr>\n",
       "\t<tr><td>Stamina </td><td>150</td><td>30</td><td>6000</td></tr>\n",
       "\t<tr><td>Other   </td><td>120</td><td>45</td><td>2000</td></tr>\n",
       "</tbody>\n",
       "</table>\n"
      ],
      "text/latex": [
       "A data.frame: 3 × 4\n",
       "\\begin{tabular}{llll}\n",
       " Training & Pulse & Duration & Steps\\\\\n",
       " <chr> & <dbl> & <dbl> & <dbl>\\\\\n",
       "\\hline\n",
       "\t Strength & 100 & 60 & 1000\\\\\n",
       "\t Stamina  & 150 & 30 & 6000\\\\\n",
       "\t Other    & 120 & 45 & 2000\\\\\n",
       "\\end{tabular}\n"
      ],
      "text/markdown": [
       "\n",
       "A data.frame: 3 × 4\n",
       "\n",
       "| Training &lt;chr&gt; | Pulse &lt;dbl&gt; | Duration &lt;dbl&gt; | Steps &lt;dbl&gt; |\n",
       "|---|---|---|---|\n",
       "| Strength | 100 | 60 | 1000 |\n",
       "| Stamina  | 150 | 30 | 6000 |\n",
       "| Other    | 120 | 45 | 2000 |\n",
       "\n"
      ],
      "text/plain": [
       "  Training Pulse Duration Steps\n",
       "1 Strength 100   60       1000 \n",
       "2 Stamina  150   30       6000 \n",
       "3 Other    120   45       2000 "
      ]
     },
     "metadata": {},
     "output_type": "display_data"
    }
   ],
   "source": [
    "Data_Frame <- data.frame (\n",
    "  Training = c(\"Strength\", \"Stamina\", \"Other\"),\n",
    "  Pulse = c(100, 150, 120),\n",
    "  Duration = c(60, 30, 45)\n",
    ")\n",
    "\n",
    "# Add a new column\n",
    "New_col_DF <- cbind(Data_Frame, Steps = c(1000, 6000, 2000))\n",
    "\n",
    "# Print the new column\n",
    "New_col_DF"
   ]
  },
  {
   "cell_type": "code",
   "execution_count": 91,
   "id": "127a14f7",
   "metadata": {},
   "outputs": [
    {
     "data": {
      "text/html": [
       "<table class=\"dataframe\">\n",
       "<caption>A data.frame: 2 × 2</caption>\n",
       "<thead>\n",
       "\t<tr><th></th><th scope=col>Pulse</th><th scope=col>Duration</th></tr>\n",
       "\t<tr><th></th><th scope=col>&lt;dbl&gt;</th><th scope=col>&lt;dbl&gt;</th></tr>\n",
       "</thead>\n",
       "<tbody>\n",
       "\t<tr><th scope=row>2</th><td>150</td><td>30</td></tr>\n",
       "\t<tr><th scope=row>3</th><td>120</td><td>45</td></tr>\n",
       "</tbody>\n",
       "</table>\n"
      ],
      "text/latex": [
       "A data.frame: 2 × 2\n",
       "\\begin{tabular}{r|ll}\n",
       "  & Pulse & Duration\\\\\n",
       "  & <dbl> & <dbl>\\\\\n",
       "\\hline\n",
       "\t2 & 150 & 30\\\\\n",
       "\t3 & 120 & 45\\\\\n",
       "\\end{tabular}\n"
      ],
      "text/markdown": [
       "\n",
       "A data.frame: 2 × 2\n",
       "\n",
       "| <!--/--> | Pulse &lt;dbl&gt; | Duration &lt;dbl&gt; |\n",
       "|---|---|---|\n",
       "| 2 | 150 | 30 |\n",
       "| 3 | 120 | 45 |\n",
       "\n"
      ],
      "text/plain": [
       "  Pulse Duration\n",
       "2 150   30      \n",
       "3 120   45      "
      ]
     },
     "metadata": {},
     "output_type": "display_data"
    }
   ],
   "source": [
    "df <- data.frame (\n",
    "  Training = c(\"Strength\", \"Stamina\", \"Other\"),\n",
    "  Pulse = c(100, 150, 120),\n",
    "  Duration = c(60, 30, 45)\n",
    ")\n",
    "\n",
    "# Remove the first row and column\n",
    "df_new <- df[-c(1), -c(1)]\n",
    "\n",
    "# Print the new data frame\n",
    "df_new"
   ]
  },
  {
   "cell_type": "code",
   "execution_count": 92,
   "id": "77afb541",
   "metadata": {},
   "outputs": [
    {
     "data": {
      "text/html": [
       "<style>\n",
       ".list-inline {list-style: none; margin:0; padding: 0}\n",
       ".list-inline>li {display: inline-block}\n",
       ".list-inline>li:not(:last-child)::after {content: \"\\00b7\"; padding: 0 .5ex}\n",
       "</style>\n",
       "<ol class=list-inline><li>3</li><li>3</li></ol>\n"
      ],
      "text/latex": [
       "\\begin{enumerate*}\n",
       "\\item 3\n",
       "\\item 3\n",
       "\\end{enumerate*}\n"
      ],
      "text/markdown": [
       "1. 3\n",
       "2. 3\n",
       "\n",
       "\n"
      ],
      "text/plain": [
       "[1] 3 3"
      ]
     },
     "metadata": {},
     "output_type": "display_data"
    }
   ],
   "source": [
    "Data_Frame <- data.frame (\n",
    "  Training = c(\"Strength\", \"Stamina\", \"Other\"),\n",
    "  Pulse = c(100, 150, 120),\n",
    "  Duration = c(60, 30, 45)\n",
    ")\n",
    "\n",
    "dim(Data_Frame)"
   ]
  },
  {
   "cell_type": "code",
   "execution_count": 93,
   "id": "fc495c49",
   "metadata": {},
   "outputs": [
    {
     "data": {
      "text/html": [
       "3"
      ],
      "text/latex": [
       "3"
      ],
      "text/markdown": [
       "3"
      ],
      "text/plain": [
       "[1] 3"
      ]
     },
     "metadata": {},
     "output_type": "display_data"
    },
    {
     "data": {
      "text/html": [
       "3"
      ],
      "text/latex": [
       "3"
      ],
      "text/markdown": [
       "3"
      ],
      "text/plain": [
       "[1] 3"
      ]
     },
     "metadata": {},
     "output_type": "display_data"
    }
   ],
   "source": [
    "Data_Frame <- data.frame (\n",
    "  Training = c(\"Strength\", \"Stamina\", \"Other\"),\n",
    "  Pulse = c(100, 150, 120),\n",
    "  Duration = c(60, 30, 45)\n",
    ")\n",
    "\n",
    "ncol(Data_Frame)\n",
    "nrow(Data_Frame)"
   ]
  },
  {
   "cell_type": "code",
   "execution_count": 94,
   "id": "e18472c1",
   "metadata": {},
   "outputs": [
    {
     "data": {
      "text/plain": [
       "   Training             Pulse          Duration   \n",
       " Length:3           Min.   :100.0   Min.   :30.0  \n",
       " Class :character   1st Qu.:110.0   1st Qu.:37.5  \n",
       " Mode  :character   Median :120.0   Median :45.0  \n",
       "                    Mean   :123.3   Mean   :45.0  \n",
       "                    3rd Qu.:135.0   3rd Qu.:52.5  \n",
       "                    Max.   :150.0   Max.   :60.0  "
      ]
     },
     "metadata": {},
     "output_type": "display_data"
    }
   ],
   "source": [
    "summary(df)"
   ]
  },
  {
   "cell_type": "code",
   "execution_count": 97,
   "id": "dd379701",
   "metadata": {},
   "outputs": [
    {
     "data": {
      "text/html": [
       "<table class=\"dataframe\">\n",
       "<caption>A data.frame: 3 × 3</caption>\n",
       "<thead>\n",
       "\t<tr><th scope=col>Training</th><th scope=col>Pulse</th><th scope=col>Duration</th></tr>\n",
       "\t<tr><th scope=col>&lt;chr&gt;</th><th scope=col>&lt;dbl&gt;</th><th scope=col>&lt;dbl&gt;</th></tr>\n",
       "</thead>\n",
       "<tbody>\n",
       "\t<tr><td>Strength</td><td>100</td><td>60</td></tr>\n",
       "\t<tr><td>Stamina </td><td>150</td><td>30</td></tr>\n",
       "\t<tr><td>Other   </td><td>120</td><td>45</td></tr>\n",
       "</tbody>\n",
       "</table>\n"
      ],
      "text/latex": [
       "A data.frame: 3 × 3\n",
       "\\begin{tabular}{lll}\n",
       " Training & Pulse & Duration\\\\\n",
       " <chr> & <dbl> & <dbl>\\\\\n",
       "\\hline\n",
       "\t Strength & 100 & 60\\\\\n",
       "\t Stamina  & 150 & 30\\\\\n",
       "\t Other    & 120 & 45\\\\\n",
       "\\end{tabular}\n"
      ],
      "text/markdown": [
       "\n",
       "A data.frame: 3 × 3\n",
       "\n",
       "| Training &lt;chr&gt; | Pulse &lt;dbl&gt; | Duration &lt;dbl&gt; |\n",
       "|---|---|---|\n",
       "| Strength | 100 | 60 |\n",
       "| Stamina  | 150 | 30 |\n",
       "| Other    | 120 | 45 |\n",
       "\n"
      ],
      "text/plain": [
       "  Training Pulse Duration\n",
       "1 Strength 100   60      \n",
       "2 Stamina  150   30      \n",
       "3 Other    120   45      "
      ]
     },
     "metadata": {},
     "output_type": "display_data"
    }
   ],
   "source": [
    "df"
   ]
  },
  {
   "cell_type": "code",
   "execution_count": 99,
   "id": "69b4ac4a",
   "metadata": {},
   "outputs": [
    {
     "data": {
      "text/html": [
       "2"
      ],
      "text/latex": [
       "2"
      ],
      "text/markdown": [
       "2"
      ],
      "text/plain": [
       "[1] 2"
      ]
     },
     "metadata": {},
     "output_type": "display_data"
    }
   ],
   "source": [
    "Data_Frame <- data.frame (\n",
    "  Pulse = c(100, 150, 120),\n",
    "  Duration = c(60, 30, 45)\n",
    ")\n",
    "\n",
    "length(Data_Frame)"
   ]
  },
  {
   "cell_type": "code",
   "execution_count": 100,
   "id": "be9ad61b",
   "metadata": {},
   "outputs": [
    {
     "data": {
      "text/html": [
       "<table class=\"dataframe\">\n",
       "<caption>A data.frame: 6 × 3</caption>\n",
       "<thead>\n",
       "\t<tr><th scope=col>Training</th><th scope=col>Pulse</th><th scope=col>Duration</th></tr>\n",
       "\t<tr><th scope=col>&lt;chr&gt;</th><th scope=col>&lt;dbl&gt;</th><th scope=col>&lt;dbl&gt;</th></tr>\n",
       "</thead>\n",
       "<tbody>\n",
       "\t<tr><td>Strength</td><td>100</td><td>60</td></tr>\n",
       "\t<tr><td>Stamina </td><td>150</td><td>30</td></tr>\n",
       "\t<tr><td>Other   </td><td>120</td><td>45</td></tr>\n",
       "\t<tr><td>Stamina </td><td>140</td><td>30</td></tr>\n",
       "\t<tr><td>Stamina </td><td>150</td><td>30</td></tr>\n",
       "\t<tr><td>Strength</td><td>160</td><td>20</td></tr>\n",
       "</tbody>\n",
       "</table>\n"
      ],
      "text/latex": [
       "A data.frame: 6 × 3\n",
       "\\begin{tabular}{lll}\n",
       " Training & Pulse & Duration\\\\\n",
       " <chr> & <dbl> & <dbl>\\\\\n",
       "\\hline\n",
       "\t Strength & 100 & 60\\\\\n",
       "\t Stamina  & 150 & 30\\\\\n",
       "\t Other    & 120 & 45\\\\\n",
       "\t Stamina  & 140 & 30\\\\\n",
       "\t Stamina  & 150 & 30\\\\\n",
       "\t Strength & 160 & 20\\\\\n",
       "\\end{tabular}\n"
      ],
      "text/markdown": [
       "\n",
       "A data.frame: 6 × 3\n",
       "\n",
       "| Training &lt;chr&gt; | Pulse &lt;dbl&gt; | Duration &lt;dbl&gt; |\n",
       "|---|---|---|\n",
       "| Strength | 100 | 60 |\n",
       "| Stamina  | 150 | 30 |\n",
       "| Other    | 120 | 45 |\n",
       "| Stamina  | 140 | 30 |\n",
       "| Stamina  | 150 | 30 |\n",
       "| Strength | 160 | 20 |\n",
       "\n"
      ],
      "text/plain": [
       "  Training Pulse Duration\n",
       "1 Strength 100   60      \n",
       "2 Stamina  150   30      \n",
       "3 Other    120   45      \n",
       "4 Stamina  140   30      \n",
       "5 Stamina  150   30      \n",
       "6 Strength 160   20      "
      ]
     },
     "metadata": {},
     "output_type": "display_data"
    }
   ],
   "source": [
    "Data_Frame1 <- data.frame (\n",
    "  Training = c(\"Strength\", \"Stamina\", \"Other\"),\n",
    "  Pulse = c(100, 150, 120),\n",
    "  Duration = c(60, 30, 45)\n",
    ")\n",
    "\n",
    "Data_Frame2 <- data.frame (\n",
    "  Training = c(\"Stamina\", \"Stamina\", \"Strength\"),\n",
    "  Pulse = c(140, 150, 160),\n",
    "  Duration = c(30, 30, 20)\n",
    ")\n",
    "\n",
    "New_Data_Frame <- rbind(Data_Frame1, Data_Frame2)\n",
    "New_Data_Frame"
   ]
  },
  {
   "cell_type": "code",
   "execution_count": 101,
   "id": "1a16b368",
   "metadata": {},
   "outputs": [
    {
     "data": {
      "text/html": [
       "<table class=\"dataframe\">\n",
       "<caption>A data.frame: 3 × 5</caption>\n",
       "<thead>\n",
       "\t<tr><th scope=col>Training</th><th scope=col>Pulse</th><th scope=col>Duration</th><th scope=col>Steps</th><th scope=col>Calories</th></tr>\n",
       "\t<tr><th scope=col>&lt;chr&gt;</th><th scope=col>&lt;dbl&gt;</th><th scope=col>&lt;dbl&gt;</th><th scope=col>&lt;dbl&gt;</th><th scope=col>&lt;dbl&gt;</th></tr>\n",
       "</thead>\n",
       "<tbody>\n",
       "\t<tr><td>Strength</td><td>100</td><td>60</td><td>3000</td><td>300</td></tr>\n",
       "\t<tr><td>Stamina </td><td>150</td><td>30</td><td>6000</td><td>400</td></tr>\n",
       "\t<tr><td>Other   </td><td>120</td><td>45</td><td>2000</td><td>300</td></tr>\n",
       "</tbody>\n",
       "</table>\n"
      ],
      "text/latex": [
       "A data.frame: 3 × 5\n",
       "\\begin{tabular}{lllll}\n",
       " Training & Pulse & Duration & Steps & Calories\\\\\n",
       " <chr> & <dbl> & <dbl> & <dbl> & <dbl>\\\\\n",
       "\\hline\n",
       "\t Strength & 100 & 60 & 3000 & 300\\\\\n",
       "\t Stamina  & 150 & 30 & 6000 & 400\\\\\n",
       "\t Other    & 120 & 45 & 2000 & 300\\\\\n",
       "\\end{tabular}\n"
      ],
      "text/markdown": [
       "\n",
       "A data.frame: 3 × 5\n",
       "\n",
       "| Training &lt;chr&gt; | Pulse &lt;dbl&gt; | Duration &lt;dbl&gt; | Steps &lt;dbl&gt; | Calories &lt;dbl&gt; |\n",
       "|---|---|---|---|---|\n",
       "| Strength | 100 | 60 | 3000 | 300 |\n",
       "| Stamina  | 150 | 30 | 6000 | 400 |\n",
       "| Other    | 120 | 45 | 2000 | 300 |\n",
       "\n"
      ],
      "text/plain": [
       "  Training Pulse Duration Steps Calories\n",
       "1 Strength 100   60       3000  300     \n",
       "2 Stamina  150   30       6000  400     \n",
       "3 Other    120   45       2000  300     "
      ]
     },
     "metadata": {},
     "output_type": "display_data"
    }
   ],
   "source": [
    "Data_Frame3 <- data.frame (\n",
    "  Training = c(\"Strength\", \"Stamina\", \"Other\"),\n",
    "  Pulse = c(100, 150, 120),\n",
    "  Duration = c(60, 30, 45)\n",
    ")\n",
    "\n",
    "Data_Frame4 <- data.frame (\n",
    "  Steps = c(3000, 6000, 2000),\n",
    "  Calories = c(300, 400, 300)\n",
    ")\n",
    "\n",
    "New_Data_Frame1 <- cbind(Data_Frame3, Data_Frame4)\n",
    "New_Data_Frame1"
   ]
  },
  {
   "cell_type": "code",
   "execution_count": 102,
   "id": "6e6ebf88",
   "metadata": {},
   "outputs": [],
   "source": [
    "#Factors - categorical"
   ]
  },
  {
   "cell_type": "code",
   "execution_count": 103,
   "id": "553072e5",
   "metadata": {},
   "outputs": [
    {
     "data": {
      "text/html": [
       "<style>\n",
       ".list-inline {list-style: none; margin:0; padding: 0}\n",
       ".list-inline>li {display: inline-block}\n",
       ".list-inline>li:not(:last-child)::after {content: \"\\00b7\"; padding: 0 .5ex}\n",
       "</style>\n",
       "<ol class=list-inline><li>Jazz</li><li>Rock</li><li>Classic</li><li>Classic</li><li>Pop</li><li>Jazz</li><li>Rock</li><li>Jazz</li></ol>\n",
       "\n",
       "<details>\n",
       "\t<summary style=display:list-item;cursor:pointer>\n",
       "\t\t<strong>Levels</strong>:\n",
       "\t</summary>\n",
       "\t<style>\n",
       "\t.list-inline {list-style: none; margin:0; padding: 0}\n",
       "\t.list-inline>li {display: inline-block}\n",
       "\t.list-inline>li:not(:last-child)::after {content: \"\\00b7\"; padding: 0 .5ex}\n",
       "\t</style>\n",
       "\t<ol class=list-inline><li>'Classic'</li><li>'Jazz'</li><li>'Pop'</li><li>'Rock'</li></ol>\n",
       "</details>"
      ],
      "text/latex": [
       "\\begin{enumerate*}\n",
       "\\item Jazz\n",
       "\\item Rock\n",
       "\\item Classic\n",
       "\\item Classic\n",
       "\\item Pop\n",
       "\\item Jazz\n",
       "\\item Rock\n",
       "\\item Jazz\n",
       "\\end{enumerate*}\n",
       "\n",
       "\\emph{Levels}: \\begin{enumerate*}\n",
       "\\item 'Classic'\n",
       "\\item 'Jazz'\n",
       "\\item 'Pop'\n",
       "\\item 'Rock'\n",
       "\\end{enumerate*}\n"
      ],
      "text/markdown": [
       "1. Jazz\n",
       "2. Rock\n",
       "3. Classic\n",
       "4. Classic\n",
       "5. Pop\n",
       "6. Jazz\n",
       "7. Rock\n",
       "8. Jazz\n",
       "\n",
       "\n",
       "\n",
       "**Levels**: 1. 'Classic'\n",
       "2. 'Jazz'\n",
       "3. 'Pop'\n",
       "4. 'Rock'\n",
       "\n",
       "\n"
      ],
      "text/plain": [
       "[1] Jazz    Rock    Classic Classic Pop     Jazz    Rock    Jazz   \n",
       "Levels: Classic Jazz Pop Rock"
      ]
     },
     "metadata": {},
     "output_type": "display_data"
    }
   ],
   "source": [
    "# Create a factor\n",
    "music_genre <- factor(c(\"Jazz\", \"Rock\", \"Classic\", \"Classic\", \"Pop\", \"Jazz\", \"Rock\", \"Jazz\"))\n",
    "\n",
    "# Print the factor\n",
    "music_genre"
   ]
  },
  {
   "cell_type": "code",
   "execution_count": 104,
   "id": "eceae938",
   "metadata": {},
   "outputs": [
    {
     "data": {
      "text/html": [
       "<style>\n",
       ".list-inline {list-style: none; margin:0; padding: 0}\n",
       ".list-inline>li {display: inline-block}\n",
       ".list-inline>li:not(:last-child)::after {content: \"\\00b7\"; padding: 0 .5ex}\n",
       "</style>\n",
       "<ol class=list-inline><li>'Classic'</li><li>'Jazz'</li><li>'Pop'</li><li>'Rock'</li></ol>\n"
      ],
      "text/latex": [
       "\\begin{enumerate*}\n",
       "\\item 'Classic'\n",
       "\\item 'Jazz'\n",
       "\\item 'Pop'\n",
       "\\item 'Rock'\n",
       "\\end{enumerate*}\n"
      ],
      "text/markdown": [
       "1. 'Classic'\n",
       "2. 'Jazz'\n",
       "3. 'Pop'\n",
       "4. 'Rock'\n",
       "\n",
       "\n"
      ],
      "text/plain": [
       "[1] \"Classic\" \"Jazz\"    \"Pop\"     \"Rock\"   "
      ]
     },
     "metadata": {},
     "output_type": "display_data"
    }
   ],
   "source": [
    "music_genre <- factor(c(\"Jazz\", \"Rock\", \"Classic\", \"Classic\", \"Pop\", \"Jazz\", \"Rock\", \"Jazz\"))\n",
    "\n",
    "levels(music_genre)"
   ]
  },
  {
   "cell_type": "code",
   "execution_count": 105,
   "id": "e644fd53",
   "metadata": {},
   "outputs": [
    {
     "data": {
      "text/html": [
       "<style>\n",
       ".list-inline {list-style: none; margin:0; padding: 0}\n",
       ".list-inline>li {display: inline-block}\n",
       ".list-inline>li:not(:last-child)::after {content: \"\\00b7\"; padding: 0 .5ex}\n",
       "</style>\n",
       "<ol class=list-inline><li>'Classic'</li><li>'Jazz'</li><li>'Pop'</li><li>'Rock'</li><li>'Other'</li></ol>\n"
      ],
      "text/latex": [
       "\\begin{enumerate*}\n",
       "\\item 'Classic'\n",
       "\\item 'Jazz'\n",
       "\\item 'Pop'\n",
       "\\item 'Rock'\n",
       "\\item 'Other'\n",
       "\\end{enumerate*}\n"
      ],
      "text/markdown": [
       "1. 'Classic'\n",
       "2. 'Jazz'\n",
       "3. 'Pop'\n",
       "4. 'Rock'\n",
       "5. 'Other'\n",
       "\n",
       "\n"
      ],
      "text/plain": [
       "[1] \"Classic\" \"Jazz\"    \"Pop\"     \"Rock\"    \"Other\"  "
      ]
     },
     "metadata": {},
     "output_type": "display_data"
    }
   ],
   "source": [
    "music_genre <- factor(c(\"Jazz\", \"Rock\", \"Classic\", \"Classic\", \"Pop\", \"Jazz\", \"Rock\", \"Jazz\"), \n",
    "                      levels = c(\"Classic\", \"Jazz\", \"Pop\", \"Rock\", \"Other\"))\n",
    "\n",
    "levels(music_genre)"
   ]
  },
  {
   "cell_type": "code",
   "execution_count": 106,
   "id": "cff71f79",
   "metadata": {},
   "outputs": [
    {
     "data": {
      "text/html": [
       "8"
      ],
      "text/latex": [
       "8"
      ],
      "text/markdown": [
       "8"
      ],
      "text/plain": [
       "[1] 8"
      ]
     },
     "metadata": {},
     "output_type": "display_data"
    }
   ],
   "source": [
    "music_genre <- factor(c(\"Jazz\", \"Rock\", \"Classic\", \"Classic\", \"Pop\", \"Jazz\", \"Rock\", \"Jazz\"))\n",
    "\n",
    "length(music_genre)"
   ]
  },
  {
   "cell_type": "code",
   "execution_count": 107,
   "id": "91c26086",
   "metadata": {},
   "outputs": [
    {
     "data": {
      "text/html": [
       "Classic\n",
       "<details>\n",
       "\t<summary style=display:list-item;cursor:pointer>\n",
       "\t\t<strong>Levels</strong>:\n",
       "\t</summary>\n",
       "\t<style>\n",
       "\t.list-inline {list-style: none; margin:0; padding: 0}\n",
       "\t.list-inline>li {display: inline-block}\n",
       "\t.list-inline>li:not(:last-child)::after {content: \"\\00b7\"; padding: 0 .5ex}\n",
       "\t</style>\n",
       "\t<ol class=list-inline><li>'Classic'</li><li>'Jazz'</li><li>'Pop'</li><li>'Rock'</li></ol>\n",
       "</details>"
      ],
      "text/latex": [
       "Classic\n",
       "\\emph{Levels}: \\begin{enumerate*}\n",
       "\\item 'Classic'\n",
       "\\item 'Jazz'\n",
       "\\item 'Pop'\n",
       "\\item 'Rock'\n",
       "\\end{enumerate*}\n"
      ],
      "text/markdown": [
       "Classic\n",
       "**Levels**: 1. 'Classic'\n",
       "2. 'Jazz'\n",
       "3. 'Pop'\n",
       "4. 'Rock'\n",
       "\n",
       "\n"
      ],
      "text/plain": [
       "[1] Classic\n",
       "Levels: Classic Jazz Pop Rock"
      ]
     },
     "metadata": {},
     "output_type": "display_data"
    }
   ],
   "source": [
    "music_genre <- factor(c(\"Jazz\", \"Rock\", \"Classic\", \"Classic\", \"Pop\", \"Jazz\", \"Rock\", \"Jazz\"))\n",
    "\n",
    "music_genre[3]"
   ]
  },
  {
   "cell_type": "code",
   "execution_count": 108,
   "id": "cac64037",
   "metadata": {},
   "outputs": [
    {
     "data": {
      "text/html": [
       "<style>\n",
       ".list-inline {list-style: none; margin:0; padding: 0}\n",
       ".list-inline>li {display: inline-block}\n",
       ".list-inline>li:not(:last-child)::after {content: \"\\00b7\"; padding: 0 .5ex}\n",
       "</style>\n",
       "<ol class=list-inline><li>Jazz</li><li>Rock</li><li>Classic</li></ol>\n",
       "\n",
       "<details>\n",
       "\t<summary style=display:list-item;cursor:pointer>\n",
       "\t\t<strong>Levels</strong>:\n",
       "\t</summary>\n",
       "\t<style>\n",
       "\t.list-inline {list-style: none; margin:0; padding: 0}\n",
       "\t.list-inline>li {display: inline-block}\n",
       "\t.list-inline>li:not(:last-child)::after {content: \"\\00b7\"; padding: 0 .5ex}\n",
       "\t</style>\n",
       "\t<ol class=list-inline><li>'Classic'</li><li>'Jazz'</li><li>'Pop'</li><li>'Rock'</li></ol>\n",
       "</details>"
      ],
      "text/latex": [
       "\\begin{enumerate*}\n",
       "\\item Jazz\n",
       "\\item Rock\n",
       "\\item Classic\n",
       "\\end{enumerate*}\n",
       "\n",
       "\\emph{Levels}: \\begin{enumerate*}\n",
       "\\item 'Classic'\n",
       "\\item 'Jazz'\n",
       "\\item 'Pop'\n",
       "\\item 'Rock'\n",
       "\\end{enumerate*}\n"
      ],
      "text/markdown": [
       "1. Jazz\n",
       "2. Rock\n",
       "3. Classic\n",
       "\n",
       "\n",
       "\n",
       "**Levels**: 1. 'Classic'\n",
       "2. 'Jazz'\n",
       "3. 'Pop'\n",
       "4. 'Rock'\n",
       "\n",
       "\n"
      ],
      "text/plain": [
       "[1] Jazz    Rock    Classic\n",
       "Levels: Classic Jazz Pop Rock"
      ]
     },
     "metadata": {},
     "output_type": "display_data"
    }
   ],
   "source": [
    "music_genre[1:3]"
   ]
  },
  {
   "cell_type": "code",
   "execution_count": 109,
   "id": "5058f9c6",
   "metadata": {},
   "outputs": [
    {
     "data": {
      "text/html": [
       "Pop\n",
       "<details>\n",
       "\t<summary style=display:list-item;cursor:pointer>\n",
       "\t\t<strong>Levels</strong>:\n",
       "\t</summary>\n",
       "\t<style>\n",
       "\t.list-inline {list-style: none; margin:0; padding: 0}\n",
       "\t.list-inline>li {display: inline-block}\n",
       "\t.list-inline>li:not(:last-child)::after {content: \"\\00b7\"; padding: 0 .5ex}\n",
       "\t</style>\n",
       "\t<ol class=list-inline><li>'Classic'</li><li>'Jazz'</li><li>'Pop'</li><li>'Rock'</li></ol>\n",
       "</details>"
      ],
      "text/latex": [
       "Pop\n",
       "\\emph{Levels}: \\begin{enumerate*}\n",
       "\\item 'Classic'\n",
       "\\item 'Jazz'\n",
       "\\item 'Pop'\n",
       "\\item 'Rock'\n",
       "\\end{enumerate*}\n"
      ],
      "text/markdown": [
       "Pop\n",
       "**Levels**: 1. 'Classic'\n",
       "2. 'Jazz'\n",
       "3. 'Pop'\n",
       "4. 'Rock'\n",
       "\n",
       "\n"
      ],
      "text/plain": [
       "[1] Pop\n",
       "Levels: Classic Jazz Pop Rock"
      ]
     },
     "metadata": {},
     "output_type": "display_data"
    }
   ],
   "source": [
    "music_genre <- factor(c(\"Jazz\", \"Rock\", \"Classic\", \"Classic\", \"Pop\", \"Jazz\", \"Rock\", \"Jazz\"))\n",
    "\n",
    "music_genre[3] <- \"Pop\"\n",
    "\n",
    "music_genre[3]"
   ]
  },
  {
   "cell_type": "code",
   "execution_count": 111,
   "id": "0a407cd0",
   "metadata": {},
   "outputs": [
    {
     "name": "stderr",
     "output_type": "stream",
     "text": [
      "Warning message in `[<-.factor`(`*tmp*`, 3, value = \"Opera\"):\n",
      "“invalid factor level, NA generated”\n"
     ]
    },
    {
     "data": {
      "text/html": [
       "&lt;NA&gt;\n",
       "<details>\n",
       "\t<summary style=display:list-item;cursor:pointer>\n",
       "\t\t<strong>Levels</strong>:\n",
       "\t</summary>\n",
       "\t<style>\n",
       "\t.list-inline {list-style: none; margin:0; padding: 0}\n",
       "\t.list-inline>li {display: inline-block}\n",
       "\t.list-inline>li:not(:last-child)::after {content: \"\\00b7\"; padding: 0 .5ex}\n",
       "\t</style>\n",
       "\t<ol class=list-inline><li>'Classic'</li><li>'Jazz'</li><li>'Pop'</li><li>'Rock'</li></ol>\n",
       "</details>"
      ],
      "text/latex": [
       "<NA>\n",
       "\\emph{Levels}: \\begin{enumerate*}\n",
       "\\item 'Classic'\n",
       "\\item 'Jazz'\n",
       "\\item 'Pop'\n",
       "\\item 'Rock'\n",
       "\\end{enumerate*}\n"
      ],
      "text/markdown": [
       "&lt;NA&gt;\n",
       "**Levels**: 1. 'Classic'\n",
       "2. 'Jazz'\n",
       "3. 'Pop'\n",
       "4. 'Rock'\n",
       "\n",
       "\n"
      ],
      "text/plain": [
       "[1] <NA>\n",
       "Levels: Classic Jazz Pop Rock"
      ]
     },
     "metadata": {},
     "output_type": "display_data"
    }
   ],
   "source": [
    "#cant add/edit to an element which was not categorized initially\n",
    "\n",
    "music_genre <- factor(c(\"Jazz\", \"Rock\", \"Classic\", \"Classic\", \"Pop\", \"Jazz\", \"Rock\", \"Jazz\"))\n",
    "\n",
    "music_genre[3] <- \"Opera\"\n",
    "\n",
    "music_genre[3]"
   ]
  },
  {
   "cell_type": "code",
   "execution_count": 112,
   "id": "c77ebd5a",
   "metadata": {},
   "outputs": [
    {
     "data": {
      "text/html": [
       "Opera\n",
       "<details>\n",
       "\t<summary style=display:list-item;cursor:pointer>\n",
       "\t\t<strong>Levels</strong>:\n",
       "\t</summary>\n",
       "\t<style>\n",
       "\t.list-inline {list-style: none; margin:0; padding: 0}\n",
       "\t.list-inline>li {display: inline-block}\n",
       "\t.list-inline>li:not(:last-child)::after {content: \"\\00b7\"; padding: 0 .5ex}\n",
       "\t</style>\n",
       "\t<ol class=list-inline><li>'Classic'</li><li>'Jazz'</li><li>'Pop'</li><li>'Rock'</li><li>'Opera'</li></ol>\n",
       "</details>"
      ],
      "text/latex": [
       "Opera\n",
       "\\emph{Levels}: \\begin{enumerate*}\n",
       "\\item 'Classic'\n",
       "\\item 'Jazz'\n",
       "\\item 'Pop'\n",
       "\\item 'Rock'\n",
       "\\item 'Opera'\n",
       "\\end{enumerate*}\n"
      ],
      "text/markdown": [
       "Opera\n",
       "**Levels**: 1. 'Classic'\n",
       "2. 'Jazz'\n",
       "3. 'Pop'\n",
       "4. 'Rock'\n",
       "5. 'Opera'\n",
       "\n",
       "\n"
      ],
      "text/plain": [
       "[1] Opera\n",
       "Levels: Classic Jazz Pop Rock Opera"
      ]
     },
     "metadata": {},
     "output_type": "display_data"
    }
   ],
   "source": [
    "music_genre <- factor(c(\"Jazz\", \"Rock\", \"Classic\", \"Classic\", \"Pop\", \"Jazz\", \"Rock\", \"Jazz\"), levels = c(\"Classic\", \"Jazz\", \"Pop\", \"Rock\", \"Opera\"))\n",
    "\n",
    "music_genre[3] <- \"Opera\"\n",
    "\n",
    "music_genre[3]"
   ]
  },
  {
   "cell_type": "code",
   "execution_count": 114,
   "id": "610f993a",
   "metadata": {},
   "outputs": [],
   "source": [
    "#Tibble - modernized version of df"
   ]
  },
  {
   "cell_type": "code",
   "execution_count": 115,
   "id": "8e831e08",
   "metadata": {},
   "outputs": [
    {
     "data": {
      "text/html": [
       "<table class=\"dataframe\">\n",
       "<caption>A data.frame: 3 × 3</caption>\n",
       "<thead>\n",
       "\t<tr><th scope=col>a</th><th scope=col>b</th><th scope=col>c</th></tr>\n",
       "\t<tr><th scope=col>&lt;int&gt;</th><th scope=col>&lt;chr&gt;</th><th scope=col>&lt;date&gt;</th></tr>\n",
       "</thead>\n",
       "<tbody>\n",
       "\t<tr><td>1</td><td>a</td><td>2022-12-02</td></tr>\n",
       "\t<tr><td>2</td><td>b</td><td>2022-12-01</td></tr>\n",
       "\t<tr><td>3</td><td>c</td><td>2022-11-30</td></tr>\n",
       "</tbody>\n",
       "</table>\n"
      ],
      "text/latex": [
       "A data.frame: 3 × 3\n",
       "\\begin{tabular}{lll}\n",
       " a & b & c\\\\\n",
       " <int> & <chr> & <date>\\\\\n",
       "\\hline\n",
       "\t 1 & a & 2022-12-02\\\\\n",
       "\t 2 & b & 2022-12-01\\\\\n",
       "\t 3 & c & 2022-11-30\\\\\n",
       "\\end{tabular}\n"
      ],
      "text/markdown": [
       "\n",
       "A data.frame: 3 × 3\n",
       "\n",
       "| a &lt;int&gt; | b &lt;chr&gt; | c &lt;date&gt; |\n",
       "|---|---|---|\n",
       "| 1 | a | 2022-12-02 |\n",
       "| 2 | b | 2022-12-01 |\n",
       "| 3 | c | 2022-11-30 |\n",
       "\n"
      ],
      "text/plain": [
       "  a b c         \n",
       "1 1 a 2022-12-02\n",
       "2 2 b 2022-12-01\n",
       "3 3 c 2022-11-30"
      ]
     },
     "metadata": {},
     "output_type": "display_data"
    }
   ],
   "source": [
    "data <- data.frame(a = 1:3, b = letters[1:3], c = Sys.Date() - 1:3)\n",
    "data"
   ]
  },
  {
   "cell_type": "code",
   "execution_count": 116,
   "id": "392f5235",
   "metadata": {},
   "outputs": [],
   "source": [
    "data <- as_tibble(data)"
   ]
  },
  {
   "cell_type": "code",
   "execution_count": 117,
   "id": "7335a50e",
   "metadata": {},
   "outputs": [
    {
     "data": {
      "text/html": [
       "<table class=\"dataframe\">\n",
       "<caption>A tibble: 3 × 3</caption>\n",
       "<thead>\n",
       "\t<tr><th scope=col>a</th><th scope=col>b</th><th scope=col>c</th></tr>\n",
       "\t<tr><th scope=col>&lt;int&gt;</th><th scope=col>&lt;chr&gt;</th><th scope=col>&lt;date&gt;</th></tr>\n",
       "</thead>\n",
       "<tbody>\n",
       "\t<tr><td>1</td><td>a</td><td>2022-12-02</td></tr>\n",
       "\t<tr><td>2</td><td>b</td><td>2022-12-01</td></tr>\n",
       "\t<tr><td>3</td><td>c</td><td>2022-11-30</td></tr>\n",
       "</tbody>\n",
       "</table>\n"
      ],
      "text/latex": [
       "A tibble: 3 × 3\n",
       "\\begin{tabular}{lll}\n",
       " a & b & c\\\\\n",
       " <int> & <chr> & <date>\\\\\n",
       "\\hline\n",
       "\t 1 & a & 2022-12-02\\\\\n",
       "\t 2 & b & 2022-12-01\\\\\n",
       "\t 3 & c & 2022-11-30\\\\\n",
       "\\end{tabular}\n"
      ],
      "text/markdown": [
       "\n",
       "A tibble: 3 × 3\n",
       "\n",
       "| a &lt;int&gt; | b &lt;chr&gt; | c &lt;date&gt; |\n",
       "|---|---|---|\n",
       "| 1 | a | 2022-12-02 |\n",
       "| 2 | b | 2022-12-01 |\n",
       "| 3 | c | 2022-11-30 |\n",
       "\n"
      ],
      "text/plain": [
       "  a b c         \n",
       "1 1 a 2022-12-02\n",
       "2 2 b 2022-12-01\n",
       "3 3 c 2022-11-30"
      ]
     },
     "metadata": {},
     "output_type": "display_data"
    }
   ],
   "source": [
    "data"
   ]
  },
  {
   "cell_type": "code",
   "execution_count": 118,
   "id": "5218dc65",
   "metadata": {},
   "outputs": [
    {
     "data": {
      "text/html": [
       "<table class=\"dataframe\">\n",
       "<caption>A tibble: 5 × 3</caption>\n",
       "<thead>\n",
       "\t<tr><th scope=col>x</th><th scope=col>y</th><th scope=col>z</th></tr>\n",
       "\t<tr><th scope=col>&lt;int&gt;</th><th scope=col>&lt;dbl&gt;</th><th scope=col>&lt;dbl&gt;</th></tr>\n",
       "</thead>\n",
       "<tbody>\n",
       "\t<tr><td>1</td><td>1</td><td> 2</td></tr>\n",
       "\t<tr><td>2</td><td>1</td><td> 5</td></tr>\n",
       "\t<tr><td>3</td><td>1</td><td>10</td></tr>\n",
       "\t<tr><td>4</td><td>1</td><td>17</td></tr>\n",
       "\t<tr><td>5</td><td>1</td><td>26</td></tr>\n",
       "</tbody>\n",
       "</table>\n"
      ],
      "text/latex": [
       "A tibble: 5 × 3\n",
       "\\begin{tabular}{lll}\n",
       " x & y & z\\\\\n",
       " <int> & <dbl> & <dbl>\\\\\n",
       "\\hline\n",
       "\t 1 & 1 &  2\\\\\n",
       "\t 2 & 1 &  5\\\\\n",
       "\t 3 & 1 & 10\\\\\n",
       "\t 4 & 1 & 17\\\\\n",
       "\t 5 & 1 & 26\\\\\n",
       "\\end{tabular}\n"
      ],
      "text/markdown": [
       "\n",
       "A tibble: 5 × 3\n",
       "\n",
       "| x &lt;int&gt; | y &lt;dbl&gt; | z &lt;dbl&gt; |\n",
       "|---|---|---|\n",
       "| 1 | 1 |  2 |\n",
       "| 2 | 1 |  5 |\n",
       "| 3 | 1 | 10 |\n",
       "| 4 | 1 | 17 |\n",
       "| 5 | 1 | 26 |\n",
       "\n"
      ],
      "text/plain": [
       "  x y z \n",
       "1 1 1  2\n",
       "2 2 1  5\n",
       "3 3 1 10\n",
       "4 4 1 17\n",
       "5 5 1 26"
      ]
     },
     "metadata": {},
     "output_type": "display_data"
    }
   ],
   "source": [
    "tibble(x = 1:5, y = 1, z = x ^ 2 + y)"
   ]
  },
  {
   "cell_type": "code",
   "execution_count": 119,
   "id": "eeda6b89",
   "metadata": {},
   "outputs": [
    {
     "name": "stderr",
     "output_type": "stream",
     "text": [
      "starting httpd help server ...\n",
      " done\n",
      "\n"
     ]
    }
   ],
   "source": [
    "vignette('tibble')"
   ]
  },
  {
   "cell_type": "code",
   "execution_count": 120,
   "id": "41452069",
   "metadata": {},
   "outputs": [
    {
     "data": {
      "text/html": [
       "<table class=\"dataframe\">\n",
       "<caption>A tibble: 2 × 3</caption>\n",
       "<thead>\n",
       "\t<tr><th scope=col>x</th><th scope=col>y</th><th scope=col>z</th></tr>\n",
       "\t<tr><th scope=col>&lt;chr&gt;</th><th scope=col>&lt;dbl&gt;</th><th scope=col>&lt;dbl&gt;</th></tr>\n",
       "</thead>\n",
       "<tbody>\n",
       "\t<tr><td>a</td><td>2</td><td>3.6</td></tr>\n",
       "\t<tr><td>b</td><td>1</td><td>8.5</td></tr>\n",
       "</tbody>\n",
       "</table>\n"
      ],
      "text/latex": [
       "A tibble: 2 × 3\n",
       "\\begin{tabular}{lll}\n",
       " x & y & z\\\\\n",
       " <chr> & <dbl> & <dbl>\\\\\n",
       "\\hline\n",
       "\t a & 2 & 3.6\\\\\n",
       "\t b & 1 & 8.5\\\\\n",
       "\\end{tabular}\n"
      ],
      "text/markdown": [
       "\n",
       "A tibble: 2 × 3\n",
       "\n",
       "| x &lt;chr&gt; | y &lt;dbl&gt; | z &lt;dbl&gt; |\n",
       "|---|---|---|\n",
       "| a | 2 | 3.6 |\n",
       "| b | 1 | 8.5 |\n",
       "\n"
      ],
      "text/plain": [
       "  x y z  \n",
       "1 a 2 3.6\n",
       "2 b 1 8.5"
      ]
     },
     "metadata": {},
     "output_type": "display_data"
    }
   ],
   "source": [
    "#You can define a tibble row-by-row with tribble\n",
    "\n",
    "tribble(\n",
    "  ~x, ~y,  ~z,\n",
    "  \"a\", 2,  3.6,\n",
    "  \"b\", 1,  8.5\n",
    ")"
   ]
  },
  {
   "cell_type": "code",
   "execution_count": 122,
   "id": "8c1129a7",
   "metadata": {},
   "outputs": [],
   "source": [
    "#Tibble: doesn’t coerce strings to factors by default, doesn’t change column names, and doesn’t use rownames."
   ]
  },
  {
   "cell_type": "code",
   "execution_count": null,
   "id": "54b79a62",
   "metadata": {},
   "outputs": [],
   "source": []
  }
 ],
 "metadata": {
  "kernelspec": {
   "display_name": "R",
   "language": "R",
   "name": "ir"
  },
  "language_info": {
   "codemirror_mode": "r",
   "file_extension": ".r",
   "mimetype": "text/x-r-source",
   "name": "R",
   "pygments_lexer": "r",
   "version": "4.2.2"
  }
 },
 "nbformat": 4,
 "nbformat_minor": 5
}
