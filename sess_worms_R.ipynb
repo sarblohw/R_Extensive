{
 "cells": [
  {
   "cell_type": "code",
   "execution_count": 1,
   "id": "a9274d75-c47f-4c13-b4c4-71b89c15e2d0",
   "metadata": {},
   "outputs": [
    {
     "name": "stderr",
     "output_type": "stream",
     "text": [
      "Loading required package: tidyverse\n",
      "\n",
      "Warning message in system(\"timedatectl\", intern = TRUE):\n",
      "“running command 'timedatectl' had status 1”\n",
      "── \u001b[1mAttaching packages\u001b[22m ─────────────────────────────────────── tidyverse 1.3.1 ──\n",
      "\n",
      "\u001b[32m✔\u001b[39m \u001b[34mggplot2\u001b[39m 3.4.0      \u001b[32m✔\u001b[39m \u001b[34mpurrr  \u001b[39m 0.3.5 \n",
      "\u001b[32m✔\u001b[39m \u001b[34mtibble \u001b[39m 3.1.8      \u001b[32m✔\u001b[39m \u001b[34mdplyr  \u001b[39m 1.0.10\n",
      "\u001b[32m✔\u001b[39m \u001b[34mtidyr  \u001b[39m 1.2.1      \u001b[32m✔\u001b[39m \u001b[34mstringr\u001b[39m 1.4.1 \n",
      "\u001b[32m✔\u001b[39m \u001b[34mreadr  \u001b[39m 2.1.3      \u001b[32m✔\u001b[39m \u001b[34mforcats\u001b[39m 0.5.2 \n",
      "\n",
      "── \u001b[1mConflicts\u001b[22m ────────────────────────────────────────── tidyverse_conflicts() ──\n",
      "\u001b[31m✖\u001b[39m \u001b[34mdplyr\u001b[39m::\u001b[32mfilter()\u001b[39m masks \u001b[34mstats\u001b[39m::filter()\n",
      "\u001b[31m✖\u001b[39m \u001b[34mdplyr\u001b[39m::\u001b[32mlag()\u001b[39m    masks \u001b[34mstats\u001b[39m::lag()\n",
      "\n"
     ]
    }
   ],
   "source": [
    "require('tidyverse')"
   ]
  },
  {
   "cell_type": "code",
   "execution_count": 2,
   "id": "7d1868d4-c88f-4c85-bed4-5978d57c6cf1",
   "metadata": {},
   "outputs": [],
   "source": [
    "worms <- read.table('Worms.txt', header=TRUE)"
   ]
  },
  {
   "cell_type": "code",
   "execution_count": 3,
   "id": "621de36c-a25b-40e4-9ede-f803adb839d4",
   "metadata": {},
   "outputs": [
    {
     "data": {
      "text/html": [
       "<table class=\"dataframe\">\n",
       "<caption>A data.frame: 3 × 7</caption>\n",
       "<thead>\n",
       "\t<tr><th></th><th scope=col>Field.Name</th><th scope=col>Area</th><th scope=col>Slope</th><th scope=col>Vegetation</th><th scope=col>Soil.pH</th><th scope=col>Damp</th><th scope=col>Worm.density</th></tr>\n",
       "\t<tr><th></th><th scope=col>&lt;chr&gt;</th><th scope=col>&lt;dbl&gt;</th><th scope=col>&lt;int&gt;</th><th scope=col>&lt;chr&gt;</th><th scope=col>&lt;dbl&gt;</th><th scope=col>&lt;lgl&gt;</th><th scope=col>&lt;int&gt;</th></tr>\n",
       "</thead>\n",
       "<tbody>\n",
       "\t<tr><th scope=row>1</th><td>Nashs.Field   </td><td>3.6</td><td>11</td><td>Grassland</td><td>4.1</td><td>FALSE</td><td>4</td></tr>\n",
       "\t<tr><th scope=row>2</th><td>Silwood.Bottom</td><td>5.1</td><td> 2</td><td>Arable   </td><td>5.2</td><td>FALSE</td><td>7</td></tr>\n",
       "\t<tr><th scope=row>3</th><td>Nursery.Field </td><td>2.8</td><td> 3</td><td>Grassland</td><td>4.3</td><td>FALSE</td><td>2</td></tr>\n",
       "</tbody>\n",
       "</table>\n"
      ],
      "text/latex": [
       "A data.frame: 3 × 7\n",
       "\\begin{tabular}{r|lllllll}\n",
       "  & Field.Name & Area & Slope & Vegetation & Soil.pH & Damp & Worm.density\\\\\n",
       "  & <chr> & <dbl> & <int> & <chr> & <dbl> & <lgl> & <int>\\\\\n",
       "\\hline\n",
       "\t1 & Nashs.Field    & 3.6 & 11 & Grassland & 4.1 & FALSE & 4\\\\\n",
       "\t2 & Silwood.Bottom & 5.1 &  2 & Arable    & 5.2 & FALSE & 7\\\\\n",
       "\t3 & Nursery.Field  & 2.8 &  3 & Grassland & 4.3 & FALSE & 2\\\\\n",
       "\\end{tabular}\n"
      ],
      "text/markdown": [
       "\n",
       "A data.frame: 3 × 7\n",
       "\n",
       "| <!--/--> | Field.Name &lt;chr&gt; | Area &lt;dbl&gt; | Slope &lt;int&gt; | Vegetation &lt;chr&gt; | Soil.pH &lt;dbl&gt; | Damp &lt;lgl&gt; | Worm.density &lt;int&gt; |\n",
       "|---|---|---|---|---|---|---|---|\n",
       "| 1 | Nashs.Field    | 3.6 | 11 | Grassland | 4.1 | FALSE | 4 |\n",
       "| 2 | Silwood.Bottom | 5.1 |  2 | Arable    | 5.2 | FALSE | 7 |\n",
       "| 3 | Nursery.Field  | 2.8 |  3 | Grassland | 4.3 | FALSE | 2 |\n",
       "\n"
      ],
      "text/plain": [
       "  Field.Name     Area Slope Vegetation Soil.pH Damp  Worm.density\n",
       "1 Nashs.Field    3.6  11    Grassland  4.1     FALSE 4           \n",
       "2 Silwood.Bottom 5.1   2    Arable     5.2     FALSE 7           \n",
       "3 Nursery.Field  2.8   3    Grassland  4.3     FALSE 2           "
      ]
     },
     "metadata": {},
     "output_type": "display_data"
    }
   ],
   "source": [
    "head(worms, n = 3)"
   ]
  },
  {
   "cell_type": "code",
   "execution_count": 4,
   "id": "f950779c-767d-4875-a278-6d0838028e11",
   "metadata": {},
   "outputs": [
    {
     "name": "stdout",
     "output_type": "stream",
     "text": [
      "'data.frame':\t20 obs. of  7 variables:\n",
      " $ Field.Name  : chr  \"Nashs.Field\" \"Silwood.Bottom\" \"Nursery.Field\" \"Rush.Meadow\" ...\n",
      " $ Area        : num  3.6 5.1 2.8 2.4 3.8 3.1 3.5 2.1 1.9 1.5 ...\n",
      " $ Slope       : int  11 2 3 5 0 2 3 0 0 4 ...\n",
      " $ Vegetation  : chr  \"Grassland\" \"Arable\" \"Grassland\" \"Meadow\" ...\n",
      " $ Soil.pH     : num  4.1 5.2 4.3 4.9 4.2 3.9 4.2 4.8 5.7 5 ...\n",
      " $ Damp        : logi  FALSE FALSE FALSE TRUE FALSE FALSE ...\n",
      " $ Worm.density: int  4 7 2 5 6 2 3 4 9 7 ...\n"
     ]
    }
   ],
   "source": [
    "str(worms)"
   ]
  },
  {
   "cell_type": "code",
   "execution_count": 5,
   "id": "7bc3fbf8-712c-4c86-947f-20517eafca9d",
   "metadata": {},
   "outputs": [
    {
     "data": {
      "text/html": [
       "<table class=\"dataframe\">\n",
       "<caption>A data.frame: 20 × 7</caption>\n",
       "<thead>\n",
       "\t<tr><th scope=col>Field.Name</th><th scope=col>Area</th><th scope=col>Slope</th><th scope=col>Vegetation</th><th scope=col>Soil.pH</th><th scope=col>Damp</th><th scope=col>Worm.density</th></tr>\n",
       "\t<tr><th scope=col>&lt;chr&gt;</th><th scope=col>&lt;dbl&gt;</th><th scope=col>&lt;int&gt;</th><th scope=col>&lt;chr&gt;</th><th scope=col>&lt;dbl&gt;</th><th scope=col>&lt;lgl&gt;</th><th scope=col>&lt;int&gt;</th></tr>\n",
       "</thead>\n",
       "<tbody>\n",
       "\t<tr><td>Nashs.Field      </td><td>3.6</td><td>11</td><td>Grassland</td><td>4.1</td><td>FALSE</td><td>4</td></tr>\n",
       "\t<tr><td>Silwood.Bottom   </td><td>5.1</td><td> 2</td><td>Arable   </td><td>5.2</td><td>FALSE</td><td>7</td></tr>\n",
       "\t<tr><td>Nursery.Field    </td><td>2.8</td><td> 3</td><td>Grassland</td><td>4.3</td><td>FALSE</td><td>2</td></tr>\n",
       "\t<tr><td>Rush.Meadow      </td><td>2.4</td><td> 5</td><td>Meadow   </td><td>4.9</td><td> TRUE</td><td>5</td></tr>\n",
       "\t<tr><td>Gunness.Thicket  </td><td>3.8</td><td> 0</td><td>Scrub    </td><td>4.2</td><td>FALSE</td><td>6</td></tr>\n",
       "\t<tr><td>Oak.Mead         </td><td>3.1</td><td> 2</td><td>Grassland</td><td>3.9</td><td>FALSE</td><td>2</td></tr>\n",
       "\t<tr><td>Church.Field     </td><td>3.5</td><td> 3</td><td>Grassland</td><td>4.2</td><td>FALSE</td><td>3</td></tr>\n",
       "\t<tr><td>Ashurst          </td><td>2.1</td><td> 0</td><td>Arable   </td><td>4.8</td><td>FALSE</td><td>4</td></tr>\n",
       "\t<tr><td>The.Orchard      </td><td>1.9</td><td> 0</td><td>Orchard  </td><td>5.7</td><td>FALSE</td><td>9</td></tr>\n",
       "\t<tr><td>Rookery.Slope    </td><td>1.5</td><td> 4</td><td>Grassland</td><td>5.0</td><td> TRUE</td><td>7</td></tr>\n",
       "\t<tr><td>Garden.Wood      </td><td>2.9</td><td>10</td><td>Scrub    </td><td>5.2</td><td>FALSE</td><td>8</td></tr>\n",
       "\t<tr><td>North.Gravel     </td><td>3.3</td><td> 1</td><td>Grassland</td><td>4.1</td><td>FALSE</td><td>1</td></tr>\n",
       "\t<tr><td>South.Gravel     </td><td>3.7</td><td> 2</td><td>Grassland</td><td>4.0</td><td>FALSE</td><td>2</td></tr>\n",
       "\t<tr><td>Observatory.Ridge</td><td>1.8</td><td> 6</td><td>Grassland</td><td>3.8</td><td>FALSE</td><td>0</td></tr>\n",
       "\t<tr><td>Pond.Field       </td><td>4.1</td><td> 0</td><td>Meadow   </td><td>5.0</td><td> TRUE</td><td>6</td></tr>\n",
       "\t<tr><td>Water.Meadow     </td><td>3.9</td><td> 0</td><td>Meadow   </td><td>4.9</td><td> TRUE</td><td>8</td></tr>\n",
       "\t<tr><td>Cheapside        </td><td>2.2</td><td> 8</td><td>Scrub    </td><td>4.7</td><td> TRUE</td><td>4</td></tr>\n",
       "\t<tr><td>Pound.Hill       </td><td>4.4</td><td> 2</td><td>Arable   </td><td>4.5</td><td>FALSE</td><td>5</td></tr>\n",
       "\t<tr><td>Gravel.Pit       </td><td>2.9</td><td> 1</td><td>Grassland</td><td>3.5</td><td>FALSE</td><td>1</td></tr>\n",
       "\t<tr><td>Farm.Wood        </td><td>0.8</td><td>10</td><td>Scrub    </td><td>5.1</td><td> TRUE</td><td>3</td></tr>\n",
       "</tbody>\n",
       "</table>\n"
      ],
      "text/latex": [
       "A data.frame: 20 × 7\n",
       "\\begin{tabular}{lllllll}\n",
       " Field.Name & Area & Slope & Vegetation & Soil.pH & Damp & Worm.density\\\\\n",
       " <chr> & <dbl> & <int> & <chr> & <dbl> & <lgl> & <int>\\\\\n",
       "\\hline\n",
       "\t Nashs.Field       & 3.6 & 11 & Grassland & 4.1 & FALSE & 4\\\\\n",
       "\t Silwood.Bottom    & 5.1 &  2 & Arable    & 5.2 & FALSE & 7\\\\\n",
       "\t Nursery.Field     & 2.8 &  3 & Grassland & 4.3 & FALSE & 2\\\\\n",
       "\t Rush.Meadow       & 2.4 &  5 & Meadow    & 4.9 &  TRUE & 5\\\\\n",
       "\t Gunness.Thicket   & 3.8 &  0 & Scrub     & 4.2 & FALSE & 6\\\\\n",
       "\t Oak.Mead          & 3.1 &  2 & Grassland & 3.9 & FALSE & 2\\\\\n",
       "\t Church.Field      & 3.5 &  3 & Grassland & 4.2 & FALSE & 3\\\\\n",
       "\t Ashurst           & 2.1 &  0 & Arable    & 4.8 & FALSE & 4\\\\\n",
       "\t The.Orchard       & 1.9 &  0 & Orchard   & 5.7 & FALSE & 9\\\\\n",
       "\t Rookery.Slope     & 1.5 &  4 & Grassland & 5.0 &  TRUE & 7\\\\\n",
       "\t Garden.Wood       & 2.9 & 10 & Scrub     & 5.2 & FALSE & 8\\\\\n",
       "\t North.Gravel      & 3.3 &  1 & Grassland & 4.1 & FALSE & 1\\\\\n",
       "\t South.Gravel      & 3.7 &  2 & Grassland & 4.0 & FALSE & 2\\\\\n",
       "\t Observatory.Ridge & 1.8 &  6 & Grassland & 3.8 & FALSE & 0\\\\\n",
       "\t Pond.Field        & 4.1 &  0 & Meadow    & 5.0 &  TRUE & 6\\\\\n",
       "\t Water.Meadow      & 3.9 &  0 & Meadow    & 4.9 &  TRUE & 8\\\\\n",
       "\t Cheapside         & 2.2 &  8 & Scrub     & 4.7 &  TRUE & 4\\\\\n",
       "\t Pound.Hill        & 4.4 &  2 & Arable    & 4.5 & FALSE & 5\\\\\n",
       "\t Gravel.Pit        & 2.9 &  1 & Grassland & 3.5 & FALSE & 1\\\\\n",
       "\t Farm.Wood         & 0.8 & 10 & Scrub     & 5.1 &  TRUE & 3\\\\\n",
       "\\end{tabular}\n"
      ],
      "text/markdown": [
       "\n",
       "A data.frame: 20 × 7\n",
       "\n",
       "| Field.Name &lt;chr&gt; | Area &lt;dbl&gt; | Slope &lt;int&gt; | Vegetation &lt;chr&gt; | Soil.pH &lt;dbl&gt; | Damp &lt;lgl&gt; | Worm.density &lt;int&gt; |\n",
       "|---|---|---|---|---|---|---|\n",
       "| Nashs.Field       | 3.6 | 11 | Grassland | 4.1 | FALSE | 4 |\n",
       "| Silwood.Bottom    | 5.1 |  2 | Arable    | 5.2 | FALSE | 7 |\n",
       "| Nursery.Field     | 2.8 |  3 | Grassland | 4.3 | FALSE | 2 |\n",
       "| Rush.Meadow       | 2.4 |  5 | Meadow    | 4.9 |  TRUE | 5 |\n",
       "| Gunness.Thicket   | 3.8 |  0 | Scrub     | 4.2 | FALSE | 6 |\n",
       "| Oak.Mead          | 3.1 |  2 | Grassland | 3.9 | FALSE | 2 |\n",
       "| Church.Field      | 3.5 |  3 | Grassland | 4.2 | FALSE | 3 |\n",
       "| Ashurst           | 2.1 |  0 | Arable    | 4.8 | FALSE | 4 |\n",
       "| The.Orchard       | 1.9 |  0 | Orchard   | 5.7 | FALSE | 9 |\n",
       "| Rookery.Slope     | 1.5 |  4 | Grassland | 5.0 |  TRUE | 7 |\n",
       "| Garden.Wood       | 2.9 | 10 | Scrub     | 5.2 | FALSE | 8 |\n",
       "| North.Gravel      | 3.3 |  1 | Grassland | 4.1 | FALSE | 1 |\n",
       "| South.Gravel      | 3.7 |  2 | Grassland | 4.0 | FALSE | 2 |\n",
       "| Observatory.Ridge | 1.8 |  6 | Grassland | 3.8 | FALSE | 0 |\n",
       "| Pond.Field        | 4.1 |  0 | Meadow    | 5.0 |  TRUE | 6 |\n",
       "| Water.Meadow      | 3.9 |  0 | Meadow    | 4.9 |  TRUE | 8 |\n",
       "| Cheapside         | 2.2 |  8 | Scrub     | 4.7 |  TRUE | 4 |\n",
       "| Pound.Hill        | 4.4 |  2 | Arable    | 4.5 | FALSE | 5 |\n",
       "| Gravel.Pit        | 2.9 |  1 | Grassland | 3.5 | FALSE | 1 |\n",
       "| Farm.Wood         | 0.8 | 10 | Scrub     | 5.1 |  TRUE | 3 |\n",
       "\n"
      ],
      "text/plain": [
       "   Field.Name        Area Slope Vegetation Soil.pH Damp  Worm.density\n",
       "1  Nashs.Field       3.6  11    Grassland  4.1     FALSE 4           \n",
       "2  Silwood.Bottom    5.1   2    Arable     5.2     FALSE 7           \n",
       "3  Nursery.Field     2.8   3    Grassland  4.3     FALSE 2           \n",
       "4  Rush.Meadow       2.4   5    Meadow     4.9      TRUE 5           \n",
       "5  Gunness.Thicket   3.8   0    Scrub      4.2     FALSE 6           \n",
       "6  Oak.Mead          3.1   2    Grassland  3.9     FALSE 2           \n",
       "7  Church.Field      3.5   3    Grassland  4.2     FALSE 3           \n",
       "8  Ashurst           2.1   0    Arable     4.8     FALSE 4           \n",
       "9  The.Orchard       1.9   0    Orchard    5.7     FALSE 9           \n",
       "10 Rookery.Slope     1.5   4    Grassland  5.0      TRUE 7           \n",
       "11 Garden.Wood       2.9  10    Scrub      5.2     FALSE 8           \n",
       "12 North.Gravel      3.3   1    Grassland  4.1     FALSE 1           \n",
       "13 South.Gravel      3.7   2    Grassland  4.0     FALSE 2           \n",
       "14 Observatory.Ridge 1.8   6    Grassland  3.8     FALSE 0           \n",
       "15 Pond.Field        4.1   0    Meadow     5.0      TRUE 6           \n",
       "16 Water.Meadow      3.9   0    Meadow     4.9      TRUE 8           \n",
       "17 Cheapside         2.2   8    Scrub      4.7      TRUE 4           \n",
       "18 Pound.Hill        4.4   2    Arable     4.5     FALSE 5           \n",
       "19 Gravel.Pit        2.9   1    Grassland  3.5     FALSE 1           \n",
       "20 Farm.Wood         0.8  10    Scrub      5.1      TRUE 3           "
      ]
     },
     "metadata": {},
     "output_type": "display_data"
    }
   ],
   "source": [
    "View(worms)"
   ]
  },
  {
   "cell_type": "code",
   "execution_count": 6,
   "id": "e174232f-93d9-45e0-8c71-8026e568e90a",
   "metadata": {},
   "outputs": [
    {
     "data": {
      "text/plain": [
       "  Field.Name             Area           Slope        Vegetation       \n",
       " Length:20          Min.   :0.800   Min.   : 0.00   Length:20         \n",
       " Class :character   1st Qu.:2.175   1st Qu.: 0.75   Class :character  \n",
       " Mode  :character   Median :3.000   Median : 2.00   Mode  :character  \n",
       "                    Mean   :2.990   Mean   : 3.50                     \n",
       "                    3rd Qu.:3.725   3rd Qu.: 5.25                     \n",
       "                    Max.   :5.100   Max.   :11.00                     \n",
       "    Soil.pH         Damp          Worm.density \n",
       " Min.   :3.500   Mode :logical   Min.   :0.00  \n",
       " 1st Qu.:4.100   FALSE:14        1st Qu.:2.00  \n",
       " Median :4.600   TRUE :6         Median :4.00  \n",
       " Mean   :4.555                   Mean   :4.35  \n",
       " 3rd Qu.:5.000                   3rd Qu.:6.25  \n",
       " Max.   :5.700                   Max.   :9.00  "
      ]
     },
     "metadata": {},
     "output_type": "display_data"
    }
   ],
   "source": [
    "summary(worms)"
   ]
  },
  {
   "cell_type": "code",
   "execution_count": 7,
   "id": "46e5e901-3ebc-407f-964a-0b575949d770",
   "metadata": {},
   "outputs": [
    {
     "data": {
      "text/html": [
       "<style>\n",
       ".list-inline {list-style: none; margin:0; padding: 0}\n",
       ".list-inline>li {display: inline-block}\n",
       ".list-inline>li:not(:last-child)::after {content: \"\\00b7\"; padding: 0 .5ex}\n",
       "</style>\n",
       "<ol class=list-inline><li>'Field.Name'</li><li>'Area'</li><li>'Slope'</li><li>'Vegetation'</li><li>'Soil.pH'</li><li>'Damp'</li><li>'Worm.density'</li></ol>\n"
      ],
      "text/latex": [
       "\\begin{enumerate*}\n",
       "\\item 'Field.Name'\n",
       "\\item 'Area'\n",
       "\\item 'Slope'\n",
       "\\item 'Vegetation'\n",
       "\\item 'Soil.pH'\n",
       "\\item 'Damp'\n",
       "\\item 'Worm.density'\n",
       "\\end{enumerate*}\n"
      ],
      "text/markdown": [
       "1. 'Field.Name'\n",
       "2. 'Area'\n",
       "3. 'Slope'\n",
       "4. 'Vegetation'\n",
       "5. 'Soil.pH'\n",
       "6. 'Damp'\n",
       "7. 'Worm.density'\n",
       "\n",
       "\n"
      ],
      "text/plain": [
       "[1] \"Field.Name\"   \"Area\"         \"Slope\"        \"Vegetation\"   \"Soil.pH\"     \n",
       "[6] \"Damp\"         \"Worm.density\""
      ]
     },
     "metadata": {},
     "output_type": "display_data"
    }
   ],
   "source": [
    "names(worms)"
   ]
  },
  {
   "cell_type": "code",
   "execution_count": 8,
   "id": "9df405ea-0c58-4aad-a5c6-7df282ed5e64",
   "metadata": {},
   "outputs": [
    {
     "data": {
      "text/html": [
       "<style>\n",
       ".list-inline {list-style: none; margin:0; padding: 0}\n",
       ".list-inline>li {display: inline-block}\n",
       ".list-inline>li:not(:last-child)::after {content: \"\\00b7\"; padding: 0 .5ex}\n",
       "</style>\n",
       "<ol class=list-inline><li>'1'</li><li>'2'</li><li>'3'</li><li>'4'</li><li>'5'</li><li>'6'</li><li>'7'</li><li>'8'</li><li>'9'</li><li>'10'</li><li>'11'</li><li>'12'</li><li>'13'</li><li>'14'</li><li>'15'</li><li>'16'</li><li>'17'</li><li>'18'</li><li>'19'</li><li>'20'</li></ol>\n"
      ],
      "text/latex": [
       "\\begin{enumerate*}\n",
       "\\item '1'\n",
       "\\item '2'\n",
       "\\item '3'\n",
       "\\item '4'\n",
       "\\item '5'\n",
       "\\item '6'\n",
       "\\item '7'\n",
       "\\item '8'\n",
       "\\item '9'\n",
       "\\item '10'\n",
       "\\item '11'\n",
       "\\item '12'\n",
       "\\item '13'\n",
       "\\item '14'\n",
       "\\item '15'\n",
       "\\item '16'\n",
       "\\item '17'\n",
       "\\item '18'\n",
       "\\item '19'\n",
       "\\item '20'\n",
       "\\end{enumerate*}\n"
      ],
      "text/markdown": [
       "1. '1'\n",
       "2. '2'\n",
       "3. '3'\n",
       "4. '4'\n",
       "5. '5'\n",
       "6. '6'\n",
       "7. '7'\n",
       "8. '8'\n",
       "9. '9'\n",
       "10. '10'\n",
       "11. '11'\n",
       "12. '12'\n",
       "13. '13'\n",
       "14. '14'\n",
       "15. '15'\n",
       "16. '16'\n",
       "17. '17'\n",
       "18. '18'\n",
       "19. '19'\n",
       "20. '20'\n",
       "\n",
       "\n"
      ],
      "text/plain": [
       " [1] \"1\"  \"2\"  \"3\"  \"4\"  \"5\"  \"6\"  \"7\"  \"8\"  \"9\"  \"10\" \"11\" \"12\" \"13\" \"14\" \"15\"\n",
       "[16] \"16\" \"17\" \"18\" \"19\" \"20\""
      ]
     },
     "metadata": {},
     "output_type": "display_data"
    }
   ],
   "source": [
    "rownames(worms)"
   ]
  },
  {
   "cell_type": "code",
   "execution_count": 9,
   "id": "e9e3dbe4-e4ec-4718-bb31-376a594d7132",
   "metadata": {},
   "outputs": [
    {
     "data": {
      "text/html": [
       "<style>\n",
       ".list-inline {list-style: none; margin:0; padding: 0}\n",
       ".list-inline>li {display: inline-block}\n",
       ".list-inline>li:not(:last-child)::after {content: \"\\00b7\"; padding: 0 .5ex}\n",
       "</style>\n",
       "<ol class=list-inline><li>'Field.Name'</li><li>'Area'</li><li>'Slope'</li><li>'Vegetation'</li><li>'Soil.pH'</li><li>'Damp'</li><li>'Worm.density'</li></ol>\n"
      ],
      "text/latex": [
       "\\begin{enumerate*}\n",
       "\\item 'Field.Name'\n",
       "\\item 'Area'\n",
       "\\item 'Slope'\n",
       "\\item 'Vegetation'\n",
       "\\item 'Soil.pH'\n",
       "\\item 'Damp'\n",
       "\\item 'Worm.density'\n",
       "\\end{enumerate*}\n"
      ],
      "text/markdown": [
       "1. 'Field.Name'\n",
       "2. 'Area'\n",
       "3. 'Slope'\n",
       "4. 'Vegetation'\n",
       "5. 'Soil.pH'\n",
       "6. 'Damp'\n",
       "7. 'Worm.density'\n",
       "\n",
       "\n"
      ],
      "text/plain": [
       "[1] \"Field.Name\"   \"Area\"         \"Slope\"        \"Vegetation\"   \"Soil.pH\"     \n",
       "[6] \"Damp\"         \"Worm.density\""
      ]
     },
     "metadata": {},
     "output_type": "display_data"
    }
   ],
   "source": [
    "colnames(worms)"
   ]
  },
  {
   "cell_type": "code",
   "execution_count": 10,
   "id": "04935f5f-b41a-4232-b2a1-83890d5bb70f",
   "metadata": {},
   "outputs": [
    {
     "data": {
      "text/html": [
       "<table class=\"dataframe\">\n",
       "<caption>A data.frame: 3 × 7</caption>\n",
       "<thead>\n",
       "\t<tr><th></th><th scope=col>Field.Name</th><th scope=col>Area</th><th scope=col>Slope</th><th scope=col>Vegetation</th><th scope=col>Soil.pH</th><th scope=col>Damp</th><th scope=col>Worm.density</th></tr>\n",
       "\t<tr><th></th><th scope=col>&lt;chr&gt;</th><th scope=col>&lt;dbl&gt;</th><th scope=col>&lt;int&gt;</th><th scope=col>&lt;chr&gt;</th><th scope=col>&lt;dbl&gt;</th><th scope=col>&lt;lgl&gt;</th><th scope=col>&lt;int&gt;</th></tr>\n",
       "</thead>\n",
       "<tbody>\n",
       "\t<tr><th scope=row>3</th><td>Nursery.Field  </td><td>2.8</td><td>3</td><td>Grassland</td><td>4.3</td><td>FALSE</td><td>2</td></tr>\n",
       "\t<tr><th scope=row>4</th><td>Rush.Meadow    </td><td>2.4</td><td>5</td><td>Meadow   </td><td>4.9</td><td> TRUE</td><td>5</td></tr>\n",
       "\t<tr><th scope=row>5</th><td>Gunness.Thicket</td><td>3.8</td><td>0</td><td>Scrub    </td><td>4.2</td><td>FALSE</td><td>6</td></tr>\n",
       "</tbody>\n",
       "</table>\n"
      ],
      "text/latex": [
       "A data.frame: 3 × 7\n",
       "\\begin{tabular}{r|lllllll}\n",
       "  & Field.Name & Area & Slope & Vegetation & Soil.pH & Damp & Worm.density\\\\\n",
       "  & <chr> & <dbl> & <int> & <chr> & <dbl> & <lgl> & <int>\\\\\n",
       "\\hline\n",
       "\t3 & Nursery.Field   & 2.8 & 3 & Grassland & 4.3 & FALSE & 2\\\\\n",
       "\t4 & Rush.Meadow     & 2.4 & 5 & Meadow    & 4.9 &  TRUE & 5\\\\\n",
       "\t5 & Gunness.Thicket & 3.8 & 0 & Scrub     & 4.2 & FALSE & 6\\\\\n",
       "\\end{tabular}\n"
      ],
      "text/markdown": [
       "\n",
       "A data.frame: 3 × 7\n",
       "\n",
       "| <!--/--> | Field.Name &lt;chr&gt; | Area &lt;dbl&gt; | Slope &lt;int&gt; | Vegetation &lt;chr&gt; | Soil.pH &lt;dbl&gt; | Damp &lt;lgl&gt; | Worm.density &lt;int&gt; |\n",
       "|---|---|---|---|---|---|---|---|\n",
       "| 3 | Nursery.Field   | 2.8 | 3 | Grassland | 4.3 | FALSE | 2 |\n",
       "| 4 | Rush.Meadow     | 2.4 | 5 | Meadow    | 4.9 |  TRUE | 5 |\n",
       "| 5 | Gunness.Thicket | 3.8 | 0 | Scrub     | 4.2 | FALSE | 6 |\n",
       "\n"
      ],
      "text/plain": [
       "  Field.Name      Area Slope Vegetation Soil.pH Damp  Worm.density\n",
       "3 Nursery.Field   2.8  3     Grassland  4.3     FALSE 2           \n",
       "4 Rush.Meadow     2.4  5     Meadow     4.9      TRUE 5           \n",
       "5 Gunness.Thicket 3.8  0     Scrub      4.2     FALSE 6           "
      ]
     },
     "metadata": {},
     "output_type": "display_data"
    }
   ],
   "source": [
    "worms[3:5,]"
   ]
  },
  {
   "cell_type": "code",
   "execution_count": 13,
   "id": "c92f97b4-c4a9-467b-b87e-6c68c0234dbd",
   "metadata": {},
   "outputs": [
    {
     "data": {
      "text/html": [
       "<table class=\"dataframe\">\n",
       "<caption>A data.frame: 3 × 7</caption>\n",
       "<thead>\n",
       "\t<tr><th></th><th scope=col>Field.Name</th><th scope=col>Area</th><th scope=col>Slope</th><th scope=col>Vegetation</th><th scope=col>Soil.pH</th><th scope=col>Damp</th><th scope=col>Worm.density</th></tr>\n",
       "\t<tr><th></th><th scope=col>&lt;chr&gt;</th><th scope=col>&lt;dbl&gt;</th><th scope=col>&lt;int&gt;</th><th scope=col>&lt;chr&gt;</th><th scope=col>&lt;dbl&gt;</th><th scope=col>&lt;lgl&gt;</th><th scope=col>&lt;int&gt;</th></tr>\n",
       "</thead>\n",
       "<tbody>\n",
       "\t<tr><th scope=row>3</th><td>Nursery.Field  </td><td>2.8</td><td> 3</td><td>Grassland</td><td>4.3</td><td>FALSE</td><td>2</td></tr>\n",
       "\t<tr><th scope=row>1</th><td>Nashs.Field    </td><td>3.6</td><td>11</td><td>Grassland</td><td>4.1</td><td>FALSE</td><td>4</td></tr>\n",
       "\t<tr><th scope=row>5</th><td>Gunness.Thicket</td><td>3.8</td><td> 0</td><td>Scrub    </td><td>4.2</td><td>FALSE</td><td>6</td></tr>\n",
       "</tbody>\n",
       "</table>\n"
      ],
      "text/latex": [
       "A data.frame: 3 × 7\n",
       "\\begin{tabular}{r|lllllll}\n",
       "  & Field.Name & Area & Slope & Vegetation & Soil.pH & Damp & Worm.density\\\\\n",
       "  & <chr> & <dbl> & <int> & <chr> & <dbl> & <lgl> & <int>\\\\\n",
       "\\hline\n",
       "\t3 & Nursery.Field   & 2.8 &  3 & Grassland & 4.3 & FALSE & 2\\\\\n",
       "\t1 & Nashs.Field     & 3.6 & 11 & Grassland & 4.1 & FALSE & 4\\\\\n",
       "\t5 & Gunness.Thicket & 3.8 &  0 & Scrub     & 4.2 & FALSE & 6\\\\\n",
       "\\end{tabular}\n"
      ],
      "text/markdown": [
       "\n",
       "A data.frame: 3 × 7\n",
       "\n",
       "| <!--/--> | Field.Name &lt;chr&gt; | Area &lt;dbl&gt; | Slope &lt;int&gt; | Vegetation &lt;chr&gt; | Soil.pH &lt;dbl&gt; | Damp &lt;lgl&gt; | Worm.density &lt;int&gt; |\n",
       "|---|---|---|---|---|---|---|---|\n",
       "| 3 | Nursery.Field   | 2.8 |  3 | Grassland | 4.3 | FALSE | 2 |\n",
       "| 1 | Nashs.Field     | 3.6 | 11 | Grassland | 4.1 | FALSE | 4 |\n",
       "| 5 | Gunness.Thicket | 3.8 |  0 | Scrub     | 4.2 | FALSE | 6 |\n",
       "\n"
      ],
      "text/plain": [
       "  Field.Name      Area Slope Vegetation Soil.pH Damp  Worm.density\n",
       "3 Nursery.Field   2.8   3    Grassland  4.3     FALSE 2           \n",
       "1 Nashs.Field     3.6  11    Grassland  4.1     FALSE 4           \n",
       "5 Gunness.Thicket 3.8   0    Scrub      4.2     FALSE 6           "
      ]
     },
     "metadata": {},
     "output_type": "display_data"
    }
   ],
   "source": [
    "worms[sample(1:7, 3),]"
   ]
  },
  {
   "cell_type": "code",
   "execution_count": 14,
   "id": "c1eb25e6-6d2c-4ef3-83e1-cc54c6e49936",
   "metadata": {},
   "outputs": [
    {
     "data": {
      "text/html": [
       "<table class=\"dataframe\">\n",
       "<caption>A data.frame: 5 × 7</caption>\n",
       "<thead>\n",
       "\t<tr><th></th><th scope=col>Field.Name</th><th scope=col>Area</th><th scope=col>Slope</th><th scope=col>Vegetation</th><th scope=col>Soil.pH</th><th scope=col>Damp</th><th scope=col>Worm.density</th></tr>\n",
       "\t<tr><th></th><th scope=col>&lt;chr&gt;</th><th scope=col>&lt;dbl&gt;</th><th scope=col>&lt;int&gt;</th><th scope=col>&lt;chr&gt;</th><th scope=col>&lt;dbl&gt;</th><th scope=col>&lt;lgl&gt;</th><th scope=col>&lt;int&gt;</th></tr>\n",
       "</thead>\n",
       "<tbody>\n",
       "\t<tr><th scope=row>5</th><td>Gunness.Thicket</td><td>3.8</td><td>0</td><td>Scrub    </td><td>4.2</td><td>FALSE</td><td>6</td></tr>\n",
       "\t<tr><th scope=row>7</th><td>Church.Field   </td><td>3.5</td><td>3</td><td>Grassland</td><td>4.2</td><td>FALSE</td><td>3</td></tr>\n",
       "\t<tr><th scope=row>6</th><td>Oak.Mead       </td><td>3.1</td><td>2</td><td>Grassland</td><td>3.9</td><td>FALSE</td><td>2</td></tr>\n",
       "\t<tr><th scope=row>7.1</th><td>Church.Field   </td><td>3.5</td><td>3</td><td>Grassland</td><td>4.2</td><td>FALSE</td><td>3</td></tr>\n",
       "\t<tr><th scope=row>7.2</th><td>Church.Field   </td><td>3.5</td><td>3</td><td>Grassland</td><td>4.2</td><td>FALSE</td><td>3</td></tr>\n",
       "</tbody>\n",
       "</table>\n"
      ],
      "text/latex": [
       "A data.frame: 5 × 7\n",
       "\\begin{tabular}{r|lllllll}\n",
       "  & Field.Name & Area & Slope & Vegetation & Soil.pH & Damp & Worm.density\\\\\n",
       "  & <chr> & <dbl> & <int> & <chr> & <dbl> & <lgl> & <int>\\\\\n",
       "\\hline\n",
       "\t5 & Gunness.Thicket & 3.8 & 0 & Scrub     & 4.2 & FALSE & 6\\\\\n",
       "\t7 & Church.Field    & 3.5 & 3 & Grassland & 4.2 & FALSE & 3\\\\\n",
       "\t6 & Oak.Mead        & 3.1 & 2 & Grassland & 3.9 & FALSE & 2\\\\\n",
       "\t7.1 & Church.Field    & 3.5 & 3 & Grassland & 4.2 & FALSE & 3\\\\\n",
       "\t7.2 & Church.Field    & 3.5 & 3 & Grassland & 4.2 & FALSE & 3\\\\\n",
       "\\end{tabular}\n"
      ],
      "text/markdown": [
       "\n",
       "A data.frame: 5 × 7\n",
       "\n",
       "| <!--/--> | Field.Name &lt;chr&gt; | Area &lt;dbl&gt; | Slope &lt;int&gt; | Vegetation &lt;chr&gt; | Soil.pH &lt;dbl&gt; | Damp &lt;lgl&gt; | Worm.density &lt;int&gt; |\n",
       "|---|---|---|---|---|---|---|---|\n",
       "| 5 | Gunness.Thicket | 3.8 | 0 | Scrub     | 4.2 | FALSE | 6 |\n",
       "| 7 | Church.Field    | 3.5 | 3 | Grassland | 4.2 | FALSE | 3 |\n",
       "| 6 | Oak.Mead        | 3.1 | 2 | Grassland | 3.9 | FALSE | 2 |\n",
       "| 7.1 | Church.Field    | 3.5 | 3 | Grassland | 4.2 | FALSE | 3 |\n",
       "| 7.2 | Church.Field    | 3.5 | 3 | Grassland | 4.2 | FALSE | 3 |\n",
       "\n"
      ],
      "text/plain": [
       "    Field.Name      Area Slope Vegetation Soil.pH Damp  Worm.density\n",
       "5   Gunness.Thicket 3.8  0     Scrub      4.2     FALSE 6           \n",
       "7   Church.Field    3.5  3     Grassland  4.2     FALSE 3           \n",
       "6   Oak.Mead        3.1  2     Grassland  3.9     FALSE 2           \n",
       "7.1 Church.Field    3.5  3     Grassland  4.2     FALSE 3           \n",
       "7.2 Church.Field    3.5  3     Grassland  4.2     FALSE 3           "
      ]
     },
     "metadata": {},
     "output_type": "display_data"
    }
   ],
   "source": [
    "worms[sample(1:7, 5, replace = T),]"
   ]
  },
  {
   "cell_type": "code",
   "execution_count": 18,
   "id": "16239f60-543b-4390-9cb7-c6313da55fe7",
   "metadata": {},
   "outputs": [
    {
     "data": {
      "text/html": [
       "<time datetime=\"2022-12-08\">2022-12-08</time>"
      ],
      "text/latex": [
       "2022-12-08"
      ],
      "text/markdown": [
       "2022-12-08"
      ],
      "text/plain": [
       "[1] \"2022-12-08\""
      ]
     },
     "metadata": {},
     "output_type": "display_data"
    }
   ],
   "source": [
    "Sys.Date()"
   ]
  },
  {
   "cell_type": "code",
   "execution_count": 19,
   "id": "101aaad7-8740-4cd1-8920-6494cbddef3b",
   "metadata": {},
   "outputs": [
    {
     "data": {
      "text/plain": [
       "[1] \"2022-12-08 20:48:37 UTC\""
      ]
     },
     "metadata": {},
     "output_type": "display_data"
    }
   ],
   "source": [
    "Sys.time()"
   ]
  },
  {
   "cell_type": "code",
   "execution_count": null,
   "id": "210fffe3-ffe8-4547-9357-d6f8ef9067bd",
   "metadata": {},
   "outputs": [],
   "source": []
  }
 ],
 "metadata": {
  "kernelspec": {
   "display_name": "R (system-wide)",
   "language": "r",
   "name": "ir"
  },
  "language_info": {
   "codemirror_mode": "r",
   "file_extension": ".r",
   "mimetype": "text/x-r-source",
   "name": "R",
   "pygments_lexer": "r",
   "version": "4.2.2"
  }
 },
 "nbformat": 4,
 "nbformat_minor": 5
}
