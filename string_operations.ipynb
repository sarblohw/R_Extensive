{
 "cells": [
  {
   "cell_type": "markdown",
   "id": "c1e5d8e4",
   "metadata": {},
   "source": [
    "Here are the functions available for string manipulation in R:\n",
    "\n",
    "grep()  \n",
    "nchar()  \n",
    "paste()  \n",
    "sprintf()  \n",
    "substr()  \n",
    "strsplit()  \n",
    "regex()  \n",
    "gregexpr()  "
   ]
  },
  {
   "cell_type": "code",
   "execution_count": null,
   "id": "97e4b61c",
   "metadata": {},
   "outputs": [],
   "source": []
  }
 ],
 "metadata": {
  "kernelspec": {
   "display_name": "Julia 1.8.3",
   "language": "julia",
   "name": "julia-1.8"
  },
  "language_info": {
   "file_extension": ".jl",
   "mimetype": "application/julia",
   "name": "julia",
   "version": "1.8.3"
  }
 },
 "nbformat": 4,
 "nbformat_minor": 5
}
